{
 "cells": [
  {
   "cell_type": "code",
   "execution_count": 1,
   "metadata": {},
   "outputs": [
    {
     "name": "stdout",
     "output_type": "stream",
     "text": [
      "empty_list_1: []\n",
      "empty_list_2: []\n"
     ]
    }
   ],
   "source": [
    "# two ways to create an empty list\n",
    "empty_list_1 = []\n",
    "empty_list_2 = list()\n",
    "print('empty_list_1:', empty_list_1)\n",
    "print('empty_list_2:', empty_list_2)"
   ]
  },
  {
   "cell_type": "code",
   "execution_count": 2,
   "metadata": {},
   "outputs": [
    {
     "name": "stdout",
     "output_type": "stream",
     "text": [
      "alphabets_cat:  ['c', 'a', 't']\n"
     ]
    }
   ],
   "source": [
    "# list() can convert a string into a list of characters\n",
    "alphabets_cat = list('cat')\n",
    "print('alphabets_cat: ', alphabets_cat)"
   ]
  },
  {
   "cell_type": "code",
   "execution_count": 3,
   "metadata": {},
   "outputs": [
    {
     "name": "stdout",
     "output_type": "stream",
     "text": [
      "He was born on 10/12 in 1981.\n"
     ]
    }
   ],
   "source": [
    "# str.split() to split a string into sub-strings\n",
    "birthday = '1981/10/12'\n",
    "birthday = birthday.split('/')\n",
    "print(f'He was born on {birthday[1]}/{birthday[2]} in {birthday[0]}.')"
   ]
  },
  {
   "cell_type": "code",
   "execution_count": 4,
   "metadata": {},
   "outputs": [
    {
     "name": "stdout",
     "output_type": "stream",
     "text": [
      "1981-10-12\n"
     ]
    }
   ],
   "source": [
    "# str.replace(src_str, dst_str) to replace src_str with dst_str (not an inplace operation)\n",
    "birthday = '1981/10/12'\n",
    "birthday = birthday.replace('/', '-')\n",
    "print(birthday)"
   ]
  },
  {
   "cell_type": "code",
   "execution_count": 5,
   "metadata": {},
   "outputs": [
    {
     "name": "stdout",
     "output_type": "stream",
     "text": [
      "[['Ann', 'Bob', 'Claire', 'Ellen'], ['pizza', 'hamburg', 'fruits', 'steak']]\n"
     ]
    }
   ],
   "source": [
    "# a list of list\n",
    "names = ['Ann', 'Bob', 'Claire', 'Ellen']\n",
    "foods = ['pizza', 'hamburg', 'fruits', 'steak']\n",
    "list_2D = [names, foods]\n",
    "print(list_2D)"
   ]
  },
  {
   "cell_type": "code",
   "execution_count": 7,
   "metadata": {},
   "outputs": [
    {
     "name": "stdout",
     "output_type": "stream",
     "text": [
      "Claire loves fruits.\n"
     ]
    }
   ],
   "source": [
    "# Use index to get values in  a list\n",
    "print(f'{list_2D[0][2]} loves {list_2D[1][2]}.')"
   ]
  },
  {
   "cell_type": "code",
   "execution_count": 9,
   "metadata": {},
   "outputs": [
    {
     "name": "stdout",
     "output_type": "stream",
     "text": [
      "['Ann', 'Bob', 'Claire', 'Ellen', 'Frank']\n"
     ]
    }
   ],
   "source": [
    "# list.append(), add a new element to the end of a list\n",
    "names = ['Ann', 'Bob', 'Claire', 'Ellen']\n",
    "names.append('Frank')\n",
    "print(names)"
   ]
  },
  {
   "cell_type": "code",
   "execution_count": 4,
   "metadata": {},
   "outputs": [
    {
     "name": "stdout",
     "output_type": "stream",
     "text": [
      "['Ann', 'Bob', 'Claire', 'Ellen', ['Frank', 'George']]\n"
     ]
    }
   ],
   "source": [
    "# This will append a list of two elements to a list\n",
    "names = ['Ann', 'Bob', 'Claire', 'Ellen']\n",
    "names.append(['Frank', 'George'])\n",
    "print(names)"
   ]
  },
  {
   "cell_type": "code",
   "execution_count": 5,
   "metadata": {},
   "outputs": [
    {
     "name": "stdout",
     "output_type": "stream",
     "text": [
      "['Ann', 'Bob', 'Claire', 'Ellen', 'Frank', 'George']\n"
     ]
    }
   ],
   "source": [
    "# list.extend() to add multiple elements to a list\n",
    "names = ['Ann', 'Bob', 'Claire', 'Ellen']\n",
    "names.extend(['Frank', 'George'])\n",
    "print(names)"
   ]
  },
  {
   "cell_type": "code",
   "execution_count": 14,
   "metadata": {},
   "outputs": [
    {
     "name": "stdout",
     "output_type": "stream",
     "text": [
      "['Ann', 'Bob', 'Claire', 'Ellen', 'Frank', 'George']\n"
     ]
    }
   ],
   "source": [
    "# use \"+\" to easily concatenate two lists\n",
    "names = ['Ann', 'Bob', 'Claire', 'Ellen']\n",
    "names += ['Frank', 'George']\n",
    "print(names)"
   ]
  },
  {
   "cell_type": "code",
   "execution_count": 15,
   "metadata": {},
   "outputs": [
    {
     "name": "stdout",
     "output_type": "stream",
     "text": [
      "['Ann', 'Bob', 'Claire', 'Ellen', 'Frank']\n"
     ]
    }
   ],
   "source": [
    "# list.insert(index, element), insert a new element to the designated position in a list\n",
    "names = ['Ann', 'Bob', 'Claire', 'Frank']\n",
    "names.insert(3, 'Ellen')\n",
    "print(names)"
   ]
  },
  {
   "cell_type": "code",
   "execution_count": 6,
   "metadata": {},
   "outputs": [
    {
     "name": "stdout",
     "output_type": "stream",
     "text": [
      "['Ann', 'Bob', 'Claire', 'Ellen', 'Frank']\n",
      "['Ann', 'Bob', 'Ellen', 'Frank']\n"
     ]
    }
   ],
   "source": [
    "# list.pop() to take out the last element in a list\n",
    "names = ['Ann', 'Bob', 'Claire', 'Ellen', 'Frank', 'George']\n",
    "names.pop()\n",
    "print(names)\n",
    "# list.pop(index) to take out an element at the designated position in a list\n",
    "names.pop(2)\n",
    "print(names)"
   ]
  },
  {
   "cell_type": "code",
   "execution_count": 8,
   "metadata": {},
   "outputs": [
    {
     "name": "stdout",
     "output_type": "stream",
     "text": [
      "['Ann', 'Claire', 'Ellen', 'Frank', 'George']\n",
      "['Ann', 'Claire', 'Frank', 'George']\n"
     ]
    }
   ],
   "source": [
    "# list.remove() to remove an element from a list\n",
    "names = ['Ann', 'Bob', 'Claire', 'Ellen', 'Frank', 'George']\n",
    "names.remove('Bob')\n",
    "print(names)\n",
    "\n",
    "# del to delete an element at the designated position in a list\n",
    "del names[2]\n",
    "print(names)"
   ]
  },
  {
   "cell_type": "code",
   "execution_count": 23,
   "metadata": {},
   "outputs": [
    {
     "name": "stdout",
     "output_type": "stream",
     "text": [
      "1\n"
     ]
    }
   ],
   "source": [
    "# list.index(element), get the index of an element in a list\n",
    "names = ['Ann', 'Bob', 'Claire', 'Ellen', 'Frank', 'George']\n",
    "print(names.index('Bob'))"
   ]
  },
  {
   "cell_type": "code",
   "execution_count": 9,
   "metadata": {},
   "outputs": [
    {
     "name": "stdout",
     "output_type": "stream",
     "text": [
      "Ann is in the name list: True\n",
      "Claire is not in the name list: False\n"
     ]
    }
   ],
   "source": [
    "# \"in\" to check whether an element is in a list, return True or False\n",
    "print('Ann is in the name list:', 'Ann' in names)\n",
    "\n",
    "# \"not in\" to check whether an element is not in a list, return True or False\n",
    "print('Claire is not in the name list:', 'Claire' not in names)"
   ]
  },
  {
   "cell_type": "code",
   "execution_count": 10,
   "metadata": {},
   "outputs": [
    {
     "name": "stdout",
     "output_type": "stream",
     "text": [
      "There are 2 Ann in the name list.\n"
     ]
    }
   ],
   "source": [
    "# list.count() to count how many elements are contained in a list\n",
    "names = ['Ann', 'Bob', 'Claire', 'Ann', 'Frank', 'George']\n",
    "print('There are', names.count('Ann'), 'Ann in the name list.')"
   ]
  },
  {
   "cell_type": "code",
   "execution_count": 11,
   "metadata": {},
   "outputs": [
    {
     "name": "stdout",
     "output_type": "stream",
     "text": [
      "We have Ann, Bob, Claire, Ellen, Frank, George in the team.\n"
     ]
    }
   ],
   "source": [
    "# 'string'.join(list) to join all elements in a list, separated by the designated string\n",
    "names = ['Ann', 'Bob', 'Claire', 'Ellen', 'Frank', 'George']\n",
    "print('We have', ', '.join(names), 'in the team.')"
   ]
  },
  {
   "cell_type": "code",
   "execution_count": 30,
   "metadata": {},
   "outputs": [
    {
     "name": "stdout",
     "output_type": "stream",
     "text": [
      "[1, 1, 2, 5, 6, 9, 9]\n"
     ]
    }
   ],
   "source": [
    "# list.sort() to sort values in a list (default: ascending), inplace operation\n",
    "num_list = [5, 1, 9, 1, 9, 2, 6]\n",
    "num_list.sort()\n",
    "print(num_list)"
   ]
  },
  {
   "cell_type": "code",
   "execution_count": 32,
   "metadata": {},
   "outputs": [
    {
     "name": "stdout",
     "output_type": "stream",
     "text": [
      "[9, 9, 6, 5, 2, 1, 1]\n"
     ]
    }
   ],
   "source": [
    "# list.sort() to sort values in a list (\"reverse\" to change the order into descending)\n",
    "num_list = [5, 1, 9, 1, 9, 2, 6]\n",
    "num_list.sort(reverse=True)\n",
    "print(num_list)"
   ]
  },
  {
   "cell_type": "code",
   "execution_count": 12,
   "metadata": {},
   "outputs": [
    {
     "name": "stdout",
     "output_type": "stream",
     "text": [
      "[1, 1, 2, 5, 6, 9, 9]\n",
      "[5, 1, 9, 1, 9, 2, 6]\n"
     ]
    }
   ],
   "source": [
    "# sorted(): Python's built-in function for sorting, not an inplace operation\n",
    "num_list = [5, 1, 9, 1, 9, 2, 6]\n",
    "print(sorted(num_list))\n",
    "print(num_list)"
   ]
  },
  {
   "cell_type": "code",
   "execution_count": 13,
   "metadata": {},
   "outputs": [
    {
     "name": "stdout",
     "output_type": "stream",
     "text": [
      "[5, 1, 9, 1, 9, 2, 6]\n",
      "4557395400\n",
      "[5, 1, 9, 1, 9, 2, 6]\n",
      "4558118664\n",
      "True\n",
      "False\n"
     ]
    }
   ],
   "source": [
    "# list.copy() to duplicate a list (different id)\n",
    "num_list = [5, 1, 9, 1, 9, 2, 6]\n",
    "num_list_1 = num_list\n",
    "num_list_2 = num_list.copy()\n",
    "print(num_list_1)\n",
    "print(id(num_list_1))\n",
    "print(num_list_2)\n",
    "print(id(num_list_2))\n",
    "\n",
    "# \"==\" to check whether the values are equal\n",
    "print(num_list_1 == num_list_2)\n",
    "\n",
    "# \"is\" to check whether two objects are identical\n",
    "print(num_list_1 is num_list_2)"
   ]
  },
  {
   "cell_type": "code",
   "execution_count": 36,
   "metadata": {},
   "outputs": [
    {
     "name": "stdout",
     "output_type": "stream",
     "text": [
      "[5, 1, 9, 1, 9, 2, 6]\n",
      "[5, 1, 9, 1, 9, 2, 6]\n",
      "[0, 1, 9, 1, 9, 2, 6]\n"
     ]
    }
   ],
   "source": [
    "# Be careful not to accidentally change values of a list unless you want to do it\n",
    "num_list_2[0] = 0\n",
    "print(num_list)\n",
    "print(num_list_1)\n",
    "print(num_list_2)"
   ]
  },
  {
   "cell_type": "code",
   "execution_count": 37,
   "metadata": {},
   "outputs": [
    {
     "name": "stdout",
     "output_type": "stream",
     "text": [
      "[7, 1, 9, 1, 9, 2, 6]\n",
      "[7, 1, 9, 1, 9, 2, 6]\n",
      "[0, 1, 9, 1, 9, 2, 6]\n"
     ]
    }
   ],
   "source": [
    "# Be careful not to accidentally change values of a list unless you want to do it\n",
    "num_list_1[0] = 7\n",
    "print(num_list)\n",
    "print(num_list_1)\n",
    "print(num_list_2)"
   ]
  },
  {
   "cell_type": "code",
   "execution_count": 14,
   "metadata": {},
   "outputs": [
    {
     "name": "stdout",
     "output_type": "stream",
     "text": [
      "True\n",
      "4556781896\n",
      "4556783176\n",
      "4556782664\n",
      "4558232584\n"
     ]
    }
   ],
   "source": [
    "# Three ways to duplicate a list\n",
    "num_list = [5, 1, 9, 1, 9, 2, 6]\n",
    "num_list_1 = num_list.copy()\n",
    "num_list_2 = num_list[:]\n",
    "num_list_3 = list(num_list)\n",
    "print(num_list == num_list_1 == num_list_2 == num_list_3)\n",
    "print(id(num_list))\n",
    "print(id(num_list_1))\n",
    "print(id(num_list_2))\n",
    "print(id(num_list_3))"
   ]
  },
  {
   "cell_type": "code",
   "execution_count": 41,
   "metadata": {},
   "outputs": [
    {
     "name": "stdout",
     "output_type": "stream",
     "text": [
      "('apple', 'blueberry', 'cherry')\n"
     ]
    }
   ],
   "source": [
    "# tuple: immutable (elements separated by \",\")\n",
    "fruit_tp = 'apple', 'blueberry', 'cherry'\n",
    "print(fruit_tp)"
   ]
  },
  {
   "cell_type": "code",
   "execution_count": 42,
   "metadata": {},
   "outputs": [
    {
     "name": "stdout",
     "output_type": "stream",
     "text": [
      "('apple', 'blueberry', 'cherry')\n"
     ]
    }
   ],
   "source": [
    "# tuple\n",
    "fruit_tp = ('apple', 'blueberry', 'cherry')  # easier to read with ()\n",
    "print(fruit_tp)"
   ]
  },
  {
   "cell_type": "code",
   "execution_count": 43,
   "metadata": {},
   "outputs": [
    {
     "name": "stdout",
     "output_type": "stream",
     "text": [
      "apple\n",
      "blueberry\n",
      "cherry\n"
     ]
    }
   ],
   "source": [
    "# tuple unpacking\n",
    "x, y, z = fruit_tp\n",
    "print(x)\n",
    "print(y)\n",
    "print(z)"
   ]
  },
  {
   "cell_type": "code",
   "execution_count": 45,
   "metadata": {},
   "outputs": [
    {
     "name": "stdout",
     "output_type": "stream",
     "text": [
      "('apple', 'blueberry', 'cherry')\n",
      "('apple', 'blueberry')\n",
      "cherry\n"
     ]
    }
   ],
   "source": [
    "# tuple supports indexing\n",
    "print(fruit_tp[:])\n",
    "print(fruit_tp[:2])\n",
    "print(fruit_tp[2])"
   ]
  },
  {
   "cell_type": "code",
   "execution_count": 46,
   "metadata": {},
   "outputs": [
    {
     "ename": "TypeError",
     "evalue": "'tuple' object does not support item assignment",
     "output_type": "error",
     "traceback": [
      "\u001b[0;31m---------------------------------------------------------------------------\u001b[0m",
      "\u001b[0;31mTypeError\u001b[0m                                 Traceback (most recent call last)",
      "\u001b[0;32m<ipython-input-46-6a98d36cc896>\u001b[0m in \u001b[0;36m<module>\u001b[0;34m()\u001b[0m\n\u001b[0;32m----> 1\u001b[0;31m \u001b[0mfruit_tp\u001b[0m\u001b[0;34m[\u001b[0m\u001b[0;36m1\u001b[0m\u001b[0;34m]\u001b[0m \u001b[0;34m=\u001b[0m \u001b[0;34m'berries'\u001b[0m\u001b[0;34m\u001b[0m\u001b[0m\n\u001b[0m",
      "\u001b[0;31mTypeError\u001b[0m: 'tuple' object does not support item assignment"
     ]
    }
   ],
   "source": [
    "# tuple is immutable\n",
    "fruit_tp[1] = 'berries'"
   ]
  },
  {
   "cell_type": "code",
   "execution_count": 21,
   "metadata": {},
   "outputs": [
    {
     "name": "stdout",
     "output_type": "stream",
     "text": [
      "{'Ann': 'pizza', 'Bob': 'hamburg', 'Claire': 'fruits', 'Ellen': 'steak'}\n"
     ]
    }
   ],
   "source": [
    "# zip()\n",
    "names = ['Ann', 'Bob', 'Claire', 'Ellen']\n",
    "foods = ['pizza', 'hamburg', 'fruits', 'steak']\n",
    "food_preference = dict(zip(names, foods))\n",
    "print(food_preference)"
   ]
  },
  {
   "cell_type": "code",
   "execution_count": 22,
   "metadata": {},
   "outputs": [
    {
     "name": "stdout",
     "output_type": "stream",
     "text": [
      "dict_keys(['Ann', 'Bob', 'Claire', 'Ellen'])\n",
      "dict_values(['pizza', 'hamburg', 'fruits', 'steak'])\n",
      "dict_items([('Ann', 'pizza'), ('Bob', 'hamburg'), ('Claire', 'fruits'), ('Ellen', 'steak')])\n",
      "pizza\n"
     ]
    }
   ],
   "source": [
    "# key-value pairs in dict\n",
    "print(food_preference.keys())\n",
    "print(food_preference.values())\n",
    "print(food_preference.items())\n",
    "\n",
    "# dict uses key (unique) to retrieve value\n",
    "print(food_preference['Ann'])"
   ]
  },
  {
   "cell_type": "code",
   "execution_count": 23,
   "metadata": {},
   "outputs": [
    {
     "name": "stdout",
     "output_type": "stream",
     "text": [
      "{'Bob': 'hamburg', 'Claire': 'fruits', 'Ellen': 'steak'}\n"
     ]
    }
   ],
   "source": [
    "# del a key-value pair in dict\n",
    "del food_preference['Ann']\n",
    "print(food_preference)"
   ]
  },
  {
   "cell_type": "code",
   "execution_count": 24,
   "metadata": {},
   "outputs": [
    {
     "name": "stdout",
     "output_type": "stream",
     "text": [
      "{}\n"
     ]
    }
   ],
   "source": [
    "# clear the whole dit\n",
    "food_preference.clear()\n",
    "print(food_preference)"
   ]
  },
  {
   "cell_type": "code",
   "execution_count": 27,
   "metadata": {},
   "outputs": [
    {
     "name": "stdout",
     "output_type": "stream",
     "text": [
      "Ann is in the keys: True\n",
      "Frank is not in the keys: True\n"
     ]
    }
   ],
   "source": [
    "# \"in\" and \"not in\" to check whether a key exists or not exists in a dict\n",
    "food_preference = {'Ann': 'pizza', 'Bob': 'hamburg', 'Claire': 'fruits', 'Ellen': 'steak'}\n",
    "print('Ann is in the keys:', 'Ann' in food_preference)\n",
    "print('Frank is not in the keys:', 'Frank' not in food_preference)"
   ]
  },
  {
   "cell_type": "code",
   "execution_count": 28,
   "metadata": {},
   "outputs": [
    {
     "name": "stdout",
     "output_type": "stream",
     "text": [
      "pizza\n",
      "not in the dict\n"
     ]
    }
   ],
   "source": [
    "# dict.get(key, default value)\n",
    "print(food_preference.get('Ann', 'not in the dict'))\n",
    "print(food_preference.get('Frank', 'not in the dict'))"
   ]
  },
  {
   "cell_type": "code",
   "execution_count": 62,
   "metadata": {},
   "outputs": [
    {
     "name": "stdout",
     "output_type": "stream",
     "text": [
      "<class 'set'>\n",
      "<class 'dict'>\n"
     ]
    }
   ],
   "source": [
    "# set() to create an empty set\n",
    "empty_set = set()\n",
    "print(type(set()))\n",
    "print(type({}))"
   ]
  },
  {
   "cell_type": "code",
   "execution_count": 29,
   "metadata": {},
   "outputs": [
    {
     "name": "stdout",
     "output_type": "stream",
     "text": [
      "{1, 2, 5, 6, 9}\n"
     ]
    }
   ],
   "source": [
    "# set(iterabale object) to collect unique elements\n",
    "num_list = [5, 1, 9, 1, 9, 2, 6]\n",
    "print(set(num_list))"
   ]
  },
  {
   "cell_type": "code",
   "execution_count": 33,
   "metadata": {},
   "outputs": [
    {
     "name": "stdout",
     "output_type": "stream",
     "text": [
      "{0, 2, 4, 5, 6, 7, 9}\n",
      "{0, 1, 2, 3, 5}\n"
     ]
    }
   ],
   "source": [
    "num_list_1 = set([7, 4, 0, 5, 2, 9, 6])\n",
    "num_list_2 = set([2, 5, 3, 1, 3, 3, 0])\n",
    "print(num_list_1)\n",
    "print(num_list_2)"
   ]
  },
  {
   "cell_type": "code",
   "execution_count": 35,
   "metadata": {},
   "outputs": [
    {
     "name": "stdout",
     "output_type": "stream",
     "text": [
      "{0, 2, 5}\n",
      "{0, 1, 2, 3, 4, 5, 6, 7, 9}\n",
      "{9, 4, 6, 7}\n",
      "{1, 3, 4, 6, 7, 9}\n"
     ]
    }
   ],
   "source": [
    "# set operations\n",
    "print(num_list_1.intersection(num_list_2))\n",
    "print(num_list_1.union(num_list_2))\n",
    "print(num_list_1.difference(num_list_2))\n",
    "print(num_list_1.symmetric_difference(num_list_2))"
   ]
  },
  {
   "cell_type": "code",
   "execution_count": 36,
   "metadata": {},
   "outputs": [
    {
     "name": "stdout",
     "output_type": "stream",
     "text": [
      "{0, 2, 5}\n",
      "{0, 1, 2, 3, 4, 5, 6, 7, 9}\n",
      "{9, 4, 6, 7}\n",
      "{1, 3, 4, 6, 7, 9}\n"
     ]
    }
   ],
   "source": [
    "print(num_list_1 & num_list_2)\n",
    "print(num_list_1 | num_list_2)\n",
    "print(num_list_1 - num_list_2)\n",
    "print(num_list_1 ^ num_list_2)"
   ]
  },
  {
   "cell_type": "code",
   "execution_count": 37,
   "metadata": {},
   "outputs": [
    {
     "name": "stdout",
     "output_type": "stream",
     "text": [
      "True\n",
      "True\n",
      "True\n",
      "True\n"
     ]
    }
   ],
   "source": [
    "num_list_1 = set([5, 2, 5])\n",
    "num_list_2 = set([7, 4, 0, 5, 2, 9, 6])\n",
    "print(num_list_1.issubset(num_list_2))\n",
    "print(num_list_2.issuperset(num_list_1))\n",
    "print(num_list_1 <= num_list_2)\n",
    "print(num_list_2 >= num_list_1)"
   ]
  },
  {
   "cell_type": "code",
   "execution_count": null,
   "metadata": {},
   "outputs": [],
   "source": []
  }
 ],
 "metadata": {
  "kernelspec": {
   "display_name": "Python 3",
   "language": "python",
   "name": "python3"
  },
  "language_info": {
   "codemirror_mode": {
    "name": "ipython",
    "version": 3
   },
   "file_extension": ".py",
   "mimetype": "text/x-python",
   "name": "python",
   "nbconvert_exporter": "python",
   "pygments_lexer": "ipython3",
   "version": "3.6.5"
  }
 },
 "nbformat": 4,
 "nbformat_minor": 2
}
