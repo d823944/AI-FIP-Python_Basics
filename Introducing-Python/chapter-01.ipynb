{
 "cells": [
  {
   "cell_type": "code",
   "execution_count": 18,
   "metadata": {},
   "outputs": [
    {
     "name": "stdout",
     "output_type": "stream",
     "text": [
      "id(x) = 4408513952\n",
      "type(x) = <class 'int'>\n"
     ]
    }
   ],
   "source": [
    "x = 3\n",
    "print(f'id(x) = {id(x)}\\ntype(x) = {type(x)}')"
   ]
  },
  {
   "cell_type": "code",
   "execution_count": 19,
   "metadata": {},
   "outputs": [
    {
     "name": "stdout",
     "output_type": "stream",
     "text": [
      "id(z) = 4408513952\n",
      "type(z) = <class 'int'>\n"
     ]
    }
   ],
   "source": [
    "z = x\n",
    "print(f'id(z) = {id(z)}\\ntype(z) = {type(z)}')"
   ]
  },
  {
   "cell_type": "code",
   "execution_count": 20,
   "metadata": {},
   "outputs": [
    {
     "name": "stdout",
     "output_type": "stream",
     "text": [
      "id(language) = 4410858552\n",
      "type(language) = <class 'str'>\n",
      "id(version) = 4440943352\n",
      "type(version) = <class 'float'>\n"
     ]
    }
   ],
   "source": [
    "language = 'Python'\n",
    "version = 3.6\n",
    "print(f'id(language) = {id(language)}\\ntype(language) = {type(language)}')\n",
    "print(f'id(version) = {id(version)}\\ntype(version) = {type(version)}')"
   ]
  },
  {
   "cell_type": "code",
   "execution_count": 21,
   "metadata": {},
   "outputs": [
    {
     "name": "stdout",
     "output_type": "stream",
     "text": [
      "I am learning Python Version 3.6.\n"
     ]
    }
   ],
   "source": [
    "print(\n",
    "    f'I am learning {language} '\n",
    "    f'Version {version}.'\n",
    ")"
   ]
  },
  {
   "cell_type": "code",
   "execution_count": 22,
   "metadata": {},
   "outputs": [
    {
     "name": "stdout",
     "output_type": "stream",
     "text": [
      "19 + 7 =  26.00\n",
      "19 - 7 =  12.00\n",
      "19 * 7 =  133.00\n",
      "19 / 7 =  2.71\n",
      "19 // 7 =  2\n",
      "19 % 7 =  5\n",
      "19 ** 7 =  893871739\n"
     ]
    }
   ],
   "source": [
    "x = 19\n",
    "y = 7\n",
    "print(f'{x} + {y} = {x + y: .2f}')\n",
    "print(f'{x} - {y} = {x - y: .2f}')\n",
    "print(f'{x} * {y} = {x * y: .2f}')\n",
    "print(f'{x} / {y} = {x / y: .2f}')\n",
    "print(f'{x} // {y} = {x // y: .0f}')\n",
    "print(f'{x} % {y} = {x % y: .0f}')\n",
    "print(f'{x} ** {y} = {x ** y: .0f}')"
   ]
  },
  {
   "cell_type": "code",
   "execution_count": null,
   "metadata": {},
   "outputs": [],
   "source": []
  }
 ],
 "metadata": {
  "kernelspec": {
   "display_name": "Python 3",
   "language": "python",
   "name": "python3"
  },
  "language_info": {
   "codemirror_mode": {
    "name": "ipython",
    "version": 3
   },
   "file_extension": ".py",
   "mimetype": "text/x-python",
   "name": "python",
   "nbconvert_exporter": "python",
   "pygments_lexer": "ipython3",
   "version": "3.6.5"
  }
 },
 "nbformat": 4,
 "nbformat_minor": 2
}
