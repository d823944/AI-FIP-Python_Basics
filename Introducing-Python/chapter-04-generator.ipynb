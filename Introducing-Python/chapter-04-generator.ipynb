{
 "cells": [
  {
   "cell_type": "code",
   "execution_count": 28,
   "metadata": {},
   "outputs": [
    {
     "name": "stdout",
     "output_type": "stream",
     "text": [
      "['Heart-Q', 'Spade-3', 'Diamond-J', 'Heart-9', 'Heart-10']\n",
      "['Club-J', 'Spade-2', 'Club-K', 'Heart-4', 'Spade-5']\n",
      "['Club-5', 'Heart-K', 'Club-A', 'Heart-5', 'Diamond-Q']\n",
      "['Diamond-10', 'Diamond-A', 'Heart-2', 'Spade-K', 'Spade-J']\n",
      "['Spade-10', 'Diamond-2', 'Diamond-K', 'Club-6', 'Club-7']\n",
      "['Heart-8', 'Diamond-7', 'Heart-J', 'Diamond-8', 'Club-Q']\n",
      "['Heart-7', 'Spade-Q', 'Diamond-6', 'Spade-A', 'Spade-7']\n",
      "['Heart-6', 'Heart-A', 'Diamond-9', 'Spade-8', 'Spade-6']\n",
      "['Club-8', 'Diamond-5', 'Club-9', 'Heart-3', 'Club-10']\n",
      "['Diamond-4', 'Spade-4', 'Spade-9', 'Club-4', 'Diamond-3']\n"
     ]
    }
   ],
   "source": [
    "def poker():\n",
    "    import numpy as np\n",
    "    ranks = ['Spade-', 'Heart-', 'Diamond-', 'Club-']\n",
    "    num = ['A', '2', '3', '4', '5', '6', '7', '8', '9', '10', 'J', 'Q', 'K']\n",
    "    cards = np.arange(52)\n",
    "    np.random.shuffle(cards)\n",
    "    for card in cards:\n",
    "        yield ranks[card % 4] + num[card // 4]\n",
    "    \n",
    "card_gen = poker()\n",
    "for iter in range(10):\n",
    "    print([next(card_gen) for i in range(5)])\n"
   ]
  },
  {
   "cell_type": "code",
   "execution_count": null,
   "metadata": {},
   "outputs": [],
   "source": []
  }
 ],
 "metadata": {
  "kernelspec": {
   "display_name": "Python 3",
   "language": "python",
   "name": "python3"
  },
  "language_info": {
   "codemirror_mode": {
    "name": "ipython",
    "version": 3
   },
   "file_extension": ".py",
   "mimetype": "text/x-python",
   "name": "python",
   "nbconvert_exporter": "python",
   "pygments_lexer": "ipython3",
   "version": "3.6.5"
  }
 },
 "nbformat": 4,
 "nbformat_minor": 2
}
