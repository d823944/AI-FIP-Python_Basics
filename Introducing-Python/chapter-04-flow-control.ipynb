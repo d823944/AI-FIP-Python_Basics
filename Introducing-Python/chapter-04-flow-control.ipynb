{
 "cells": [
  {
   "cell_type": "code",
   "execution_count": 4,
   "metadata": {},
   "outputs": [
    {
     "name": "stdout",
     "output_type": "stream",
     "text": [
      "0\n",
      "1\n",
      "2\n",
      "3\n",
      "4\n",
      "5\n",
      "6\n",
      "7\n",
      "8\n",
      "9\n"
     ]
    }
   ],
   "source": [
    "for i in range(10):\n",
    "    print(i)"
   ]
  },
  {
   "cell_type": "code",
   "execution_count": 5,
   "metadata": {},
   "outputs": [
    {
     "name": "stdout",
     "output_type": "stream",
     "text": [
      "0\n",
      "2\n",
      "4\n",
      "6\n",
      "8\n"
     ]
    }
   ],
   "source": [
    "for i in range(0, 10, 2):\n",
    "    print(i)"
   ]
  },
  {
   "cell_type": "code",
   "execution_count": 7,
   "metadata": {},
   "outputs": [
    {
     "name": "stdout",
     "output_type": "stream",
     "text": [
      "2 * 2 = 4\n",
      "2 * 3 = 6\n",
      "2 * 4 = 8\n",
      "3 * 2 = 6\n",
      "3 * 3 = 9\n",
      "3 * 4 = 12\n",
      "4 * 2 = 8\n",
      "4 * 3 = 12\n",
      "4 * 4 = 16\n"
     ]
    }
   ],
   "source": [
    "for i in range(2, 5):\n",
    "    for j in range(2, 5):\n",
    "        print(f'{i} * {j} = {i * j}')"
   ]
  },
  {
   "cell_type": "code",
   "execution_count": 8,
   "metadata": {},
   "outputs": [
    {
     "name": "stdout",
     "output_type": "stream",
     "text": [
      "10: grade-C\n",
      "20: grade-C\n",
      "30: grade-C\n",
      "40: grade-C\n",
      "50: grade-C\n",
      "60: grade-B\n",
      "70: grade-B\n",
      "80: grade-A\n",
      "90: grade-A\n",
      "100: grade-A\n"
     ]
    }
   ],
   "source": [
    "for score in range(10, 110, 10):\n",
    "    if score < 60:\n",
    "        print(f'{score}: grade-C')\n",
    "    elif score < 80:\n",
    "        print(f'{score}: grade-B')\n",
    "    else:\n",
    "        print(f'{score}: grade-A')"
   ]
  },
  {
   "cell_type": "code",
   "execution_count": 15,
   "metadata": {},
   "outputs": [
    {
     "name": "stdout",
     "output_type": "stream",
     "text": [
      "[0, 2, 4, 6, 8, 10, 12, 14, 16, 18]\n",
      "[1, 3, 5, 7, 9, 11, 13, 15, 17, 19]\n",
      "[8, 9, 10, 11, 12, 13]\n",
      "['-', 1, '-', 9, '-', 25, '-', 49, '-', 81]\n"
     ]
    }
   ],
   "source": [
    "# list comprehension\n",
    "even_num = [i for i in range(20) if i % 2 == 0]\n",
    "odd_num = [i for i in range(20) if i % 2 != 0]\n",
    "middle_num = [i for i in range(20) if (i >= 8) and (i <= 13)]\n",
    "odd_squared = [i ** 2 if i % 2 != 0 else '-' for i in range(10)]\n",
    "print(even_num)\n",
    "print(odd_num)\n",
    "print(middle_num)\n",
    "print(odd_squared)"
   ]
  },
  {
   "cell_type": "code",
   "execution_count": 24,
   "metadata": {},
   "outputs": [
    {
     "name": "stdout",
     "output_type": "stream",
     "text": [
      "Spade-2\n",
      "Spade-3\n",
      "Spade-4\n",
      "Spade-5\n",
      "Spade-6\n",
      "Spade-7\n",
      "Spade-8\n",
      "Spade-9\n",
      "Spade-10\n",
      "Spade-J\n",
      "Spade-Q\n",
      "Spade-K\n",
      "Spade-A\n",
      "Heart-2\n",
      "Heart-3\n",
      "Heart-4\n",
      "Heart-5\n",
      "Heart-6\n",
      "Heart-7\n",
      "Heart-8\n",
      "Heart-9\n",
      "Heart-10\n",
      "Heart-J\n",
      "Heart-Q\n",
      "Heart-K\n",
      "Heart-A\n",
      "Diamond-2\n",
      "Diamond-3\n",
      "Diamond-4\n",
      "Diamond-5\n",
      "Diamond-6\n",
      "Diamond-7\n",
      "Diamond-8\n",
      "Diamond-9\n",
      "Diamond-10\n",
      "Diamond-J\n",
      "Diamond-Q\n",
      "Diamond-K\n",
      "Diamond-A\n",
      "Club-2\n",
      "Club-3\n",
      "Club-4\n",
      "Club-5\n",
      "Club-6\n",
      "Club-7\n",
      "Club-8\n",
      "Club-9\n",
      "Club-10\n",
      "Club-J\n",
      "Club-Q\n",
      "Club-K\n",
      "Club-A\n"
     ]
    }
   ],
   "source": [
    "ranks = ['Spade', 'Heart', 'Diamond', 'Club']\n",
    "numbers = [str(i) for i in range(2, 11)] + ['J', 'Q', 'K', 'A']\n",
    "for rank in ranks:\n",
    "    for number in numbers:\n",
    "        print(rank, '-', number, sep='')"
   ]
  },
  {
   "cell_type": "code",
   "execution_count": 23,
   "metadata": {},
   "outputs": [
    {
     "name": "stdout",
     "output_type": "stream",
     "text": [
      "#1 : Spade-2\n",
      "#2 : Spade-3\n",
      "#3 : Spade-4\n",
      "#4 : Spade-5\n",
      "#5 : Spade-6\n",
      "#6 : Spade-7\n",
      "#7 : Spade-8\n",
      "#8 : Spade-9\n",
      "#9 : Spade-10\n",
      "#10 : Spade-J\n",
      "#11 : Spade-Q\n",
      "#12 : Spade-K\n",
      "#13 : Spade-A\n",
      "#14 : Heart-2\n",
      "#15 : Heart-3\n",
      "#16 : Heart-4\n",
      "#17 : Heart-5\n",
      "#18 : Heart-6\n",
      "#19 : Heart-7\n",
      "#20 : Heart-8\n",
      "#21 : Heart-9\n",
      "#22 : Heart-10\n",
      "#23 : Heart-J\n",
      "#24 : Heart-Q\n",
      "#25 : Heart-K\n",
      "#26 : Heart-A\n",
      "#27 : Diamond-2\n",
      "#28 : Diamond-3\n",
      "#29 : Diamond-4\n",
      "#30 : Diamond-5\n",
      "#31 : Diamond-6\n",
      "#32 : Diamond-7\n",
      "#33 : Diamond-8\n",
      "#34 : Diamond-9\n",
      "#35 : Diamond-10\n",
      "#36 : Diamond-J\n",
      "#37 : Diamond-Q\n",
      "#38 : Diamond-K\n",
      "#39 : Diamond-A\n",
      "#40 : Club-2\n",
      "#41 : Club-3\n",
      "#42 : Club-4\n",
      "#43 : Club-5\n",
      "#44 : Club-6\n",
      "#45 : Club-7\n",
      "#46 : Club-8\n",
      "#47 : Club-9\n",
      "#48 : Club-10\n",
      "#49 : Club-J\n",
      "#50 : Club-Q\n",
      "#51 : Club-K\n",
      "#52 : Club-A\n"
     ]
    }
   ],
   "source": [
    "ranks = ['Spade', 'Heart', 'Diamond', 'Club']\n",
    "numbers = [str(i) for i in range(2, 11)] + ['J', 'Q', 'K', 'A']\n",
    "for r, rank in enumerate(ranks):\n",
    "    for n, number in enumerate(numbers):\n",
    "        print('#', r * 13 + n + 1, ' : ', rank, '-', number, sep='')"
   ]
  },
  {
   "cell_type": "code",
   "execution_count": 26,
   "metadata": {},
   "outputs": [
    {
     "name": "stdout",
     "output_type": "stream",
     "text": [
      "Please enter your password (trial: 1): 1111\n",
      "Try again!\n",
      "Please enter your password (trial: 2): 1234\n",
      "Welcome!\n"
     ]
    }
   ],
   "source": [
    "authentication = '1234'\n",
    "trial = 0\n",
    "while True:\n",
    "    trial += 1\n",
    "    password = input('Please enter your password (trial: %d): ' % trial)\n",
    "    if password == authentication:\n",
    "        print('Welcome!')\n",
    "        break\n",
    "    elif trial == 3:\n",
    "        print('You have failed three times, bye~')\n",
    "        break\n",
    "    else:\n",
    "        print('Try again!')\n",
    "        continue"
   ]
  },
  {
   "cell_type": "code",
   "execution_count": 30,
   "metadata": {},
   "outputs": [
    {
     "name": "stdout",
     "output_type": "stream",
     "text": [
      "Guess what animal do we have? caaa\n",
      "No, we don't have it.\n",
      "Try again!\n",
      "Guess what animal do we have? bbb\n",
      "No, we don't have it.\n",
      "Try again!\n",
      "Guess what animal do we have? bbb\n",
      "No, we don't have it.\n",
      "Try again!\n",
      "Oops, you have failed three times.\n"
     ]
    }
   ],
   "source": [
    "animals = ['rabbit', 'cat', 'dog']\n",
    "for i in range(3):\n",
    "    guess = input('Guess what animal do we have? ')\n",
    "    if guess in animals:\n",
    "        print('Yes,', guess, 'is in our zoo.')\n",
    "        break\n",
    "    else:\n",
    "        print(\"No, we don't have it.\")\n",
    "        print('Try again!')\n",
    "else:\n",
    "    print('Oops, you have bad luck.')\n",
    "    "
   ]
  },
  {
   "cell_type": "code",
   "execution_count": 32,
   "metadata": {},
   "outputs": [
    {
     "name": "stdout",
     "output_type": "stream",
     "text": [
      "{'Ann': 'Chinese', 'Bob': 'English', 'Claire': 'Japanese', 'Ellen': 'Korean', 'Frank': 'Spanish', 'George': 'French'}\n"
     ]
    }
   ],
   "source": [
    "names = ['Ann', 'Bob', 'Claire', 'Ellen', 'Frank', 'George']\n",
    "languages = ['Chinese', 'English', 'Japanese', 'Korean', 'Spanish', 'French']\n",
    "dict_lang = dict(zip(names, languages))\n",
    "print(dict_lang)"
   ]
  },
  {
   "cell_type": "code",
   "execution_count": 33,
   "metadata": {},
   "outputs": [
    {
     "name": "stdout",
     "output_type": "stream",
     "text": [
      "Ann speaks Chinese well.\n",
      "Bob speaks English well.\n",
      "Claire speaks Japanese well.\n",
      "Ellen speaks Korean well.\n",
      "Frank speaks Spanish well.\n",
      "George speaks French well.\n"
     ]
    }
   ],
   "source": [
    "for k, v in dict_lang.items():\n",
    "    print(k, 'speaks', v, 'well.')"
   ]
  },
  {
   "cell_type": "code",
   "execution_count": 42,
   "metadata": {},
   "outputs": [
    {
     "name": "stdout",
     "output_type": "stream",
     "text": [
      "{'Ann': 2, 'Bob': 3, 'Claire': 6, 'Ellen': 4, 'Frank': 5, 'George': 5}\n",
      "Ann has 2 unique alphabets in his/her name.\n",
      "Bob has 3 unique alphabets in his/her name.\n",
      "Claire has 6 unique alphabets in his/her name.\n",
      "Ellen has 4 unique alphabets in his/her name.\n",
      "Frank has 5 unique alphabets in his/her name.\n",
      "George has 5 unique alphabets in his/her name.\n"
     ]
    }
   ],
   "source": [
    "names = ['Ann', 'Bob', 'Claire', 'Ellen', 'Frank', 'George']\n",
    "char_in_names = {name: len(set(list(name))) for name in names}\n",
    "print(char_in_names)\n",
    "for name in char_in_names.keys():\n",
    "    print(name, 'has', char_in_names[name], 'unique alphabets in his/her name.')"
   ]
  },
  {
   "cell_type": "code",
   "execution_count": null,
   "metadata": {},
   "outputs": [],
   "source": []
  }
 ],
 "metadata": {
  "kernelspec": {
   "display_name": "Python 3",
   "language": "python",
   "name": "python3"
  },
  "language_info": {
   "codemirror_mode": {
    "name": "ipython",
    "version": 3
   },
   "file_extension": ".py",
   "mimetype": "text/x-python",
   "name": "python",
   "nbconvert_exporter": "python",
   "pygments_lexer": "ipython3",
   "version": "3.6.5"
  }
 },
 "nbformat": 4,
 "nbformat_minor": 2
}
