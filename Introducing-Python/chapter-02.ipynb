{
 "cells": [
  {
   "cell_type": "code",
   "execution_count": 60,
   "metadata": {},
   "outputs": [
    {
     "name": "stdout",
     "output_type": "stream",
     "text": [
      "Please input a 4-digit password: 1234\n",
      "<class 'str'>\n"
     ]
    }
   ],
   "source": [
    "num = input('Please input a 4-digit password: ')\n",
    "print(type(num))"
   ]
  },
  {
   "cell_type": "code",
   "execution_count": 61,
   "metadata": {},
   "outputs": [
    {
     "name": "stdout",
     "output_type": "stream",
     "text": [
      "Please input a 4-digit password: 1234\n",
      "<class 'int'>\n"
     ]
    }
   ],
   "source": [
    "num = int(input('Please input a 4-digit password: '))\n",
    "print(type(num))"
   ]
  },
  {
   "cell_type": "code",
   "execution_count": 62,
   "metadata": {},
   "outputs": [
    {
     "name": "stdout",
     "output_type": "stream",
     "text": [
      "<class 'str'>\n"
     ]
    }
   ],
   "source": [
    "num = str(num)\n",
    "print(type(num))"
   ]
  },
  {
   "cell_type": "code",
   "execution_count": 72,
   "metadata": {},
   "outputs": [
    {
     "name": "stdout",
     "output_type": "stream",
     "text": [
      "this is a beautiful world.\n",
      "THIS IS A BEAUTIFUL WORLD.\n",
      "This Is A Beautiful World.\n",
      "This is a beautiful world.\n",
      "tHIS IS A bEAUTIFUL wORLD.\n",
      "            This is a Beautiful World.            \n",
      "                        This is a Beautiful World.\n"
     ]
    }
   ],
   "source": [
    "sentence = 'This is a Beautiful World.'\n",
    "print(sentence.lower())\n",
    "print(sentence.upper())\n",
    "print(sentence.title())\n",
    "print(sentence.capitalize())\n",
    "print(sentence.swapcase())\n",
    "print(sentence.center(50))\n",
    "print(sentence.rjust(50))"
   ]
  },
  {
   "cell_type": "code",
   "execution_count": 73,
   "metadata": {},
   "outputs": [
    {
     "name": "stdout",
     "output_type": "stream",
     "text": [
      "sentence starts with \"This\": True\n",
      "sentence ends with \"This\": False\n",
      "Beautiful shown at 10\n",
      "There are 26 characters in the sentence.\n",
      "\"s\" showed up 2 times.\n",
      "There are only alphabets and numbers in the sentence: False\n"
     ]
    }
   ],
   "source": [
    "print('sentence starts with \"This\":', sentence.startswith('This'))\n",
    "print('sentence ends with \"This\":', sentence.endswith('This'))\n",
    "print('Beautiful shown at', sentence.find('Beautiful'))\n",
    "print('There are', len(sentence), 'characters in the sentence.')\n",
    "print('\"s\" showed up', sentence.count('s'), 'times.')\n",
    "print('There are only alphabets and numbers in the sentence:', sentence.isalnum())"
   ]
  },
  {
   "cell_type": "code",
   "execution_count": 74,
   "metadata": {},
   "outputs": [
    {
     "name": "stdout",
     "output_type": "stream",
     "text": [
      "This is a Beautiful World.\n",
      "This is a Beautiful World\n",
      "This is a \n",
      "is is a \n",
      ".dlroW lufituaeB a si sihT\n"
     ]
    }
   ],
   "source": [
    "# indexing and slicing\n",
    "print(sentence[:])\n",
    "print(sentence[:-1])\n",
    "print(sentence[:10])\n",
    "print(sentence[2:10])\n",
    "print(sentence[::-1])"
   ]
  },
  {
   "cell_type": "code",
   "execution_count": 75,
   "metadata": {},
   "outputs": [
    {
     "name": "stdout",
     "output_type": "stream",
     "text": [
      "In 2018, revenue hit $3000000 and increased by 50% compared to 2017.\n",
      "Number of characters in the sentence: 68\n"
     ]
    }
   ],
   "source": [
    "this_year = 2018\n",
    "last_year = this_year - 1\n",
    "this_revenue = 3000000\n",
    "last_revenue = 2000000\n",
    "\n",
    "sentence = 'In ' + str(this_year) + ', ' + 'revenue hit $' + str(this_revenue) +\\\n",
    "    ' and increased by ' + str(format((this_revenue - last_revenue) / last_revenue * 100, '.0f')) +\\\n",
    "    '% compared to ' + str(last_year) + '.'\n",
    "\n",
    "print(sentence)\n",
    "print('Number of characters in the sentence:', len(sentence))"
   ]
  },
  {
   "cell_type": "code",
   "execution_count": 76,
   "metadata": {},
   "outputs": [
    {
     "name": "stdout",
     "output_type": "stream",
     "text": [
      "In 2018, revenue hit $3000000 and increased by 50% compared to 2017.\n"
     ]
    }
   ],
   "source": [
    "# %-operator\n",
    "print(\n",
    "    'In %d, revenue hit $%d and increased by %.0f%% compared to %d.' % (\n",
    "    this_year,\n",
    "    this_revenue,\n",
    "    ((this_revenue - last_revenue) / last_revenue * 100),\n",
    "    last_year))"
   ]
  },
  {
   "cell_type": "code",
   "execution_count": 77,
   "metadata": {},
   "outputs": [
    {
     "name": "stdout",
     "output_type": "stream",
     "text": [
      "In 2018, revenue hit $3000000 and increased by 50% compared to 2017.\n"
     ]
    }
   ],
   "source": [
    "# str.format()\n",
    "print(\n",
    "    'In {0:4d}, revenue hit ${1} and increased by {2:.0f}% compared to {3:4d}.'.format(\n",
    "    this_year,\n",
    "    this_revenue,\n",
    "    ((this_revenue - last_revenue) / last_revenue * 100),\n",
    "    last_year))"
   ]
  },
  {
   "cell_type": "code",
   "execution_count": 78,
   "metadata": {},
   "outputs": [
    {
     "name": "stdout",
     "output_type": "stream",
     "text": [
      "In 2018, revenue hit $3000000 and increased by 50% compared to 2017.\n"
     ]
    }
   ],
   "source": [
    "# f-string (Formatted String Literal) since Python 3.6\n",
    "print(\n",
    "    f'In {this_year}, '\n",
    "    f'revenue hit ${this_revenue} and increased by '\n",
    "    f'{((this_revenue - last_revenue) / last_revenue * 100):.0f}% '\n",
    "    f'compared to {last_year}.')"
   ]
  },
  {
   "cell_type": "code",
   "execution_count": 82,
   "metadata": {},
   "outputs": [
    {
     "name": "stdout",
     "output_type": "stream",
     "text": [
      "['This', 'is', 'a', 'Beautiful', 'World.']\n"
     ]
    }
   ],
   "source": [
    "sentence = 'This is a Beautiful World.'\n",
    "words = sentence.split(' ')\n",
    "print(words)"
   ]
  },
  {
   "cell_type": "code",
   "execution_count": 83,
   "metadata": {},
   "outputs": [
    {
     "name": "stdout",
     "output_type": "stream",
     "text": [
      "This is a Beautiful World.\n"
     ]
    }
   ],
   "source": [
    "sentence = ' '.join(words)\n",
    "print(sentence)"
   ]
  },
  {
   "cell_type": "code",
   "execution_count": 84,
   "metadata": {},
   "outputs": [
    {
     "name": "stdout",
     "output_type": "stream",
     "text": [
      "This is a Beautiful day.\n",
      "This is a Beautiful World.\n"
     ]
    }
   ],
   "source": [
    "# not inplace replacement\n",
    "print(sentence.replace('World', 'day'))\n",
    "print(sentence)"
   ]
  }
 ],
 "metadata": {
  "kernelspec": {
   "display_name": "Python 3",
   "language": "python",
   "name": "python3"
  },
  "language_info": {
   "codemirror_mode": {
    "name": "ipython",
    "version": 3
   },
   "file_extension": ".py",
   "mimetype": "text/x-python",
   "name": "python",
   "nbconvert_exporter": "python",
   "pygments_lexer": "ipython3",
   "version": "3.6.5"
  }
 },
 "nbformat": 4,
 "nbformat_minor": 2
}
