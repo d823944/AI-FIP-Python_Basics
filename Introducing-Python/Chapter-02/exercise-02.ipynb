{
 "cells": [
  {
   "cell_type": "code",
   "execution_count": 5,
   "metadata": {},
   "outputs": [],
   "source": [
    "cnn_news = 'On the surface, Nightingale House in London looks like any other residential home for the elderly. With almost 200 residents, it is one of the the largest care homes in the country.\\n\\nIt is Tuesday morning, and more than 20 residents are seated around a room flooded with natural light, holding weights and performing moderate physical therapy exercises with an instructor.\\n\\nThe mood is calm, and people are engaged, yet there is excitement in the air. Every few minutes, residents glance toward the door in anticipation.\\n\\nTheir guests of honor are late.\\n\\nYou cannot help but feel the infection, said 90-year-old Fay Garcia, who was waiting patiently. It is like someone comes in and turns the light on, she said.\\n\\nThe infection -- and light -- comes in the form of a class full of children 2 to 3 years old who frequent the physical therapy session -- and many other parts of the daily lives of the residents at the Jewish care home.\\n\\nIn September, Nightingale House opened the doors to its on-site nursery, Apples and Honey Nightingale, the first co-located nursery in the UK. Children and elderly residents have access to a program filled with activities that include baking, gardening and art, as well as exercise. Residents can also access the nursery to spend time with the kids.\\n\\nThe children work with and play with the residents every single day, said Ali Somers, co-founder of Apples and Honey Nightingale, who also heads evaluation and impact for this program.\\n\\nThe premise is intergenerational care, providing wisdom to the young and relationships -- and, in turn, longevity -- to the old.'"
   ]
  },
  {
   "cell_type": "code",
   "execution_count": 6,
   "metadata": {},
   "outputs": [
    {
     "name": "stdout",
     "output_type": "stream",
     "text": [
      "On the surface, Nightingale House in London looks like any other residential home for the elderly. With almost 200 residents, it is one of the the largest care homes in the country.\n",
      "\n",
      "It is Tuesday morning, and more than 20 residents are seated around a room flooded with natural light, holding weights and performing moderate physical therapy exercises with an instructor.\n",
      "\n",
      "The mood is calm, and people are engaged, yet there is excitement in the air. Every few minutes, residents glance toward the door in anticipation.\n",
      "\n",
      "Their guests of honor are late.\n",
      "\n",
      "You cannot help but feel the infection, said 90-year-old Fay Garcia, who was waiting patiently. It is like someone comes in and turns the light on, she said.\n",
      "\n",
      "The infection -- and light -- comes in the form of a class full of children 2 to 3 years old who frequent the physical therapy session -- and many other parts of the daily lives of the residents at the Jewish care home.\n",
      "\n",
      "In September, Nightingale House opened the doors to its on-site nursery, Apples and Honey Nightingale, the first co-located nursery in the UK. Children and elderly residents have access to a program filled with activities that include baking, gardening and art, as well as exercise. Residents can also access the nursery to spend time with the kids.\n",
      "\n",
      "The children work with and play with the residents every single day, said Ali Somers, co-founder of Apples and Honey Nightingale, who also heads evaluation and impact for this program.\n",
      "\n",
      "The premise is intergenerational care, providing wisdom to the young and relationships -- and, in turn, longevity -- to the old.\n"
     ]
    }
   ],
   "source": [
    "print(cnn_news)"
   ]
  },
  {
   "cell_type": "code",
   "execution_count": 11,
   "metadata": {},
   "outputs": [],
   "source": [
    "# How many \"the\" or \"The\" can you find in this article?\n",
    "# How many \"is\" can you find in this article?"
   ]
  },
  {
   "cell_type": "code",
   "execution_count": 13,
   "metadata": {},
   "outputs": [],
   "source": [
    "# How many characters are there in this article?"
   ]
  },
  {
   "cell_type": "code",
   "execution_count": 16,
   "metadata": {},
   "outputs": [],
   "source": [
    "# Replace '--' with '***'"
   ]
  },
  {
   "cell_type": "code",
   "execution_count": 19,
   "metadata": {},
   "outputs": [],
   "source": [
    "# Make the first letter of each word uppercased"
   ]
  },
  {
   "cell_type": "code",
   "execution_count": null,
   "metadata": {},
   "outputs": [],
   "source": []
  }
 ],
 "metadata": {
  "kernelspec": {
   "display_name": "Python 3",
   "language": "python",
   "name": "python3"
  },
  "language_info": {
   "codemirror_mode": {
    "name": "ipython",
    "version": 3
   },
   "file_extension": ".py",
   "mimetype": "text/x-python",
   "name": "python",
   "nbconvert_exporter": "python",
   "pygments_lexer": "ipython3",
   "version": "3.6.5"
  }
 },
 "nbformat": 4,
 "nbformat_minor": 2
}
