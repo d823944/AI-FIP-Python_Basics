{
 "cells": [
  {
   "cell_type": "code",
   "execution_count": 4,
   "metadata": {},
   "outputs": [
    {
     "name": "stdout",
     "output_type": "stream",
     "text": [
      "Please input a 4-digit password: 1234\n",
      "<class 'str'>\n"
     ]
    }
   ],
   "source": [
    "# input() 傳回值的型態, 預設為string\n",
    "num = input('Please input a 4-digit password: ')\n",
    "print(type(num))"
   ]
  },
  {
   "cell_type": "code",
   "execution_count": 5,
   "metadata": {},
   "outputs": [
    {
     "name": "stdout",
     "output_type": "stream",
     "text": [
      "Please input a 4-digit password: 1234\n",
      "<class 'int'>\n"
     ]
    }
   ],
   "source": [
    "# 利用int(), 將字串型態轉換為整數型態. 另有float()用來轉換成浮點數型態.\n",
    "num = int(input('Please input a 4-digit password: '))\n",
    "print(type(num))"
   ]
  },
  {
   "cell_type": "code",
   "execution_count": 6,
   "metadata": {},
   "outputs": [
    {
     "name": "stdout",
     "output_type": "stream",
     "text": [
      "<class 'str'>\n"
     ]
    }
   ],
   "source": [
    "# 利用str(), 將整數型態轉換為字串型態.\n",
    "num = str(num)\n",
    "print(type(num))"
   ]
  },
  {
   "cell_type": "code",
   "execution_count": 7,
   "metadata": {},
   "outputs": [
    {
     "name": "stdout",
     "output_type": "stream",
     "text": [
      "this is a beautiful world.\n",
      "THIS IS A BEAUTIFUL WORLD.\n",
      "This Is A Beautiful World.\n",
      "This is a beautiful world.\n",
      "tHIS IS A bEAUTIFUL wORLD.\n",
      "            This is a Beautiful World.            \n",
      "                        This is a Beautiful World.\n"
     ]
    }
   ],
   "source": [
    "# 介紹字串的方法(method), str.method()\n",
    "sentence = 'This is a Beautiful World.'\n",
    "print(sentence.lower())\n",
    "print(sentence.upper())\n",
    "print(sentence.title())\n",
    "print(sentence.capitalize())\n",
    "print(sentence.swapcase())\n",
    "print(sentence.center(50))\n",
    "print(sentence.rjust(50))"
   ]
  },
  {
   "cell_type": "code",
   "execution_count": 8,
   "metadata": {},
   "outputs": [
    {
     "name": "stdout",
     "output_type": "stream",
     "text": [
      "sentence starts with \"This\": True\n",
      "sentence ends with \"This\": False\n",
      "Beautiful shown at 10\n",
      "\"s\" showed up 2 times.\n",
      "There are only alphabets and numbers in the sentence: False\n"
     ]
    }
   ],
   "source": [
    "# 更多字串的方法(method), str.method()\n",
    "print('sentence starts with \"This\":', sentence.startswith('This'))\n",
    "print('sentence ends with \"This\":', sentence.endswith('This'))\n",
    "print('Beautiful shown at', sentence.find('Beautiful'))\n",
    "print('\"s\" showed up', sentence.count('s'), 'times.')\n",
    "print('There are only alphabets and numbers in the sentence:', sentence.isalnum())"
   ]
  },
  {
   "cell_type": "code",
   "execution_count": 9,
   "metadata": {},
   "outputs": [
    {
     "name": "stdout",
     "output_type": "stream",
     "text": [
      "There are 26 characters in the sentence.\n"
     ]
    }
   ],
   "source": [
    "# len() 是Python內建的函式, 可用於字串, 回傳值為字串的字元數目\n",
    "print('There are', len(sentence), 'characters in the sentence.')"
   ]
  },
  {
   "cell_type": "code",
   "execution_count": 10,
   "metadata": {},
   "outputs": [
    {
     "name": "stdout",
     "output_type": "stream",
     "text": [
      "This is a Beautiful World.\n",
      "This is a Beautiful World\n",
      "This is a \n",
      "is is a \n",
      ".dlroW lufituaeB a si sihT\n"
     ]
    }
   ],
   "source": [
    "# Index and Slice\n",
    "print(sentence[:])\n",
    "print(sentence[:-1])\n",
    "print(sentence[:10])\n",
    "print(sentence[2:10])\n",
    "print(sentence[::-1])"
   ]
  },
  {
   "cell_type": "code",
   "execution_count": 11,
   "metadata": {},
   "outputs": [
    {
     "name": "stdout",
     "output_type": "stream",
     "text": [
      "In 2018, revenue hit $3000000 and increased by 50% compared to 2017.\n",
      "Number of characters in the sentence: 68\n"
     ]
    }
   ],
   "source": [
    "this_year = 2018\n",
    "last_year = this_year - 1\n",
    "this_revenue = 3000000\n",
    "last_revenue = 2000000\n",
    "\n",
    "sentence = 'In ' + str(this_year) + ', ' +\\\n",
    "    'revenue hit $' + str(this_revenue) +\\\n",
    "    ' and increased by ' + str(format((this_revenue - last_revenue) / last_revenue * 100, '.0f')) +\\\n",
    "    '% compared to ' + str(last_year) + '.'\n",
    "\n",
    "print(sentence)\n",
    "print('Number of characters in the sentence:', len(sentence))"
   ]
  },
  {
   "cell_type": "code",
   "execution_count": 12,
   "metadata": {},
   "outputs": [
    {
     "name": "stdout",
     "output_type": "stream",
     "text": [
      "In 2018, revenue hit $3000000 and increased by 50% compared to 2017.\n"
     ]
    }
   ],
   "source": [
    "# 字串格式化(1): %-operator (舊方法)\n",
    "print(\n",
    "    'In %d, revenue hit $%d and increased by %.0f%% compared to %d.' % (\n",
    "    this_year,\n",
    "    this_revenue,\n",
    "    ((this_revenue - last_revenue) / last_revenue * 100),\n",
    "    last_year))"
   ]
  },
  {
   "cell_type": "code",
   "execution_count": 13,
   "metadata": {},
   "outputs": [
    {
     "name": "stdout",
     "output_type": "stream",
     "text": [
      "In 2018, revenue hit $3000000 and increased by 50% compared to 2017.\n"
     ]
    }
   ],
   "source": [
    "# 字串格式化(2): str.format()\n",
    "print(\n",
    "    'In {0:4d}, revenue hit ${1} and increased by {2:.0f}% compared to {3:4d}.'.format(\n",
    "    this_year,\n",
    "    this_revenue,\n",
    "    ((this_revenue - last_revenue) / last_revenue * 100),\n",
    "    last_year))"
   ]
  },
  {
   "cell_type": "code",
   "execution_count": 14,
   "metadata": {},
   "outputs": [
    {
     "name": "stdout",
     "output_type": "stream",
     "text": [
      "In 2018, revenue hit $3000000 and increased by 50% compared to 2017.\n"
     ]
    }
   ],
   "source": [
    "# 字串格式化(3): f-string (Formatted String Literal) for Python 3.6+\n",
    "print(\n",
    "    f'In {this_year}, '\n",
    "    f'revenue hit ${this_revenue} and increased by '\n",
    "    f'{((this_revenue - last_revenue) / last_revenue * 100):.0f}% '\n",
    "    f'compared to {last_year}.')"
   ]
  },
  {
   "cell_type": "code",
   "execution_count": 15,
   "metadata": {},
   "outputs": [
    {
     "name": "stdout",
     "output_type": "stream",
     "text": [
      "['This', 'is', 'a', 'Beautiful', 'World.']\n"
     ]
    }
   ],
   "source": [
    "# str.split() 分割字串, 回傳值為一個list\n",
    "sentence = 'This is a Beautiful World.'\n",
    "words = sentence.split(' ')\n",
    "print(words)"
   ]
  },
  {
   "cell_type": "code",
   "execution_count": 83,
   "metadata": {},
   "outputs": [
    {
     "name": "stdout",
     "output_type": "stream",
     "text": [
      "This is a Beautiful World.\n"
     ]
    }
   ],
   "source": [
    "# ‘sting’.join(list) 串接字串\n",
    "sentence = ' '.join(words)\n",
    "print(sentence)"
   ]
  },
  {
   "cell_type": "code",
   "execution_count": 17,
   "metadata": {},
   "outputs": [
    {
     "name": "stdout",
     "output_type": "stream",
     "text": [
      "This is a Beautiful day.\n",
      "This is a Beautiful World.\n"
     ]
    }
   ],
   "source": [
    "# str.replace(src_str, dst_str): not an \"inplace\" replacement (不會改變原字串的值) \n",
    "print(sentence.replace('World', 'day'))\n",
    "print(sentence)"
   ]
  },
  {
   "cell_type": "code",
   "execution_count": null,
   "metadata": {},
   "outputs": [],
   "source": []
  }
 ],
 "metadata": {
  "kernelspec": {
   "display_name": "Python 3",
   "language": "python",
   "name": "python3"
  },
  "language_info": {
   "codemirror_mode": {
    "name": "ipython",
    "version": 3
   },
   "file_extension": ".py",
   "mimetype": "text/x-python",
   "name": "python",
   "nbconvert_exporter": "python",
   "pygments_lexer": "ipython3",
   "version": "3.6.5"
  }
 },
 "nbformat": 4,
 "nbformat_minor": 2
}
