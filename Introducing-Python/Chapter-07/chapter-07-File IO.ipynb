{
 "cells": [
  {
   "cell_type": "code",
   "execution_count": null,
   "metadata": {},
   "outputs": [],
   "source": [
    "# To read a file’s contents, call f.read(size), which reads some quantity of data and returns it as a string\n",
    "# f.readline() reads a single line from the file\n",
    "with open('scores.csv', 'r', encoding='utf-8') as f:\n",
    "    line = f.readline()\n",
    "    print(line)"
   ]
  },
  {
   "cell_type": "code",
   "execution_count": null,
   "metadata": {},
   "outputs": [],
   "source": [
    "# f.readlines() read all lines until EOF\n",
    "with open('scores.csv', 'r', encoding='utf-8') as f:\n",
    "    lines = f.readlines()\n",
    "    print(lines)"
   ]
  },
  {
   "cell_type": "code",
   "execution_count": null,
   "metadata": {},
   "outputs": [],
   "source": [
    "with open('scores.csv', 'r', encoding='utf-8') as f:\n",
    "    lines = f.readlines()\n",
    "    for i, line in enumerate(lines):\n",
    "        print(f'Row-{i}: {line}')\n",
    "        if i == 3:\n",
    "            break"
   ]
  },
  {
   "cell_type": "code",
   "execution_count": null,
   "metadata": {},
   "outputs": [],
   "source": [
    "# csv.reader(f) return a reader object which will iterate over lines in the given csvfile.\n",
    "import csv\n",
    "\n",
    "with open('scores.csv', 'r', encoding='utf-8') as f:\n",
    "    rows = csv.reader(f)\n",
    "    for i, row in enumerate(rows):\n",
    "        print(f'Row-{i}: {row}')\n",
    "        if i == 3:\n",
    "            break"
   ]
  },
  {
   "cell_type": "code",
   "execution_count": null,
   "metadata": {},
   "outputs": [],
   "source": [
    "import csv\n",
    "\n",
    "with open('scores.csv', 'r', encoding='utf-8') as f:\n",
    "    rows = csv.reader(f)\n",
    "    for i, row in enumerate(rows):\n",
    "        for cell in row:\n",
    "            print(cell)\n",
    "        if i == 1:\n",
    "            break"
   ]
  },
  {
   "cell_type": "code",
   "execution_count": null,
   "metadata": {},
   "outputs": [],
   "source": [
    "import csv\n",
    "\n",
    "with open('scores.csv', 'r', encoding='utf-8') as f:\n",
    "    reader = csv.reader(f)\n",
    "    for i, row in enumerate(reader):\n",
    "        print(row[0])\n",
    "        if i == 5:\n",
    "            break"
   ]
  },
  {
   "cell_type": "code",
   "execution_count": null,
   "metadata": {},
   "outputs": [],
   "source": [
    "# Create an object that operates like a regular reader but maps the information in each row to an \n",
    "# OrderedDict whose keys are given by the optional fieldnames parameter.\n",
    "# The fieldnames parameter is a sequence. If fieldnames is omitted, the values in the first row of file f \n",
    "# will be used as the fieldnames.\n",
    "\n",
    "import csv\n",
    "\n",
    "with open('scores.csv', 'r', encoding='utf-8') as f:\n",
    "    reader = csv.DictReader(f)\n",
    "    for row in reader:\n",
    "        print(row['name'], row['score3'])\n",
    "        break"
   ]
  },
  {
   "cell_type": "code",
   "execution_count": null,
   "metadata": {},
   "outputs": [],
   "source": [
    "# f.write(string) writes the contents of string to the file\n",
    "\n",
    "import random\n",
    "with open('test.txt', 'w', encoding='utf-8') as f:\n",
    "    for i in range(10):\n",
    "        f.write(chr(random.randint(97, 122)))"
   ]
  },
  {
   "cell_type": "code",
   "execution_count": null,
   "metadata": {},
   "outputs": [],
   "source": [
    "# csv.writer() return a writer object responsible for converting the user’s data into \n",
    "# delimited strings on the given file-like object.\n",
    "import csv\n",
    "with open('grocery.csv', 'w', newline='') as csvfile:\n",
    "    writer = csv.writer(csvfile, delimiter=',')\n",
    "    writer.writerow(['Apple', 'Grape', 'Banana', 'Papaya'])\n",
    "    writer.writerow(['Egg'] * 3 + ['Milk'])"
   ]
  },
  {
   "cell_type": "code",
   "execution_count": null,
   "metadata": {},
   "outputs": [],
   "source": [
    "# Create an object which operates like a regular writer but maps dictionaries onto output rows. \n",
    "# The fieldnames parameter is a sequence of keys that identify the order in which values in the \n",
    "# dictionary passed to the writerow() method are written to file f.\n",
    "\n",
    "import csv\n",
    "\n",
    "with open('names.csv', 'w', newline='') as csvfile:\n",
    "    fieldnames = ['first_name', 'last_name']\n",
    "    writer = csv.DictWriter(csvfile, fieldnames=fieldnames)\n",
    "    \n",
    "    writer.writeheader()\n",
    "    writer.writerow({'first_name': 'Ann', 'last_name': 'Chen'})\n",
    "    writer.writerow({'first_name': 'Bob', 'last_name': 'Lee'})\n",
    "    writer.writerow({'first_name': 'Claire', 'last_name': 'Lin'})"
   ]
  },
  {
   "cell_type": "code",
   "execution_count": null,
   "metadata": {},
   "outputs": [],
   "source": []
  }
 ],
 "metadata": {
  "kernelspec": {
   "display_name": "Python 3",
   "language": "python",
   "name": "python3"
  },
  "language_info": {
   "codemirror_mode": {
    "name": "ipython",
    "version": 3
   },
   "file_extension": ".py",
   "mimetype": "text/x-python",
   "name": "python",
   "nbconvert_exporter": "python",
   "pygments_lexer": "ipython3",
   "version": "3.6.5"
  }
 },
 "nbformat": 4,
 "nbformat_minor": 2
}
