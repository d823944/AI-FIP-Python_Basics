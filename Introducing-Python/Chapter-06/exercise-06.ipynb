{
 "cells": [
  {
   "cell_type": "code",
   "execution_count": null,
   "metadata": {},
   "outputs": [],
   "source": [
    "\"\"\"\n",
    "Programming Exercises\n",
    "(1) Implement the simple methods get_num and get_den that will return the numerator and denominator\n",
    "of a fraction.\n",
    "(2) In many ways it would be better if all fractions were maintained in lowest terms right from the start. \n",
    "Modify the constructor for the Fraction class so that GCD is used to reduce fractions immediately. \n",
    "Notice that this means the __add__ function no longer needs to reduce. Make the necessary modifications.\n",
    "(3) Implement the remaining simple arithmetic operators (__sub__, __mul__, and __truediv__).\n",
    "(4) Implement the remaining relational operators (__gt__, __ge__, __lt__, __le__, and __ne__).\n",
    "(5) Modify the constructor for the fraction class so that it checks to make sure that the numerator and \n",
    "denominator are both integers. If either is not an integer the constructor should raise an exception.\n",
    "(6) In the definition of fractions we assumed that negative fractions have a negative numerator and \n",
    "a positive denominator. Using a negative denominator would cause some of the relational operators to \n",
    "give incorrect results. In general, this is an unnecessary constraint. Modify the constructor to allow the \n",
    "user to pass a negative denominator so that all of the operators continue to work properly.\n",
    "\"\"\""
   ]
  },
  {
   "cell_type": "code",
   "execution_count": null,
   "metadata": {},
   "outputs": [],
   "source": []
  }
 ],
 "metadata": {
  "kernelspec": {
   "display_name": "Python 3",
   "language": "python",
   "name": "python3"
  },
  "language_info": {
   "codemirror_mode": {
    "name": "ipython",
    "version": 3
   },
   "file_extension": ".py",
   "mimetype": "text/x-python",
   "name": "python",
   "nbconvert_exporter": "python",
   "pygments_lexer": "ipython3",
   "version": "3.6.5"
  }
 },
 "nbformat": 4,
 "nbformat_minor": 2
}
