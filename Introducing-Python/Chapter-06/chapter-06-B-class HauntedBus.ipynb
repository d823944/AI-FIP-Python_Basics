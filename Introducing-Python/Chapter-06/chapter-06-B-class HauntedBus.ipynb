{
 "cells": [
  {
   "cell_type": "code",
   "execution_count": null,
   "metadata": {},
   "outputs": [],
   "source": [
    "class HauntedBus:\n",
    "    def __init__(self, passengers=[]):\n",
    "        self.passengers = passengers\n",
    "    def pick(self, name):\n",
    "        self.passengers.append(name)\n",
    "    def drop(self, name):\n",
    "        self.passengers.remove(name)\n",
    "        \n",
    "bus1 = HauntedBus(['A', 'B', 'C'])\n",
    "print(f'on bus1 (A/B/C): {bus1.passengers}')\n",
    "bus1.pick('D')\n",
    "print(f'on bus1 (A/B/C/D): {bus1.passengers}')\n",
    "bus1.drop('A')\n",
    "print(f'on bus1 (B/C/D): {bus1.passengers}')\n",
    "bus2 = HauntedBus()\n",
    "print(f'on bus2 (): {bus2.passengers}')\n",
    "bus2. pick('E')\n",
    "print(f'on bus2 (E): {bus2.passengers}')\n",
    "bus3 = HauntedBus()\n",
    "print(f'on bus3 (): {bus3.passengers}')\n",
    "bus3. pick('F')\n",
    "print(f'on bus2 (E): {bus2.passengers}')\n",
    "print(f'on bus3 (F): {bus3.passengers}')"
   ]
  },
  {
   "cell_type": "code",
   "execution_count": null,
   "metadata": {},
   "outputs": [],
   "source": [
    "class TwilightBus:\n",
    "    def __init__(self, passengers=None):\n",
    "        if passengers is None:\n",
    "            self.passengers = []\n",
    "        else:\n",
    "            self.passengers = passengers\n",
    "    def pick(self, name):\n",
    "        self.passengers.append(name)\n",
    "    def drop(self, name):\n",
    "        self.passengers.remove(name)\n",
    "        \n",
    "bus1 = TwilightBus(['A', 'B', 'C'])\n",
    "print(f'on bus1 (A/B/C): {bus1.passengers}')\n",
    "bus1.pick('D')\n",
    "print(f'on bus1 (A/B/C/D): {bus1.passengers}')\n",
    "bus1.drop('A')\n",
    "print(f'on bus1 (B/C/D): {bus1.passengers}')\n",
    "bus2 = TwilightBus()\n",
    "print(f'on bus2 (): {bus2.passengers}')\n",
    "bus2. pick('E')\n",
    "print(f'on bus2 (E): {bus2.passengers}')\n",
    "bus3 = TwilightBus()\n",
    "print(f'on bus3 (): {bus3.passengers}')\n",
    "bus3. pick('F')\n",
    "print(f'on bus2 (E): {bus2.passengers}')\n",
    "print(f'on bus3 (F): {bus3.passengers}')"
   ]
  },
  {
   "cell_type": "code",
   "execution_count": null,
   "metadata": {},
   "outputs": [],
   "source": [
    "basketball_team = ['A', 'B', 'C', 'D', 'E', 'F']\n",
    "bus1 = TwilightBus(basketball_team)\n",
    "print(f'on bus1 (A/B/C/D/E/F): {bus1.passengers}')\n",
    "print(f'basketball_team = {basketball_team}')\n",
    "bus1.drop('D')\n",
    "print(f'on bus1 (A/B/C/E/F): {bus1.passengers}')\n",
    "print(f'basketball_team = {basketball_team}')\n",
    "bus1.drop('A')\n",
    "print(f'on bus1 (B/C/E/F): {bus1.passengers}')\n",
    "print(f'basketball_team = {basketball_team}')"
   ]
  },
  {
   "cell_type": "code",
   "execution_count": null,
   "metadata": {},
   "outputs": [],
   "source": [
    "class Bus:\n",
    "    def __init__(self, passengers=None):\n",
    "        if passengers is None:\n",
    "            self.passengers = []\n",
    "        else:\n",
    "            # make a copy()\n",
    "            self.passengers = list(passengers)\n",
    "    def pick(self, name):\n",
    "        self.passengers.append(name)\n",
    "    def drop(self, name):\n",
    "        self.passengers.remove(name)\n"
   ]
  },
  {
   "cell_type": "code",
   "execution_count": null,
   "metadata": {},
   "outputs": [],
   "source": [
    "basketball_team = ['A', 'B', 'C', 'D', 'E', 'F']\n",
    "bus1 = Bus(basketball_team)\n",
    "print(f'on bus1 (A/B/C/D/E/F): {bus1.passengers}')\n",
    "print(f'basketball_team = {basketball_team}')\n",
    "bus1.drop('D')\n",
    "print(f'on bus1 (A/B/C/E/F): {bus1.passengers}')\n",
    "print(f'basketball_team = {basketball_team}')\n",
    "bus1.drop('A')\n",
    "print(f'on bus1 (B/C/E/F): {bus1.passengers}')\n",
    "print(f'basketball_team = {basketball_team}')"
   ]
  },
  {
   "cell_type": "code",
   "execution_count": null,
   "metadata": {},
   "outputs": [],
   "source": []
  }
 ],
 "metadata": {
  "kernelspec": {
   "display_name": "Python 3",
   "language": "python",
   "name": "python3"
  },
  "language_info": {
   "codemirror_mode": {
    "name": "ipython",
    "version": 3
   },
   "file_extension": ".py",
   "mimetype": "text/x-python",
   "name": "python",
   "nbconvert_exporter": "python",
   "pygments_lexer": "ipython3",
   "version": "3.6.5"
  }
 },
 "nbformat": 4,
 "nbformat_minor": 2
}
