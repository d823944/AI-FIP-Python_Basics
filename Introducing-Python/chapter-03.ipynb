{
 "cells": [
  {
   "cell_type": "code",
   "execution_count": 1,
   "metadata": {},
   "outputs": [
    {
     "name": "stdout",
     "output_type": "stream",
     "text": [
      "empty_list_1: []\n",
      "empty_list_2: []\n"
     ]
    }
   ],
   "source": [
    "empty_list_1 = []\n",
    "empty_list_2 = list()\n",
    "print('empty_list_1:', empty_list_1)\n",
    "print('empty_list_2:', empty_list_2)"
   ]
  },
  {
   "cell_type": "code",
   "execution_count": 2,
   "metadata": {},
   "outputs": [
    {
     "name": "stdout",
     "output_type": "stream",
     "text": [
      "alphabets_cat:  ['c', 'a', 't']\n"
     ]
    }
   ],
   "source": [
    "alphabets_cat = list('cat')\n",
    "print('alphabets_cat: ', alphabets_cat)"
   ]
  },
  {
   "cell_type": "code",
   "execution_count": 3,
   "metadata": {},
   "outputs": [
    {
     "name": "stdout",
     "output_type": "stream",
     "text": [
      "He was born on 10/12 in 1981.\n"
     ]
    }
   ],
   "source": [
    "birthday = '1981/10/12'\n",
    "birthday = birthday.split('/')\n",
    "print(f'He was born on {birthday[1]}/{birthday[2]} in {birthday[0]}.')"
   ]
  },
  {
   "cell_type": "code",
   "execution_count": 4,
   "metadata": {},
   "outputs": [
    {
     "name": "stdout",
     "output_type": "stream",
     "text": [
      "1981-10-12\n"
     ]
    }
   ],
   "source": [
    "birthday = '1981/10/12'\n",
    "birthday = birthday.replace('/', '-')\n",
    "print(birthday)"
   ]
  },
  {
   "cell_type": "code",
   "execution_count": 5,
   "metadata": {},
   "outputs": [
    {
     "name": "stdout",
     "output_type": "stream",
     "text": [
      "[['Ann', 'Bob', 'Claire', 'Ellen'], ['pizza', 'hamburg', 'fruits', 'steak']]\n"
     ]
    }
   ],
   "source": [
    "names = ['Ann', 'Bob', 'Claire', 'Ellen']\n",
    "foods = ['pizza', 'hamburg', 'fruits', 'steak']\n",
    "list_2D = [names, foods]\n",
    "print(list_2D)"
   ]
  },
  {
   "cell_type": "code",
   "execution_count": 7,
   "metadata": {},
   "outputs": [
    {
     "name": "stdout",
     "output_type": "stream",
     "text": [
      "Claire loves fruits.\n"
     ]
    }
   ],
   "source": [
    "print(f'{list_2D[0][2]} loves {list_2D[1][2]}.')"
   ]
  },
  {
   "cell_type": "code",
   "execution_count": 9,
   "metadata": {},
   "outputs": [
    {
     "name": "stdout",
     "output_type": "stream",
     "text": [
      "['Ann', 'Bob', 'Claire', 'Ellen', 'Frank']\n"
     ]
    }
   ],
   "source": [
    "names = ['Ann', 'Bob', 'Claire', 'Ellen']\n",
    "names.append('Frank')\n",
    "print(names)"
   ]
  },
  {
   "cell_type": "code",
   "execution_count": 12,
   "metadata": {},
   "outputs": [
    {
     "name": "stdout",
     "output_type": "stream",
     "text": [
      "['Ann', 'Bob', 'Claire', 'Ellen', ['Frank', 'George']]\n"
     ]
    }
   ],
   "source": [
    "names = ['Ann', 'Bob', 'Claire', 'Ellen']\n",
    "names.append(['Frank', 'George'])\n",
    "print(names)"
   ]
  },
  {
   "cell_type": "code",
   "execution_count": 13,
   "metadata": {},
   "outputs": [
    {
     "name": "stdout",
     "output_type": "stream",
     "text": [
      "['Ann', 'Bob', 'Claire', 'Ellen', 'Frank', 'George']\n"
     ]
    }
   ],
   "source": [
    "names = ['Ann', 'Bob', 'Claire', 'Ellen']\n",
    "names.extend(['Frank', 'George'])\n",
    "print(names)"
   ]
  },
  {
   "cell_type": "code",
   "execution_count": 14,
   "metadata": {},
   "outputs": [
    {
     "name": "stdout",
     "output_type": "stream",
     "text": [
      "['Ann', 'Bob', 'Claire', 'Ellen', 'Frank', 'George']\n"
     ]
    }
   ],
   "source": [
    "names = ['Ann', 'Bob', 'Claire', 'Ellen']\n",
    "names += ['Frank', 'George']\n",
    "print(names)"
   ]
  },
  {
   "cell_type": "code",
   "execution_count": 15,
   "metadata": {},
   "outputs": [
    {
     "name": "stdout",
     "output_type": "stream",
     "text": [
      "['Ann', 'Bob', 'Claire', 'Ellen', 'Frank']\n"
     ]
    }
   ],
   "source": [
    "names = ['Ann', 'Bob', 'Claire', 'Frank']\n",
    "names.insert(3, 'Ellen')\n",
    "print(names)"
   ]
  },
  {
   "cell_type": "code",
   "execution_count": 17,
   "metadata": {},
   "outputs": [
    {
     "name": "stdout",
     "output_type": "stream",
     "text": [
      "['Ann', 'Bob', 'Claire', 'Ellen', 'Frank']\n",
      "['Ann', 'Bob', 'Ellen', 'Frank']\n"
     ]
    }
   ],
   "source": [
    "names = ['Ann', 'Bob', 'Claire', 'Ellen', 'Frank', 'George']\n",
    "names.pop()\n",
    "print(names)\n",
    "names.pop(2)\n",
    "print(names)"
   ]
  },
  {
   "cell_type": "code",
   "execution_count": 21,
   "metadata": {},
   "outputs": [
    {
     "name": "stdout",
     "output_type": "stream",
     "text": [
      "['Ann', 'Claire', 'Ellen', 'Frank', 'George']\n",
      "['Ann', 'Claire', 'Frank', 'George']\n"
     ]
    }
   ],
   "source": [
    "names = ['Ann', 'Bob', 'Claire', 'Ellen', 'Frank', 'George']\n",
    "names.remove('Bob')\n",
    "print(names)\n",
    "del names[2]\n",
    "print(names)"
   ]
  },
  {
   "cell_type": "code",
   "execution_count": 23,
   "metadata": {},
   "outputs": [
    {
     "name": "stdout",
     "output_type": "stream",
     "text": [
      "1\n"
     ]
    }
   ],
   "source": [
    "names = ['Ann', 'Bob', 'Claire', 'Ellen', 'Frank', 'George']\n",
    "print(names.index('Bob'))"
   ]
  },
  {
   "cell_type": "code",
   "execution_count": 25,
   "metadata": {},
   "outputs": [
    {
     "name": "stdout",
     "output_type": "stream",
     "text": [
      "Ann is in the name list: True\n",
      "Claire is not in the name list: False\n"
     ]
    }
   ],
   "source": [
    "print('Ann is in the name list:', 'Ann' in names)\n",
    "print('Claire is not in the name list:', 'Claire' not in names)"
   ]
  },
  {
   "cell_type": "code",
   "execution_count": 26,
   "metadata": {},
   "outputs": [
    {
     "name": "stdout",
     "output_type": "stream",
     "text": [
      "There are 2 Ann in the name list.\n"
     ]
    }
   ],
   "source": [
    "names = ['Ann', 'Bob', 'Claire', 'Ann', 'Frank', 'George']\n",
    "print('There are', names.count('Ann'), 'Ann in the name list.')"
   ]
  },
  {
   "cell_type": "code",
   "execution_count": 27,
   "metadata": {},
   "outputs": [
    {
     "name": "stdout",
     "output_type": "stream",
     "text": [
      "We have Ann, Bob, Claire, Ellen, Frank, George in the team.\n"
     ]
    }
   ],
   "source": [
    "names = ['Ann', 'Bob', 'Claire', 'Ellen', 'Frank', 'George']\n",
    "print('We have', ', '.join(names), 'in the team.')"
   ]
  },
  {
   "cell_type": "code",
   "execution_count": 30,
   "metadata": {},
   "outputs": [
    {
     "name": "stdout",
     "output_type": "stream",
     "text": [
      "[1, 1, 2, 5, 6, 9, 9]\n"
     ]
    }
   ],
   "source": [
    "num_list = [5, 1, 9, 1, 9, 2, 6]\n",
    "num_list.sort()\n",
    "print(num_list)"
   ]
  },
  {
   "cell_type": "code",
   "execution_count": 31,
   "metadata": {},
   "outputs": [
    {
     "name": "stdout",
     "output_type": "stream",
     "text": [
      "[1, 1, 2, 5, 6, 9, 9]\n",
      "[5, 1, 9, 1, 9, 2, 6]\n"
     ]
    }
   ],
   "source": [
    "num_list = [5, 1, 9, 1, 9, 2, 6]\n",
    "print(sorted(num_list))\n",
    "print(num_list)"
   ]
  },
  {
   "cell_type": "code",
   "execution_count": 32,
   "metadata": {},
   "outputs": [
    {
     "name": "stdout",
     "output_type": "stream",
     "text": [
      "[9, 9, 6, 5, 2, 1, 1]\n"
     ]
    }
   ],
   "source": [
    "num_list = [5, 1, 9, 1, 9, 2, 6]\n",
    "num_list.sort(reverse=True)\n",
    "print(num_list)"
   ]
  },
  {
   "cell_type": "code",
   "execution_count": 34,
   "metadata": {},
   "outputs": [
    {
     "name": "stdout",
     "output_type": "stream",
     "text": [
      "[5, 1, 9, 1, 9, 2, 6]\n",
      "4610764680\n",
      "[5, 1, 9, 1, 9, 2, 6]\n",
      "4610767112\n",
      "True\n",
      "False\n"
     ]
    }
   ],
   "source": [
    "num_list = [5, 1, 9, 1, 9, 2, 6]\n",
    "num_list_1 = num_list\n",
    "num_list_2 = num_list.copy()\n",
    "print(num_list_1)\n",
    "print(id(num_list_1))\n",
    "print(num_list_2)\n",
    "print(id(num_list_2))\n",
    "print(num_list_1 == num_list_2)\n",
    "print(num_list_1 is num_list_2)"
   ]
  },
  {
   "cell_type": "code",
   "execution_count": 36,
   "metadata": {},
   "outputs": [
    {
     "name": "stdout",
     "output_type": "stream",
     "text": [
      "[5, 1, 9, 1, 9, 2, 6]\n",
      "[5, 1, 9, 1, 9, 2, 6]\n",
      "[0, 1, 9, 1, 9, 2, 6]\n"
     ]
    }
   ],
   "source": [
    "num_list_2[0] = 0\n",
    "print(num_list)\n",
    "print(num_list_1)\n",
    "print(num_list_2)"
   ]
  },
  {
   "cell_type": "code",
   "execution_count": 37,
   "metadata": {},
   "outputs": [
    {
     "name": "stdout",
     "output_type": "stream",
     "text": [
      "[7, 1, 9, 1, 9, 2, 6]\n",
      "[7, 1, 9, 1, 9, 2, 6]\n",
      "[0, 1, 9, 1, 9, 2, 6]\n"
     ]
    }
   ],
   "source": [
    "num_list_1[0] = 7\n",
    "print(num_list)\n",
    "print(num_list_1)\n",
    "print(num_list_2)"
   ]
  },
  {
   "cell_type": "code",
   "execution_count": 40,
   "metadata": {},
   "outputs": [
    {
     "name": "stdout",
     "output_type": "stream",
     "text": [
      "True\n",
      "4610687048\n",
      "4610687176\n",
      "4592167816\n",
      "4610912456\n"
     ]
    }
   ],
   "source": [
    "num_list = [5, 1, 9, 1, 9, 2, 6]\n",
    "num_list_1 = num_list.copy()\n",
    "num_list_2 = num_list[:]\n",
    "num_list_3 = list(num_list)\n",
    "print(num_list == num_list_1 == num_list_2 == num_list_3)\n",
    "print(id(num_list))\n",
    "print(id(num_list_1))\n",
    "print(id(num_list_2))\n",
    "print(id(num_list_3))"
   ]
  },
  {
   "cell_type": "code",
   "execution_count": 41,
   "metadata": {},
   "outputs": [
    {
     "name": "stdout",
     "output_type": "stream",
     "text": [
      "('apple', 'blueberry', 'cherry')\n"
     ]
    }
   ],
   "source": [
    "# tuple\n",
    "fruit_tp = 'apple', 'blueberry', 'cherry'\n",
    "print(fruit_tp)"
   ]
  },
  {
   "cell_type": "code",
   "execution_count": 42,
   "metadata": {},
   "outputs": [
    {
     "name": "stdout",
     "output_type": "stream",
     "text": [
      "('apple', 'blueberry', 'cherry')\n"
     ]
    }
   ],
   "source": [
    "# tuple\n",
    "fruit_tp = ('apple', 'blueberry', 'cherry')  # easy to read\n",
    "print(fruit_tp)"
   ]
  },
  {
   "cell_type": "code",
   "execution_count": 43,
   "metadata": {},
   "outputs": [
    {
     "name": "stdout",
     "output_type": "stream",
     "text": [
      "apple\n",
      "blueberry\n",
      "cherry\n"
     ]
    }
   ],
   "source": [
    "# tuple unpacking\n",
    "x, y, z = fruit_tp\n",
    "print(x)\n",
    "print(y)\n",
    "print(z)"
   ]
  },
  {
   "cell_type": "code",
   "execution_count": 45,
   "metadata": {},
   "outputs": [
    {
     "name": "stdout",
     "output_type": "stream",
     "text": [
      "('apple', 'blueberry', 'cherry')\n",
      "('apple', 'blueberry')\n",
      "cherry\n"
     ]
    }
   ],
   "source": [
    "print(fruit_tp[:])\n",
    "print(fruit_tp[:2])\n",
    "print(fruit_tp[2])"
   ]
  },
  {
   "cell_type": "code",
   "execution_count": 46,
   "metadata": {},
   "outputs": [
    {
     "ename": "TypeError",
     "evalue": "'tuple' object does not support item assignment",
     "output_type": "error",
     "traceback": [
      "\u001b[0;31m---------------------------------------------------------------------------\u001b[0m",
      "\u001b[0;31mTypeError\u001b[0m                                 Traceback (most recent call last)",
      "\u001b[0;32m<ipython-input-46-6a98d36cc896>\u001b[0m in \u001b[0;36m<module>\u001b[0;34m()\u001b[0m\n\u001b[0;32m----> 1\u001b[0;31m \u001b[0mfruit_tp\u001b[0m\u001b[0;34m[\u001b[0m\u001b[0;36m1\u001b[0m\u001b[0;34m]\u001b[0m \u001b[0;34m=\u001b[0m \u001b[0;34m'berries'\u001b[0m\u001b[0;34m\u001b[0m\u001b[0m\n\u001b[0m",
      "\u001b[0;31mTypeError\u001b[0m: 'tuple' object does not support item assignment"
     ]
    }
   ],
   "source": [
    "# tuple is immutable\n",
    "fruit_tp[1] = 'berries'"
   ]
  },
  {
   "cell_type": "code",
   "execution_count": 48,
   "metadata": {},
   "outputs": [
    {
     "name": "stdout",
     "output_type": "stream",
     "text": [
      "{'Ann': 'pizza', 'Bob': 'hamburg', 'Claire': 'fruits', 'Ellen': 'steak'}\n"
     ]
    }
   ],
   "source": [
    "names = ['Ann', 'Bob', 'Claire', 'Ellen']\n",
    "foods = ['pizza', 'hamburg', 'fruits', 'steak']\n",
    "favorite_food = dict(zip(names, foods))\n",
    "print(favorite_food)"
   ]
  },
  {
   "cell_type": "code",
   "execution_count": 52,
   "metadata": {},
   "outputs": [
    {
     "name": "stdout",
     "output_type": "stream",
     "text": [
      "dict_keys(['Ann', 'Bob', 'Claire', 'Ellen'])\n",
      "dict_values(['pizza', 'hamburg', 'fruits', 'steak'])\n",
      "dict_items([('Ann', 'pizza'), ('Bob', 'hamburg'), ('Claire', 'fruits'), ('Ellen', 'steak')])\n",
      "pizza\n"
     ]
    }
   ],
   "source": [
    "print(favorite_food.keys())\n",
    "print(favorite_food.values())\n",
    "print(favorite_food.items())\n",
    "print(favorite_food['Ann'])"
   ]
  },
  {
   "cell_type": "code",
   "execution_count": 53,
   "metadata": {},
   "outputs": [
    {
     "name": "stdout",
     "output_type": "stream",
     "text": [
      "{'Bob': 'hamburg', 'Claire': 'fruits', 'Ellen': 'steak'}\n"
     ]
    }
   ],
   "source": [
    "del favorite_food['Ann']\n",
    "print(favorite_food)"
   ]
  },
  {
   "cell_type": "code",
   "execution_count": 54,
   "metadata": {},
   "outputs": [
    {
     "name": "stdout",
     "output_type": "stream",
     "text": [
      "{}\n"
     ]
    }
   ],
   "source": [
    "favorite_food.clear()\n",
    "print(favorite_food)"
   ]
  },
  {
   "cell_type": "code",
   "execution_count": 57,
   "metadata": {},
   "outputs": [
    {
     "name": "stdout",
     "output_type": "stream",
     "text": [
      "Ann is in the keys: True\n",
      "Frank is not in the keys: True\n"
     ]
    }
   ],
   "source": [
    "favorite_food = {'Ann': 'pizza', 'Bob': 'hamburg', 'Claire': 'fruits', 'Ellen': 'steak'}\n",
    "print('Ann is in the keys:', 'Ann' in favorite_food)\n",
    "print('Frank is not in the keys:', 'Frank' not in favorite_food)"
   ]
  },
  {
   "cell_type": "code",
   "execution_count": 59,
   "metadata": {},
   "outputs": [
    {
     "name": "stdout",
     "output_type": "stream",
     "text": [
      "pizza\n",
      "not in the dict\n"
     ]
    }
   ],
   "source": [
    "print(favorite_food.get('Ann', 'not in the dict'))\n",
    "print(favorite_food.get('Frank', 'not in the dict'))"
   ]
  },
  {
   "cell_type": "code",
   "execution_count": 62,
   "metadata": {},
   "outputs": [
    {
     "name": "stdout",
     "output_type": "stream",
     "text": [
      "<class 'set'>\n",
      "<class 'dict'>\n"
     ]
    }
   ],
   "source": [
    "empty_set = set()\n",
    "print(type(set()))\n",
    "print(type({}))"
   ]
  },
  {
   "cell_type": "code",
   "execution_count": 64,
   "metadata": {},
   "outputs": [
    {
     "name": "stdout",
     "output_type": "stream",
     "text": [
      "{1, 2, 5, 6, 9}\n"
     ]
    }
   ],
   "source": [
    "num_list = [5, 1, 9, 1, 9, 2, 6]\n",
    "print(set(num_list))"
   ]
  },
  {
   "cell_type": "code",
   "execution_count": 65,
   "metadata": {},
   "outputs": [
    {
     "name": "stdout",
     "output_type": "stream",
     "text": [
      "Please input 4 different numbers: 1123\n",
      "Oops\n"
     ]
    }
   ],
   "source": [
    "num = input('Please input 4 different numbers: ')\n",
    "if len(set(num)) == 4:\n",
    "    print('OK')\n",
    "else:\n",
    "    print('Oops')"
   ]
  },
  {
   "cell_type": "code",
   "execution_count": 77,
   "metadata": {},
   "outputs": [
    {
     "name": "stdout",
     "output_type": "stream",
     "text": [
      "{0, 2, 4, 5, 6, 7, 9}\n",
      "{0, 1, 2, 3, 5}\n"
     ]
    }
   ],
   "source": [
    "num_list_1 = set([7, 4, 0, 5, 2, 9, 6])\n",
    "num_list_2 = set([2, 5, 3, 1, 3, 3, 0])\n",
    "print(num_list_1)\n",
    "print(num_list_2)"
   ]
  },
  {
   "cell_type": "code",
   "execution_count": 80,
   "metadata": {},
   "outputs": [
    {
     "name": "stdout",
     "output_type": "stream",
     "text": [
      "{0, 2, 5}\n",
      "{0, 1, 2, 3, 4, 5, 6, 7, 9}\n",
      "{9, 4, 6, 7}\n",
      "{1, 3, 4, 6, 7, 9}\n"
     ]
    }
   ],
   "source": [
    "print(num_list_1.intersection(num_list_2))\n",
    "print(num_list_1.union(num_list_2))\n",
    "print(num_list_1.difference(num_list_2))\n",
    "print(num_list_1.symmetric_difference(num_list_2))"
   ]
  },
  {
   "cell_type": "code",
   "execution_count": 81,
   "metadata": {},
   "outputs": [
    {
     "name": "stdout",
     "output_type": "stream",
     "text": [
      "{0, 2, 5}\n",
      "{0, 1, 2, 3, 4, 5, 6, 7, 9}\n",
      "{9, 4, 6, 7}\n",
      "{1, 3, 4, 6, 7, 9}\n"
     ]
    }
   ],
   "source": [
    "print(num_list_1 & num_list_2)\n",
    "print(num_list_1 | num_list_2)\n",
    "print(num_list_1 - num_list_2)\n",
    "print(num_list_1 ^ num_list_2)"
   ]
  },
  {
   "cell_type": "code",
   "execution_count": 87,
   "metadata": {},
   "outputs": [
    {
     "name": "stdout",
     "output_type": "stream",
     "text": [
      "True\n",
      "True\n",
      "True\n",
      "True\n"
     ]
    }
   ],
   "source": [
    "num_list_1 = set([5, 2, 5])\n",
    "num_list_2 = set([7, 4, 0, 5, 2, 9, 6])\n",
    "print(num_list_1.issubset(num_list_2))\n",
    "print(num_list_2.issuperset(num_list_1))\n",
    "print(num_list_1 <= num_list_2)\n",
    "print(num_list_2 >= num_list_1)"
   ]
  },
  {
   "cell_type": "code",
   "execution_count": null,
   "metadata": {},
   "outputs": [],
   "source": []
  }
 ],
 "metadata": {
  "kernelspec": {
   "display_name": "Python 3",
   "language": "python",
   "name": "python3"
  },
  "language_info": {
   "codemirror_mode": {
    "name": "ipython",
    "version": 3
   },
   "file_extension": ".py",
   "mimetype": "text/x-python",
   "name": "python",
   "nbconvert_exporter": "python",
   "pygments_lexer": "ipython3",
   "version": "3.6.5"
  }
 },
 "nbformat": 4,
 "nbformat_minor": 2
}
