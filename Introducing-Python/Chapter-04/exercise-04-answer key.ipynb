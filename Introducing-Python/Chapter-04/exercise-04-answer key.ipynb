{
 "cells": [
  {
   "cell_type": "code",
   "execution_count": 9,
   "metadata": {},
   "outputs": [],
   "source": [
    "\"\"\"The following code can collect every letter of every string in word_list\n",
    "output is ['c', 'a', 't', 'd', 'o', 'g', 'r', 'a', 'b', 'b', 'i', 't']\n",
    "--------------------\n",
    "word_list = ['cat','dog','rabbit']\n",
    "letter_list = [ ]\n",
    "for a_word in word_list:\n",
    "    for a_letter in a_word:\n",
    "        letter_list.append(a_letter)\n",
    "--------------------\n",
    "\n",
    "1. Modify the given code so that the final list only contains a single copy of each letter.\n",
    "The answer is: ['c', 'a', 't', 'd', 'o', 'g', 'r', 'b', 'i']\n",
    "\n",
    "2. Redo the given code using list comprehensions.\n",
    "The answer is: ['c', 'a', 't', 'd', 'o', 'g', 'r', 'a', 'b', 'b', 'i', 't']\n",
    "\n",
    "For an extra challenge, see if you can figure out how to remove the duplicates.\n",
    "\"\"\""
   ]
  },
  {
   "cell_type": "code",
   "execution_count": 70,
   "metadata": {},
   "outputs": [
    {
     "name": "stdout",
     "output_type": "stream",
     "text": [
      "['c', 'a', 't', 'd', 'o', 'g', 'r', 'b', 'i']\n"
     ]
    }
   ],
   "source": [
    "word_list = ['cat','dog','rabbit']\n",
    "letter_list = [ ]\n",
    "for a_word in word_list:\n",
    "    for a_letter in a_word:\n",
    "        if a_letter not in letter_list:\n",
    "            letter_list.append(a_letter)\n",
    "print(letter_list)"
   ]
  },
  {
   "cell_type": "code",
   "execution_count": 75,
   "metadata": {},
   "outputs": [
    {
     "name": "stdout",
     "output_type": "stream",
     "text": [
      "['c', 'a', 't', 'd', 'o', 'g', 'r', 'a', 'b', 'b', 'i', 't']\n",
      "{'r', 'b', 'o', 'i', 'a', 't', 'c', 'g', 'd'}\n"
     ]
    }
   ],
   "source": [
    "word_list = ['cat','dog','rabbit']\n",
    "letter_list = [a_letter for a_word in word_list for a_letter in a_word]\n",
    "print(letter_list)\n",
    "print(set(letter_list))"
   ]
  },
  {
   "cell_type": "code",
   "execution_count": null,
   "metadata": {},
   "outputs": [],
   "source": [
    "\"\"\"Infinite monkey theorem\n",
    "The theorem states that a monkey hitting keys at random on a typewriter keyboard\n",
    "for an infinite amount of time will almost surely type a given text, such as the complete\n",
    "works of William Shakespeare. Well, suppose we replace a monkey with a Python \n",
    "function. How long do you think it would take for a Python function to generate just\n",
    "one sentence of Shakespeare? The sentence we’ll shoot for is: \n",
    "\"methinks it is like a weasel\"\n",
    "\n",
    "You are not going to want to run this one in the browser, so fire up your favorite\n",
    "Python IDE. The way we will simulate this is to write a function that generates a\n",
    "string that is 28 characters long by choosing random letters from the 26 letters\n",
    "in the alphabet plus the space.\n",
    "\n",
    "We will write another function that will score each generated string by comparing\n",
    "the randomly generated string to the goal.\n",
    "\n",
    "A third function will repeatedly call generate and score, then if 100% of the letters\n",
    "are correct we are done. If the letters are not correct then we will generate a whole\n",
    "new string. To make it easier to follow your program’s progress this third function \n",
    "should print out the best string generated so far and its score every 1000 tries.\n",
    "\"\"\""
   ]
  },
  {
   "cell_type": "code",
   "execution_count": 64,
   "metadata": {},
   "outputs": [
    {
     "name": "stdout",
     "output_type": "stream",
     "text": [
      "The best score in 1000 tries: 0.18\n"
     ]
    }
   ],
   "source": [
    "def generate_a_string(length=1):\n",
    "    import random\n",
    "    alphabets = list('abcdefghijklmnopqrstuvwxyz ')\n",
    "    result = ''\n",
    "    for i in range(length):\n",
    "        result += alphabets[random.randint(0, len(alphabets) - 1)]\n",
    "    return result\n",
    "\n",
    "\n",
    "def score_a_string(src, dst):\n",
    "    score = 0\n",
    "    for i in range(min(len(src), len(dst))):\n",
    "        if src[i] == dst[i]:\n",
    "            score += 1\n",
    "    return round(score / max(len(src), len(dst)), 2)\n",
    "\n",
    "\n",
    "def infinite_monkey():\n",
    "    goal = \"methinks it is like a weasel\"\n",
    "    scores = []\n",
    "    for i in range(1000):\n",
    "        score = score_a_string(generate_a_string(len(goal)), goal)\n",
    "        if score == 1:\n",
    "            print('The monkey takes %d tries to hit the goal' % i)\n",
    "            return None\n",
    "        else:\n",
    "            scores.append(score)\n",
    "    return max(scores)\n",
    "\n",
    "\n",
    "print('The best score in 1000 tries:', infinite_monkey())"
   ]
  },
  {
   "cell_type": "code",
   "execution_count": null,
   "metadata": {},
   "outputs": [],
   "source": [
    "\"\"\"\n",
    "See if you can improve upon the program in the self check by keeping letters \n",
    "that are correct and only modifying one character in the best string so far. \n",
    "\n",
    "This is a type of algorithm in the class of “hill climbing” algorithms, that is we \n",
    "only keep the result if it is better than the previous one.\n",
    "\"\"\""
   ]
  },
  {
   "cell_type": "code",
   "execution_count": 66,
   "metadata": {},
   "outputs": [
    {
     "name": "stdout",
     "output_type": "stream",
     "text": [
      "Max tries: 1271,  Min tries: 358,  Avg. tries: 724\n"
     ]
    }
   ],
   "source": [
    "def hill_climbing():\n",
    "    import random\n",
    "    score = 0\n",
    "    tries = 0\n",
    "    alphabets = list('abcdefghijklmnopqrstuvwxyz ')\n",
    "    goal = list(\"methinks it is like a weasel\")\n",
    "    words = list(generate_a_string(len(goal)))\n",
    "    while True:\n",
    "        tries += 1\n",
    "        compare = [0 if letter == goal[i] else 1 for i, letter in enumerate(words)]\n",
    "        score = 1 - sum(compare) / len(compare)\n",
    "        if score < 1:\n",
    "            words[compare.index(1)] = alphabets[random.randint(0, len(alphabets) - 1)]\n",
    "        else:\n",
    "            return tries\n",
    "\n",
    "tries = []\n",
    "for i in range(1000):\n",
    "    tries.append(hill_climbing())\n",
    "\n",
    "print('Max tries: %d,  Min tries: %d,  Avg. tries: %.0f' % \n",
    "      (max(tries), min(tries), sum(tries) / len(tries)))"
   ]
  },
  {
   "cell_type": "code",
   "execution_count": null,
   "metadata": {},
   "outputs": [],
   "source": []
  }
 ],
 "metadata": {
  "kernelspec": {
   "display_name": "Python 3",
   "language": "python",
   "name": "python3"
  },
  "language_info": {
   "codemirror_mode": {
    "name": "ipython",
    "version": 3
   },
   "file_extension": ".py",
   "mimetype": "text/x-python",
   "name": "python",
   "nbconvert_exporter": "python",
   "pygments_lexer": "ipython3",
   "version": "3.6.5"
  }
 },
 "nbformat": 4,
 "nbformat_minor": 2
}
