{
 "cells": [
  {
   "cell_type": "code",
   "execution_count": null,
   "metadata": {},
   "outputs": [],
   "source": [
    "def myAdder_1(x, y):\n",
    "    return x + y\n",
    "\n",
    "print(myAdder_1(2, 3))"
   ]
  },
  {
   "cell_type": "code",
   "execution_count": null,
   "metadata": {},
   "outputs": [],
   "source": [
    "def myAdder_2(x, y, *args):\n",
    "    s = x + y\n",
    "    for z in args:\n",
    "        s += z\n",
    "    return s\n",
    "\n",
    "print(myAdder_2(1, 2, 3, 3.5, 5.5))"
   ]
  },
  {
   "cell_type": "code",
   "execution_count": null,
   "metadata": {},
   "outputs": [],
   "source": [
    "def myDivider(x, y, *args):\n",
    "    try:\n",
    "        s = x / y\n",
    "        for z in args:\n",
    "            s /= z\n",
    "        return s\n",
    "    except Exception as exc:\n",
    "        return exc\n",
    "\n",
    "print(myDivider(15, 3))\n",
    "print(myDivider(45, 3, 5))\n",
    "print(myDivider(120, 2, 3, 4))\n",
    "print(myDivider(0, 3, 5))\n",
    "print(myDivider(15, 0, 5))\n",
    "print(myDivider(15, 3, 0))"
   ]
  },
  {
   "cell_type": "code",
   "execution_count": null,
   "metadata": {},
   "outputs": [],
   "source": [
    "def self_intro(first_name, **kwargs):\n",
    "    print('Hi, everyone.', first_name, 'is my first name.')\n",
    "    for k, v in kwargs.items():\n",
    "        print('My', k, 'is', v, '.')\n",
    "\n",
    "user_profile = {\n",
    "    'first name': 'Ann',\n",
    "    'last name': 'Lee',\n",
    "    'age': 30,\n",
    "    'company': 'ABC',\n",
    "}\n",
    "first_name = user_profile['first name']\n",
    "del user_profile['first name']\n",
    "self_intro(first_name, **user_profile)"
   ]
  },
  {
   "cell_type": "code",
   "execution_count": null,
   "metadata": {},
   "outputs": [],
   "source": [
    "user_profile_2 = {\n",
    "    'first_name': 'Bob',\n",
    "    'age': 40,\n",
    "}\n",
    "first_name = user_profile_2['first_name']\n",
    "del user_profile_2['first_name']\n",
    "self_intro(first_name, **user_profile_2)"
   ]
  },
  {
   "cell_type": "code",
   "execution_count": null,
   "metadata": {},
   "outputs": [],
   "source": [
    "# recursive function\n",
    "def factorial(N):\n",
    "    if N == 1:\n",
    "        return 1\n",
    "    else:\n",
    "        return N * factorial(N-1)\n",
    "\n",
    "factorial(6)"
   ]
  },
  {
   "cell_type": "code",
   "execution_count": null,
   "metadata": {},
   "outputs": [],
   "source": [
    "# inner function\n",
    "def factorial_2(N):\n",
    "    def inner_factorial(N):\n",
    "        if N <= 1:\n",
    "            return 1\n",
    "        return N*inner_factorial(N-1)\n",
    "    return inner_factorial(N)\n",
    "\n",
    "factorial_2(6)"
   ]
  },
  {
   "cell_type": "code",
   "execution_count": null,
   "metadata": {},
   "outputs": [],
   "source": []
  }
 ],
 "metadata": {
  "kernelspec": {
   "display_name": "Python 3",
   "language": "python",
   "name": "python3"
  },
  "language_info": {
   "codemirror_mode": {
    "name": "ipython",
    "version": 3
   },
   "file_extension": ".py",
   "mimetype": "text/x-python",
   "name": "python",
   "nbconvert_exporter": "python",
   "pygments_lexer": "ipython3",
   "version": "3.6.5"
  }
 },
 "nbformat": 4,
 "nbformat_minor": 2
}
