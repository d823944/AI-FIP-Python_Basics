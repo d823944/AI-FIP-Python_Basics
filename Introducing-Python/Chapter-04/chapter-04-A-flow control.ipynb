{
 "cells": [
  {
   "cell_type": "code",
   "execution_count": null,
   "metadata": {},
   "outputs": [],
   "source": [
    "for i in range(10):\n",
    "    print(i)"
   ]
  },
  {
   "cell_type": "code",
   "execution_count": null,
   "metadata": {},
   "outputs": [],
   "source": [
    "for i in range(0, 10, 2):\n",
    "    print(i)"
   ]
  },
  {
   "cell_type": "code",
   "execution_count": null,
   "metadata": {},
   "outputs": [],
   "source": [
    "for i in range(2, 5):\n",
    "    for j in range(2, 5):\n",
    "        print(f'{i} * {j} = {i * j:2d}\\t\\t', end='')\n",
    "    print()"
   ]
  },
  {
   "cell_type": "code",
   "execution_count": null,
   "metadata": {},
   "outputs": [],
   "source": [
    "for score in range(10, 110, 10):\n",
    "    if score < 60:\n",
    "        print(f'{score}: grade-C')\n",
    "    elif score < 80:\n",
    "        print(f'{score}: grade-B')\n",
    "    else:\n",
    "        print(f'{score}: grade-A')"
   ]
  },
  {
   "cell_type": "code",
   "execution_count": null,
   "metadata": {},
   "outputs": [],
   "source": [
    "# list comprehension\n",
    "even_num = [i for i in range(20) if i % 2 == 0]\n",
    "odd_num = [i for i in range(20) if i % 2 != 0]\n",
    "middle_num = [i for i in range(20) if (i >= 8) and (i <= 13)]\n",
    "odd_squared = [i ** 2 if i % 2 != 0 else '-' for i in range(10)]\n",
    "print(even_num)\n",
    "print(odd_num)\n",
    "print(middle_num)\n",
    "print(odd_squared)"
   ]
  },
  {
   "cell_type": "code",
   "execution_count": null,
   "metadata": {},
   "outputs": [],
   "source": [
    "ranks = ['Spade', 'Heart', 'Diamond', 'Club']\n",
    "numbers = [str(i) for i in range(2, 11)] + ['J', 'Q', 'K', 'A']\n",
    "for rank in ranks:\n",
    "    for number in numbers:\n",
    "        print(f'{rank}-{number}\\t', end='')\n",
    "    print()"
   ]
  },
  {
   "cell_type": "code",
   "execution_count": null,
   "metadata": {},
   "outputs": [],
   "source": [
    "ranks = ['Spade', 'Heart', 'Diamond', 'Club']\n",
    "numbers = [str(i) for i in range(2, 11)] + ['J', 'Q', 'K', 'A']\n",
    "for r, rank in enumerate(ranks):\n",
    "    for n, number in enumerate(numbers):\n",
    "        print(f'#{r * 13 + n + 1:2d} : {rank}-{number}\\t', end='')\n",
    "    print()"
   ]
  },
  {
   "cell_type": "code",
   "execution_count": null,
   "metadata": {},
   "outputs": [],
   "source": [
    "authentication = '1234'\n",
    "trial = 0\n",
    "while True:\n",
    "    trial += 1\n",
    "    password = input('Please enter your password (trial: %d): ' % trial)\n",
    "    if password == authentication:\n",
    "        print('Welcome!')\n",
    "        break\n",
    "    elif trial == 3:\n",
    "        print('You have failed three times, bye~')\n",
    "        break\n",
    "    else:\n",
    "        print('Try again!')\n",
    "        continue"
   ]
  },
  {
   "cell_type": "code",
   "execution_count": null,
   "metadata": {},
   "outputs": [],
   "source": [
    "animals = ['rabbit', 'cat', 'dog']\n",
    "for i in range(3):\n",
    "    guess = input('Guess what animal do we have? ')\n",
    "    if guess in animals:\n",
    "        print('Yes,', guess, 'is in our zoo.')\n",
    "        break\n",
    "    else:\n",
    "        print(\"No, we don't have it.\")\n",
    "        print('Try again!')\n",
    "else:\n",
    "    print('Oops, you have bad luck.')\n",
    "    "
   ]
  },
  {
   "cell_type": "code",
   "execution_count": null,
   "metadata": {},
   "outputs": [],
   "source": [
    "names = ['Ann', 'Bob', 'Claire', 'Ellen', 'Frank', 'George']\n",
    "languages = ['Chinese', 'English', 'Japanese', 'Korean', 'Spanish', 'French']\n",
    "dict_lang = dict(zip(names, languages))\n",
    "print(dict_lang)"
   ]
  },
  {
   "cell_type": "code",
   "execution_count": null,
   "metadata": {},
   "outputs": [],
   "source": [
    "for k, v in dict_lang.items():\n",
    "    print(k, 'speaks', v, 'well.')"
   ]
  },
  {
   "cell_type": "code",
   "execution_count": null,
   "metadata": {},
   "outputs": [],
   "source": [
    "names = ['Ann', 'Bob', 'Claire', 'Ellen', 'Frank', 'George']\n",
    "char_in_names = {name: len(set(list(name))) for name in names}\n",
    "print(char_in_names)\n",
    "for name in char_in_names.keys():\n",
    "    print(name, 'has', char_in_names[name], 'unique alphabets in his/her name.')"
   ]
  },
  {
   "cell_type": "code",
   "execution_count": null,
   "metadata": {},
   "outputs": [],
   "source": []
  }
 ],
 "metadata": {
  "kernelspec": {
   "display_name": "Python 3",
   "language": "python",
   "name": "python3"
  },
  "language_info": {
   "codemirror_mode": {
    "name": "ipython",
    "version": 3
   },
   "file_extension": ".py",
   "mimetype": "text/x-python",
   "name": "python",
   "nbconvert_exporter": "python",
   "pygments_lexer": "ipython3",
   "version": "3.6.5"
  }
 },
 "nbformat": 4,
 "nbformat_minor": 2
}
