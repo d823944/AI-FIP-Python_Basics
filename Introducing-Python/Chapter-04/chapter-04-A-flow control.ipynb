{
 "cells": [
  {
   "cell_type": "code",
   "execution_count": null,
   "metadata": {},
   "outputs": [],
   "source": [
    "range(1, 10, 2)"
   ]
  },
  {
   "cell_type": "code",
   "execution_count": null,
   "metadata": {},
   "outputs": [],
   "source": [
    "for i in range(1, 10, 2):\n",
    "    print(i)"
   ]
  },
  {
   "cell_type": "code",
   "execution_count": null,
   "metadata": {},
   "outputs": [],
   "source": [
    "for i in range(2, 5):\n",
    "    for j in range(2, 5):\n",
    "        print(f'{i} * {j} = {i * j:2d}\\t\\t', end='')\n",
    "    print()"
   ]
  },
  {
   "cell_type": "code",
   "execution_count": null,
   "metadata": {},
   "outputs": [],
   "source": [
    "word_list = ['cat','dog','rabbit']\n",
    "letter_list = [ ]\n",
    "for a_word in word_list:\n",
    "    for a_letter in a_word:\n",
    "        letter_list.append(a_letter)\n",
    "print(letter_list)"
   ]
  },
  {
   "cell_type": "code",
   "execution_count": null,
   "metadata": {},
   "outputs": [],
   "source": [
    "sq_list = [ ]\n",
    "for x in range(1, 11, 2):\n",
    "    sq_list.append(x * x)\n",
    "\n",
    "print(sq_list)"
   ]
  },
  {
   "cell_type": "code",
   "execution_count": null,
   "metadata": {},
   "outputs": [],
   "source": [
    "# list comprehension\n",
    "\"\"\"comprehension syntax:\n",
    "The if after the for…in is part of list comprehensions and used to\n",
    "filter elements from the source iterable.\n",
    "\"\"\"\n",
    "sq_list = [x * x for x in range(1, 11) if x % 2 != 0]\n",
    "print(sq_list)"
   ]
  },
  {
   "cell_type": "code",
   "execution_count": null,
   "metadata": {},
   "outputs": [],
   "source": [
    "[ch.upper() for ch in 'comprehension' if ch not in 'aeiou']"
   ]
  },
  {
   "cell_type": "code",
   "execution_count": null,
   "metadata": {},
   "outputs": [],
   "source": [
    "\"\"\"Note that this actually uses a different language construct, a conditional expression.\n",
    "Conditional expressions can be used in all kinds of situations where you want to choose\n",
    "between two expression values based on some condition. \n",
    "\"\"\"\n",
    "odd_squared = [i ** 2 if i % 2 != 0 else 0 for i in range(10)]\n",
    "print(odd_squared)"
   ]
  },
  {
   "cell_type": "code",
   "execution_count": null,
   "metadata": {},
   "outputs": [],
   "source": [
    "odd_squared = []\n",
    "for i in range(10):\n",
    "    if i % 2 != 0:\n",
    "        odd_squared.append(i ** 2)\n",
    "    else:\n",
    "        odd_squared.append(0)\n",
    "print(odd_squared)"
   ]
  },
  {
   "cell_type": "code",
   "execution_count": null,
   "metadata": {},
   "outputs": [],
   "source": [
    "# How can I traverse dataframe without nested for loop?\n",
    "import pandas as pd\n",
    "import numpy as np\n",
    "\n",
    "df = pd.DataFrame([[1, 2, 3], [4, 5, 6], [7, 8, 9]], columns=['a', 'b', 'c'])\n",
    "print(df)\n",
    "\n",
    "# 86.3 µs ± 2.01 µs -- nested for loop\n",
    "print([df.loc[row, col] for row in df.index for col in df.columns])\n",
    "\n",
    "# 9.41 µs ± 218 ns\n",
    "print([i for i in df.values.reshape((df.shape[0] * df.shape[1]))])\n",
    "\n",
    "# 6.42 µs ± 653 ns\n",
    "print([i for i in df.values.ravel()])"
   ]
  },
  {
   "cell_type": "code",
   "execution_count": 1,
   "metadata": {},
   "outputs": [
    {
     "name": "stdout",
     "output_type": "stream",
     "text": [
      "910 µs ± 27.7 µs per loop (mean ± std. dev. of 7 runs, 1000 loops each)\n",
      "67.8 µs ± 813 ns per loop (mean ± std. dev. of 7 runs, 10000 loops each)\n",
      "28.4 µs ± 739 ns per loop (mean ± std. dev. of 7 runs, 10000 loops each)\n",
      "11.9 µs ± 289 ns per loop (mean ± std. dev. of 7 runs, 100000 loops each)\n"
     ]
    }
   ],
   "source": [
    "# 910 µs ± 27.7 µs \n",
    "def test1():\n",
    "    l = []\n",
    "    for i in range(1000):\n",
    "        l = l + [i]\n",
    "\n",
    "# 67.8 µs ± 813 ns\n",
    "def test2():\n",
    "    l = []\n",
    "    for i in range(1000):\n",
    "        l.append(i)\n",
    "\n",
    "# 28.4 µs ± 739 ns\n",
    "def test3():\n",
    "    l = [i for i in range(1000)]\n",
    "\n",
    "# 11.9 µs ± 289 ns\n",
    "def test4():\n",
    "    l = list(range(1000))\n",
    "    \n",
    "#%timeit test1()\n",
    "#%timeit test2()\n",
    "#%timeit test3()\n",
    "#%timeit test4()"
   ]
  },
  {
   "cell_type": "code",
   "execution_count": null,
   "metadata": {},
   "outputs": [],
   "source": [
    "ranks = ['Spade', 'Heart', 'Diamond', 'Club']\n",
    "numbers = [str(i) for i in range(2, 11)] + ['J', 'Q', 'K', 'A']\n",
    "for r, rank in enumerate(ranks):\n",
    "    for n, number in enumerate(numbers):\n",
    "        print(f'#{r * 13 + n + 1:2d} : {rank}-{number}')"
   ]
  },
  {
   "cell_type": "code",
   "execution_count": null,
   "metadata": {},
   "outputs": [],
   "source": [
    "authentication = '1234'\n",
    "trial = 0\n",
    "while True:\n",
    "    trial += 1\n",
    "    password = input('Please enter your password (trial: %d): ' % trial)\n",
    "    if password == authentication:\n",
    "        print('Welcome!')\n",
    "        break\n",
    "    elif trial == 3:\n",
    "        print('You have failed three times, bye~')\n",
    "        break\n",
    "    else:\n",
    "        print('Try again!')\n",
    "        continue"
   ]
  },
  {
   "cell_type": "code",
   "execution_count": null,
   "metadata": {},
   "outputs": [],
   "source": [
    "animals = ['rabbit', 'cat', 'dog']\n",
    "for i in range(3):\n",
    "    guess = input('Guess what animal do we have? ')\n",
    "    if guess in animals:\n",
    "        print('Yes,', guess, 'is in our zoo.')\n",
    "        break\n",
    "    else:\n",
    "        print(\"No, we don't have it.\")\n",
    "        print('Try again!')\n",
    "else:\n",
    "    print('Oops, you have bad luck.')\n",
    "    "
   ]
  },
  {
   "cell_type": "code",
   "execution_count": null,
   "metadata": {},
   "outputs": [],
   "source": [
    "names = ['Ann', 'Bob', 'Claire', 'Ellen', 'Frank', 'George']\n",
    "languages = ['Chinese', 'English', 'Japanese', 'Korean', 'Spanish', 'French']\n",
    "dict_lang = dict(zip(names, languages))\n",
    "\n",
    "for k, v in dict_lang.items():\n",
    "    print(k, 'speaks', v, 'well.')"
   ]
  },
  {
   "cell_type": "code",
   "execution_count": null,
   "metadata": {},
   "outputs": [],
   "source": [
    "names = ['Ann', 'Bob', 'Claire', 'Ellen', 'Frank', 'George']\n",
    "char_in_names = {name: len(set(list(name))) for name in names}\n",
    "\n",
    "for name in char_in_names.keys():\n",
    "    print(name, 'has', char_in_names[name], 'unique alphabets in his/her name.')"
   ]
  }
 ],
 "metadata": {
  "kernelspec": {
   "display_name": "Python 3",
   "language": "python",
   "name": "python3"
  },
  "language_info": {
   "codemirror_mode": {
    "name": "ipython",
    "version": 3
   },
   "file_extension": ".py",
   "mimetype": "text/x-python",
   "name": "python",
   "nbconvert_exporter": "python",
   "pygments_lexer": "ipython3",
   "version": "3.6.5"
  }
 },
 "nbformat": 4,
 "nbformat_minor": 2
}
