{
 "cells": [
  {
   "cell_type": "code",
   "execution_count": null,
   "metadata": {},
   "outputs": [],
   "source": [
    "import random\n",
    "# generate four different random numbers\n",
    "answer = []\n",
    "while len(set(answer)) < 4:\n",
    "    answer.append(str(random.randint(0, 9)))\n",
    "answer = tuple(set(answer))\n",
    "# start playing the 1A2B game with computer\n",
    "max_trials = 10\n",
    "guess = []\n",
    "for trial in range(1, max_trials + 1):\n",
    "    while True:\n",
    "        guess = input('Trial-%d: Your guess? ' % trial)\n",
    "        guess = list(guess)\n",
    "        if len(set(guess)) == 4:\n",
    "            break\n",
    "        else:\n",
    "            print('Warning: please enter four differene numbers.')\n",
    "    #compare guess and answer\n",
    "    count_A = sum([answer[i] == guess[i] for i in range(4)])\n",
    "    count_B = len(set(answer) & set(guess)) - count_A\n",
    "    if count_A == 4:\n",
    "        print('Bingo!')\n",
    "        break\n",
    "    else:\n",
    "        print('==> %dA%dB' % (count_A, count_B))\n",
    "else:\n",
    "    print('Game over! Correct answer is', answer )"
   ]
  },
  {
   "cell_type": "code",
   "execution_count": null,
   "metadata": {},
   "outputs": [],
   "source": []
  }
 ],
 "metadata": {
  "kernelspec": {
   "display_name": "Python 3",
   "language": "python",
   "name": "python3"
  },
  "language_info": {
   "codemirror_mode": {
    "name": "ipython",
    "version": 3
   },
   "file_extension": ".py",
   "mimetype": "text/x-python",
   "name": "python",
   "nbconvert_exporter": "python",
   "pygments_lexer": "ipython3",
   "version": "3.6.5"
  }
 },
 "nbformat": 4,
 "nbformat_minor": 2
}
