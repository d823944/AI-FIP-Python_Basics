{
 "cells": [
  {
   "cell_type": "code",
   "execution_count": null,
   "metadata": {},
   "outputs": [],
   "source": [
    "print(5/0)"
   ]
  },
  {
   "cell_type": "code",
   "execution_count": null,
   "metadata": {},
   "outputs": [],
   "source": [
    "def my_division(x, y):\n",
    "    try:\n",
    "        return x/y\n",
    "    except:\n",
    "        print('** Error: division by zero')\n",
    "        return 'N/A'\n",
    "    \n",
    "print(my_division(5, 0))"
   ]
  },
  {
   "cell_type": "code",
   "execution_count": null,
   "metadata": {},
   "outputs": [],
   "source": [
    "def open_a_not_existing_file(fn):\n",
    "    with open(fn, 'r') as f:\n",
    "        f.readlines()\n",
    "\n",
    "open_a_not_existing_file('open_a_not_existing_file.txt')"
   ]
  },
  {
   "cell_type": "code",
   "execution_count": null,
   "metadata": {},
   "outputs": [],
   "source": [
    "def open_a_not_existing_file(fn):\n",
    "    try:\n",
    "        with open(fn, 'r') as f:\n",
    "            f.readlines()\n",
    "    except:\n",
    "        print('** Warning: file not found (failed try)')\n",
    "    else:\n",
    "        print('... start processing data (passed try)')\n",
    "    finally:\n",
    "        print('... task completed (no matter what)')\n",
    "\n",
    "open_a_not_existing_file('stock_prices.csv')"
   ]
  },
  {
   "cell_type": "code",
   "execution_count": null,
   "metadata": {},
   "outputs": [],
   "source": []
  }
 ],
 "metadata": {
  "kernelspec": {
   "display_name": "Python 3",
   "language": "python",
   "name": "python3"
  },
  "language_info": {
   "codemirror_mode": {
    "name": "ipython",
    "version": 3
   },
   "file_extension": ".py",
   "mimetype": "text/x-python",
   "name": "python",
   "nbconvert_exporter": "python",
   "pygments_lexer": "ipython3",
   "version": "3.6.5"
  }
 },
 "nbformat": 4,
 "nbformat_minor": 2
}
