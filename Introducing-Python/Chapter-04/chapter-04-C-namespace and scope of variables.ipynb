{
 "cells": [
  {
   "cell_type": "code",
   "execution_count": null,
   "metadata": {},
   "outputs": [],
   "source": [
    "def my_adder_1(*args):\n",
    "    mySum = 0\n",
    "    for num in args:\n",
    "        mySum += num\n",
    "    return mySum\n",
    "\n",
    "mySum = 100\n",
    "print(mySum)\n",
    "print(my_adder_1(1, 2, 3, 4))\n",
    "print(mySum)"
   ]
  },
  {
   "cell_type": "code",
   "execution_count": null,
   "metadata": {},
   "outputs": [],
   "source": [
    "def my_adder_2(*args):\n",
    "    global mySum\n",
    "    mySum = 0\n",
    "    for num in args:\n",
    "        mySum += num\n",
    "    return mySum\n",
    "\n",
    "mySum = 100\n",
    "print(mySum)\n",
    "print(my_adder_2(1, 2, 3, 4))\n",
    "print(mySum)"
   ]
  },
  {
   "cell_type": "code",
   "execution_count": null,
   "metadata": {},
   "outputs": [],
   "source": []
  }
 ],
 "metadata": {
  "kernelspec": {
   "display_name": "Python 3",
   "language": "python",
   "name": "python3"
  },
  "language_info": {
   "codemirror_mode": {
    "name": "ipython",
    "version": 3
   },
   "file_extension": ".py",
   "mimetype": "text/x-python",
   "name": "python",
   "nbconvert_exporter": "python",
   "pygments_lexer": "ipython3",
   "version": "3.6.5"
  }
 },
 "nbformat": 4,
 "nbformat_minor": 2
}
