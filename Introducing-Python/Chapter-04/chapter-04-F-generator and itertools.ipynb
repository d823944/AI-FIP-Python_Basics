{
 "cells": [
  {
   "cell_type": "code",
   "execution_count": null,
   "metadata": {},
   "outputs": [],
   "source": [
    "def get_next_element(L):\n",
    "    for item in L:\n",
    "        yield (item)\n",
    "\n",
    "L = ['a', 'b', 'c', 'd', 'e']\n",
    "gen = get_next_element(L)\n",
    "\n",
    "for i in range(len(L)):\n",
    "    unused_value = input('Press ENTER to continue...')\n",
    "    next_element = next(gen)\n",
    "    print(next_element)"
   ]
  },
  {
   "cell_type": "code",
   "execution_count": null,
   "metadata": {},
   "outputs": [],
   "source": [
    "# 撲克牌發牌器\n",
    "def poker():\n",
    "    import numpy as np\n",
    "    ranks = ['Spade-', 'Heart-', 'Diamond-', 'Club-']\n",
    "    num = ['A', '2', '3', '4', '5', '6', '7', '8', '9', '10', 'J', 'Q', 'K']\n",
    "    cards = np.arange(52)\n",
    "    np.random.shuffle(cards)\n",
    "    for card in cards:\n",
    "        yield ranks[card % 4] + num[card // 4]\n",
    "    \n",
    "card_gen = poker()\n",
    "for iter in range(10):\n",
    "    print([next(card_gen) for i in range(5)])\n"
   ]
  },
  {
   "cell_type": "code",
   "execution_count": null,
   "metadata": {},
   "outputs": [],
   "source": [
    "memory = []\n",
    "card_gen = poker()\n",
    "for iter in range(10):\n",
    "    for i in range(5):\n",
    "        memory.append(next(card_gen))\n",
    "        \n",
    "len(set(memory))"
   ]
  },
  {
   "cell_type": "code",
   "execution_count": null,
   "metadata": {},
   "outputs": [],
   "source": [
    "import itertools\n",
    "\n",
    "for item in itertools.chain([1, 2], ['a', 'b']):\n",
    "    print(item)"
   ]
  },
  {
   "cell_type": "code",
   "execution_count": null,
   "metadata": {},
   "outputs": [],
   "source": [
    "import itertools\n",
    "\n",
    "# itertools.accumulate(): 預設為加計總和\n",
    "for item in itertools.accumulate([1, 2, 3, 4, 5]):\n",
    "    print(item)"
   ]
  },
  {
   "cell_type": "code",
   "execution_count": null,
   "metadata": {},
   "outputs": [],
   "source": [
    "import itertools\n",
    "\n",
    "def multiply(a, b):\n",
    "    return a * b\n",
    "\n",
    "# itertools.accumulate(): 改為聚積自訂的函式\n",
    "for item in itertools.accumulate([1, 2, 3, 4, 5], multiply):\n",
    "    print(item)"
   ]
  },
  {
   "cell_type": "code",
   "execution_count": null,
   "metadata": {},
   "outputs": [],
   "source": [
    "import itertools\n",
    "\n",
    "c = itertools.cycle((1, -1))\n",
    "\n",
    "for i in [1, 2, 3, 4, 5]:\n",
    "        print(i * next(c))\n",
    "    \n",
    "c = itertools.cycle(('a', 'b'))\n",
    "for i in [1, 2, 3, 4, 5]:\n",
    "        print(str(i) + next(c))"
   ]
  }
 ],
 "metadata": {
  "kernelspec": {
   "display_name": "Python 3",
   "language": "python",
   "name": "python3"
  },
  "language_info": {
   "codemirror_mode": {
    "name": "ipython",
    "version": 3
   },
   "file_extension": ".py",
   "mimetype": "text/x-python",
   "name": "python",
   "nbconvert_exporter": "python",
   "pygments_lexer": "ipython3",
   "version": "3.6.5"
  }
 },
 "nbformat": 4,
 "nbformat_minor": 2
}
