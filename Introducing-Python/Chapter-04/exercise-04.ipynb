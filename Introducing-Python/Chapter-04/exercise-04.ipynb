{
 "cells": [
  {
   "cell_type": "code",
   "execution_count": 9,
   "metadata": {},
   "outputs": [],
   "source": [
    "\"\"\"The following code can collect every letter of every string in word_list\n",
    "output is ['c', 'a', 't', 'd', 'o', 'g', 'r', 'a', 'b', 'b', 'i', 't']\n",
    "--------------------\n",
    "word_list = ['cat','dog','rabbit']\n",
    "letter_list = [ ]\n",
    "for a_word in word_list:\n",
    "    for a_letter in a_word:\n",
    "        letter_list.append(a_letter)\n",
    "--------------------\n",
    "\n",
    "1. Modify the given code so that the final list only contains a single copy of each letter.\n",
    "The answer is: ['c', 'a', 't', 'd', 'o', 'g', 'r', 'b', 'i']\n",
    "\n",
    "2. Redo the given code using list comprehensions.\n",
    "The answer is: ['c', 'a', 't', 'd', 'o', 'g', 'r', 'a', 'b', 'b', 'i', 't']\n",
    "\n",
    "For an extra challenge, see if you can figure out how to remove the duplicates.\n",
    "\"\"\""
   ]
  },
  {
   "cell_type": "code",
   "execution_count": null,
   "metadata": {},
   "outputs": [],
   "source": [
    "\"\"\"Infinite monkey theorem\n",
    "The theorem states that a monkey hitting keys at random on a typewriter keyboard\n",
    "for an infinite amount of time will almost surely type a given text, such as the complete\n",
    "works of William Shakespeare. Well, suppose we replace a monkey with a Python \n",
    "function. How long do you think it would take for a Python function to generate just\n",
    "one sentence of Shakespeare? The sentence we’ll shoot for is: \n",
    "\"methinks it is like a weasel\"\n",
    "\n",
    "You are not going to want to run this one in the browser, so fire up your favorite\n",
    "Python IDE. The way we will simulate this is to write a function that generates a\n",
    "string that is 28 characters long by choosing random letters from the 26 letters\n",
    "in the alphabet plus the space.\n",
    "\n",
    "We will write another function that will score each generated string by comparing\n",
    "the randomly generated string to the goal.\n",
    "\n",
    "A third function will repeatedly call generate and score, then if 100% of the letters\n",
    "are correct we are done. If the letters are not correct then we will generate a whole\n",
    "new string. To make it easier to follow your program’s progress this third function \n",
    "should print out the best string generated so far and its score every 1000 tries.\n",
    "\"\"\""
   ]
  },
  {
   "cell_type": "code",
   "execution_count": null,
   "metadata": {},
   "outputs": [],
   "source": [
    "\"\"\"\n",
    "See if you can improve upon the program in the self check by keeping letters \n",
    "that are correct and only modifying one character in the best string so far. \n",
    "\n",
    "This is a type of algorithm in the class of “hill climbing” algorithms, that is we \n",
    "only keep the result if it is better than the previous one.\n",
    "\"\"\""
   ]
  },
  {
   "cell_type": "code",
   "execution_count": null,
   "metadata": {},
   "outputs": [],
   "source": []
  }
 ],
 "metadata": {
  "kernelspec": {
   "display_name": "Python 3",
   "language": "python",
   "name": "python3"
  },
  "language_info": {
   "codemirror_mode": {
    "name": "ipython",
    "version": 3
   },
   "file_extension": ".py",
   "mimetype": "text/x-python",
   "name": "python",
   "nbconvert_exporter": "python",
   "pygments_lexer": "ipython3",
   "version": "3.6.5"
  }
 },
 "nbformat": 4,
 "nbformat_minor": 2
}
