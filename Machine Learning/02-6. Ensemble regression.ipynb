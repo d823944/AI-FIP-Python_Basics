{
 "cells": [
  {
   "cell_type": "markdown",
   "metadata": {},
   "source": [
    "### After-class reading\n",
    "#### Boston Home Prices Prediction and Evaluation\n",
    "https://www.ritchieng.com/machine-learning-project-boston-home-prices/"
   ]
  },
  {
   "cell_type": "code",
   "execution_count": 1,
   "metadata": {},
   "outputs": [],
   "source": [
    "%matplotlib inline\n",
    "import time\n",
    "import numpy as np\n",
    "import pandas as pd\n",
    "import seaborn as sns\n",
    "import matplotlib.pyplot as plt\n",
    "plt.style.use('bmh')\n",
    "import warnings\n",
    "warnings.simplefilter('ignore')"
   ]
  },
  {
   "cell_type": "code",
   "execution_count": 2,
   "metadata": {},
   "outputs": [
    {
     "name": "stdout",
     "output_type": "stream",
     "text": [
      "(506, 13) (506,)\n",
      "R^2 score = 0.771\n",
      "RMSE = 4.329\n"
     ]
    }
   ],
   "source": [
    "from sklearn.datasets import load_boston\n",
    "X, y = load_boston(return_X_y=True)\n",
    "print(X.shape, y.shape)\n",
    "\n",
    "from sklearn.model_selection import train_test_split\n",
    "from sklearn.ensemble import RandomForestRegressor\n",
    "from sklearn.metrics import r2_score, mean_squared_error\n",
    "\n",
    "X_train, X_test, y_train, y_test = train_test_split(X, y, random_state=0)\n",
    "rf = RandomForestRegressor(n_estimators=10)\n",
    "rf.fit(X_train, y_train)\n",
    "y_pred = rf.predict(X_test)\n",
    "\n",
    "print(f\"R^2 score = {r2_score(y_test, y_pred):.3f}\")\n",
    "print(f\"RMSE = {np.sqrt(mean_squared_error(y_test, y_pred)):.3f}\")"
   ]
  },
  {
   "cell_type": "code",
   "execution_count": 3,
   "metadata": {},
   "outputs": [
    {
     "name": "stdout",
     "output_type": "stream",
     "text": [
      "Best score: 0.634\n",
      "Best parameters: {'rf__max_depth': 10, 'rf__min_samples_split': 5, 'rf__n_estimators': 20}\n",
      "Avg. time to fit: 0.023\n",
      "Avg. time to predict: 0.001\n"
     ]
    }
   ],
   "source": [
    "from sklearn.pipeline import Pipeline\n",
    "from sklearn.model_selection import GridSearchCV\n",
    "\n",
    "X, y = load_boston(return_X_y=True)\n",
    "\n",
    "estimator = Pipeline([\n",
    "    ('rf', RandomForestRegressor()),\n",
    "])\n",
    "\n",
    "param_grid = {\n",
    "    'rf__n_estimators': [5, 10, 20],\n",
    "    'rf__max_depth': [5, 10, 20, 30],\n",
    "    'rf__min_samples_split': [2, 5, 10, 20],\n",
    "}\n",
    "\n",
    "grid = GridSearchCV(estimator, param_grid, \n",
    "                    scoring='r2',\n",
    "                    n_jobs=-1,\n",
    "                    cv=5,\n",
    "                    iid=False)\n",
    "\n",
    "grid.fit(X, y)\n",
    "\n",
    "print(f\"Best score: {grid.best_score_:.3f}\")\n",
    "print(f\"Best parameters: {grid.best_params_}\")\n",
    "print(f\"Avg. time to fit: {grid.cv_results_['mean_fit_time'].mean():.3f}\")\n",
    "print(f\"Avg. time to predict: {grid.cv_results_['mean_score_time'].mean():.3f}\")"
   ]
  },
  {
   "cell_type": "code",
   "execution_count": null,
   "metadata": {},
   "outputs": [],
   "source": []
  }
 ],
 "metadata": {
  "kernelspec": {
   "display_name": "Python 3",
   "language": "python",
   "name": "python3"
  },
  "language_info": {
   "codemirror_mode": {
    "name": "ipython",
    "version": 3
   },
   "file_extension": ".py",
   "mimetype": "text/x-python",
   "name": "python",
   "nbconvert_exporter": "python",
   "pygments_lexer": "ipython3",
   "version": "3.7.2"
  }
 },
 "nbformat": 4,
 "nbformat_minor": 2
}
