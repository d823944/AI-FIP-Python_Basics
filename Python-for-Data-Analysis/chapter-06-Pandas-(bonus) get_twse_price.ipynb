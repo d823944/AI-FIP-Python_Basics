{
 "cells": [
  {
   "cell_type": "code",
   "execution_count": null,
   "metadata": {},
   "outputs": [],
   "source": [
    "import pandas as pd\n",
    "import numpy as np"
   ]
  },
  {
   "cell_type": "code",
   "execution_count": null,
   "metadata": {},
   "outputs": [],
   "source": [
    "def get_twse_price(date=None, filename=None):\n",
    "    import requests\n",
    "    \"\"\"抓取TWSE台灣證交所上市公司收盤價格\n",
    "    Parameters\n",
    "    ----------\n",
    "    date : (str) 收盤日期 (format: yyyymmdd)\n",
    "    filename : the file for storing stock prices\n",
    "    \"\"\"\n",
    "    url = 'http://www.twse.com.tw/exchangeReport/MI_INDEX'\n",
    "    values = {\n",
    "        'response': 'csv',\n",
    "        'date': date,\n",
    "        'type': 'ALLBUT0999',\n",
    "    }\n",
    "    \n",
    "    if date is None:\n",
    "        print('Warning: Missing date')\n",
    "        return\n",
    "    \n",
    "    if filename is None:\n",
    "        filename = 'stock_price.csv'\n",
    "    try:\n",
    "        print('Downloading stock prices...')\n",
    "        r = requests.post(url, values)\n",
    "        with open(filename, 'w', encoding='utf-8') as f:\n",
    "            f.write(r.text)\n",
    "    except:\n",
    "        print('Warning: Fail to get stock prices')\n",
    "    else:\n",
    "        print('Status: stock prices stored in %s' % filename)"
   ]
  },
  {
   "cell_type": "code",
   "execution_count": null,
   "metadata": {},
   "outputs": [],
   "source": [
    "# get_twse_price('20181203')"
   ]
  },
  {
   "cell_type": "code",
   "execution_count": null,
   "metadata": {},
   "outputs": [],
   "source": [
    "columns = [\"證券代號\",\"證券名稱\",\"成交股數\",\"成交筆數\",\"成交金額\",\"開盤價\",\"最高價\",\"最低價\",\"收盤價\",\"漲跌(+/-)\",\"漲跌價差\",\"最後揭示買價\",\"最後揭示買量\",\"最後揭示賣價\",\"最後揭示賣量\",\"本益比\"]\n",
    "df = pd.read_csv('stock_price.csv',\n",
    "    header=None, names=columns, index_col=False, \n",
    "    thousands=',', quotechar= '\"', skiprows=lambda x: x <= 163, encoding='utf-8')\n",
    "\n",
    "print(df.shape)\n",
    "df.head()"
   ]
  },
  {
   "cell_type": "code",
   "execution_count": null,
   "metadata": {},
   "outputs": [],
   "source": [
    "df = df[df[\"證券代號\"].apply(lambda x: len(x) == 4)]\n",
    "print(df.shape)\n",
    "df.head()"
   ]
  },
  {
   "cell_type": "code",
   "execution_count": null,
   "metadata": {},
   "outputs": [],
   "source": [
    "df = df[[\"證券代號\",\"證券名稱\",\"成交股數\",\"開盤價\",\"最高價\",\"最低價\",\"收盤價\"]]\n",
    "df.reset_index(drop=True, inplace=True)\n",
    "df.set_index('證券代號', inplace=True)\n",
    "df.head()"
   ]
  },
  {
   "cell_type": "code",
   "execution_count": null,
   "metadata": {},
   "outputs": [],
   "source": [
    "# \"Thousands Separators\" make price data \"str\", not \"float\" numbers\n",
    "print(df.loc['3008'])\n",
    "print(type(df.loc['3008', '收盤價']))"
   ]
  },
  {
   "cell_type": "markdown",
   "metadata": {},
   "source": [
    "#### Series.map(arg, na_action=None)\n",
    "Map values of <font color='red'>Series</font> using input correspondence (a dict, Series, or function)."
   ]
  },
  {
   "cell_type": "code",
   "execution_count": null,
   "metadata": {},
   "outputs": [],
   "source": [
    "def f(x):\n",
    "    if ',' in x:\n",
    "        x = x.replace(',', '')\n",
    "    try:\n",
    "        return float(x)\n",
    "    except:\n",
    "        return None\n",
    "\n",
    "df['開盤價'] = df['開盤價'].map(f)\n",
    "df['最高價'] = df['最高價'].map(f)\n",
    "df['最低價'] = df['最低價'].map(f)\n",
    "df['收盤價'] = df['收盤價'].map(f)\n",
    "\n",
    "print(df.loc['3008'])\n",
    "print(type(df.loc['3008', '收盤價']))"
   ]
  },
  {
   "cell_type": "code",
   "execution_count": null,
   "metadata": {},
   "outputs": [],
   "source": [
    "df['當日漲幅(%)'] = round((df['收盤價'] - df['開盤價']) / df['開盤價'] * 100, 2)\n",
    "df.head()"
   ]
  },
  {
   "cell_type": "code",
   "execution_count": null,
   "metadata": {},
   "outputs": [],
   "source": [
    "df1 = df.sort_values(by='當日漲幅(%)', ascending=False)\n",
    "df1.head()"
   ]
  },
  {
   "cell_type": "code",
   "execution_count": null,
   "metadata": {},
   "outputs": [],
   "source": [
    "print(f'Max. 成交股數 = {df[\"成交股數\"].max():.0f}')\n",
    "print(f'Avg. 成交股數 = {df[\"成交股數\"].mean():.0f}')\n",
    "print(f'Min. 成交股數 = {df[\"成交股數\"].min():.0f}')"
   ]
  },
  {
   "cell_type": "code",
   "execution_count": null,
   "metadata": {},
   "outputs": [],
   "source": [
    "print(f'當日成交最熱絡: {df[\"證券名稱\"][df[\"成交股數\"].idxmax()]}')\n",
    "df[df['證券名稱'] == '旺宏']"
   ]
  },
  {
   "cell_type": "code",
   "execution_count": null,
   "metadata": {},
   "outputs": [],
   "source": [
    "df.loc['2454']"
   ]
  },
  {
   "cell_type": "code",
   "execution_count": null,
   "metadata": {},
   "outputs": [],
   "source": []
  }
 ],
 "metadata": {
  "kernelspec": {
   "display_name": "Python 3",
   "language": "python",
   "name": "python3"
  },
  "language_info": {
   "codemirror_mode": {
    "name": "ipython",
    "version": 3
   },
   "file_extension": ".py",
   "mimetype": "text/x-python",
   "name": "python",
   "nbconvert_exporter": "python",
   "pygments_lexer": "ipython3",
   "version": "3.6.5"
  }
 },
 "nbformat": 4,
 "nbformat_minor": 2
}
