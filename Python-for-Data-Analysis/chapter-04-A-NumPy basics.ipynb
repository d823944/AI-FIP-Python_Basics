{
 "cells": [
  {
   "cell_type": "code",
   "execution_count": null,
   "metadata": {},
   "outputs": [],
   "source": [
    "import numpy as np"
   ]
  },
  {
   "cell_type": "markdown",
   "metadata": {},
   "source": [
    "#### The NumPy ndarray: A Multidimensional Array Object\n",
    "• ndarray, an efficient multidimensional array providing fast array-oriented arithmetic operations and flexible broadcasting capabilities.\n",
    "\n",
    "• Mathematical functions for fast operations on entire array.\n",
    "\n",
    "• NumPy-based algorithms are generally 10 to 100 times fasterthan their pure Python counterparts and use significantly less memory."
   ]
  },
  {
   "cell_type": "code",
   "execution_count": null,
   "metadata": {},
   "outputs": [],
   "source": [
    "# my_arr = np.arange(100000)\n",
    "# %timeit my_arr2 = my_arr * 2\n",
    "# 39.2 µs ± 2.36 µs per loop (mean ± std. dev. of 7 runs, 10000 loops each)"
   ]
  },
  {
   "cell_type": "code",
   "execution_count": null,
   "metadata": {},
   "outputs": [],
   "source": [
    "# my_list = list(range(100000))\n",
    "# %timeit my_list2 = [x * 2 for x in my_list]\n",
    "# 5.12 ms ± 133 µs per loop (mean ± std. dev. of 7 runs, 100 loops each)"
   ]
  },
  {
   "cell_type": "markdown",
   "metadata": {},
   "source": [
    "#### sklearn.datasets.load_iris\n",
    "\n",
    "The iris dataset is a classic and very easy multi-class classification dataset.\n",
    "\n",
    "|||\n",
    "|---|---|\n",
    "|Classes|3|\n",
    "|Samples per class|50|\n",
    "|Samples total|150|\n",
    "|Dimensionality|4|\n",
    "|Features|real, positive\n",
    "\n",
    "feature_names = ['sepal length (cm)', 'sepal width (cm)', 'petal length (cm)', 'petal width (cm)']"
   ]
  },
  {
   "cell_type": "code",
   "execution_count": null,
   "metadata": {},
   "outputs": [],
   "source": [
    "from sklearn.datasets import load_iris\n",
    "X, y = load_iris(return_X_y=True)"
   ]
  },
  {
   "cell_type": "markdown",
   "metadata": {},
   "source": [
    "#### ndarray.shape\n",
    "Tuple of array dimensions.\n",
    "\n",
    "#### ndarray.ndim\n",
    "Number of array dimensions.\n",
    "\n",
    "#### ndarray.size\n",
    "Number of elements in the array."
   ]
  },
  {
   "cell_type": "code",
   "execution_count": null,
   "metadata": {},
   "outputs": [],
   "source": [
    "print('Type of X:', type(X))\n",
    "print('X.shape =', X.shape)\n",
    "print('X.ndim =', X.ndim)\n",
    "print('X.size =', X.size)\n",
    "print('dtype of X: ', X.dtype, '\\n')\n",
    "\n",
    "print('Type of y:', type(y))\n",
    "print('y.shape =', y.shape)\n",
    "print('y.ndim =', y.ndim)\n",
    "print('y.size =', y.size)\n",
    "print('dtype of y: ', y.dtype)"
   ]
  },
  {
   "cell_type": "markdown",
   "metadata": {},
   "source": [
    "#### Basic Indexing and Slicing\n",
    "\n",
    "arr2D[0][2] is the same as arr2D[0, 2]\n",
    "\n",
    "If you want a copy of a slice of an ndarray instead of a view, you will need to explicitly copy the array—for example, arr[5:8].copy()"
   ]
  },
  {
   "cell_type": "code",
   "execution_count": null,
   "metadata": {},
   "outputs": [],
   "source": [
    "print(X[37][2])\n",
    "print(X[37, 2])"
   ]
  },
  {
   "cell_type": "code",
   "execution_count": null,
   "metadata": {},
   "outputs": [],
   "source": [
    "# arr1 is a copy of a slice of an ndarray\n",
    "arr1 = X[:10, 2].copy()\n",
    "print('arr1 =', arr1)\n",
    "\n",
    "# arr2 is a \"view\" of a slice of an ndarray\n",
    "arr2 = arr1[:5]\n",
    "print('arr2 (a view) =', arr2)\n",
    "\n",
    "arr2[0] = 0\n",
    "print('arr2 (data at index-0 is changed) =', arr2)\n",
    "print('arr1 (data at index-0 is also changed)=', arr1, '\\n')"
   ]
  },
  {
   "cell_type": "code",
   "execution_count": null,
   "metadata": {},
   "outputs": [],
   "source": [
    "# arr1 is a copy of a slice of an ndarray\n",
    "arr1 = X[:10, 2].copy()\n",
    "print('arr1 =', arr1)\n",
    "\n",
    "# arr2 is a copy of a slice of ndarray\n",
    "arr2 = arr1[:5].copy()\n",
    "print('arr2 (a copy) =', arr2)\n",
    "\n",
    "arr2[0] = 0\n",
    "print('arr2 (data at index-0 is changed) =', arr2)\n",
    "print('arr1 (data at index-0 remains the same) =', arr1)"
   ]
  },
  {
   "cell_type": "markdown",
   "metadata": {},
   "source": [
    "#### ndarray.astype(dtype, order='K', casting='unsafe', subok=True, copy=True)\n",
    "Copy of the array, cast to a specified type."
   ]
  },
  {
   "cell_type": "code",
   "execution_count": null,
   "metadata": {},
   "outputs": [],
   "source": [
    "# NumPy ndarray supports indexing and slicing\n",
    "X1 = X[:5, :]\n",
    "print('X1 = ', X1, '\\n')\n",
    "\n",
    "X2 = X1.astype(np.int64)\n",
    "print('X2 = ', X2)"
   ]
  },
  {
   "cell_type": "markdown",
   "metadata": {},
   "source": [
    "#### numpy.arange([start, ]stop, [step, ]dtype=None)\n",
    "Return evenly spaced values within a given interval.\n",
    "\n",
    "#### numpy.linspace(start, stop, num=50, endpoint=True, retstep=False, dtype=None)\n",
    "Return evenly spaced numbers over a specified interval."
   ]
  },
  {
   "cell_type": "code",
   "execution_count": null,
   "metadata": {},
   "outputs": [],
   "source": [
    "X0 = np.zeros((3, 2))\n",
    "print('X0 =', X0, '\\n')\n",
    "\n",
    "X1 = np.ones((3, 2), dtype=int)\n",
    "print('X1 =', X1, '\\n')\n",
    "\n",
    "X2 = np.arange(1, 9, 2)\n",
    "print('X2 =', X2, '\\n')\n",
    "\n",
    "X3 = np.linspace(1, 10, 10)\n",
    "print('X3 =', X3)"
   ]
  },
  {
   "cell_type": "markdown",
   "metadata": {},
   "source": [
    "#### Boolean Indexing"
   ]
  },
  {
   "cell_type": "code",
   "execution_count": null,
   "metadata": {},
   "outputs": [],
   "source": [
    "X1 = X[:10, 1]\n",
    "print('X1 =', X1)\n",
    "print('(X1 > 3.2) = ', X1 > 3.2)\n",
    "\n",
    "count = (X[:, 1] > 3.0).sum()\n",
    "print('Count of Iris with sepal width wider than 3.0cm =', count)"
   ]
  },
  {
   "cell_type": "code",
   "execution_count": null,
   "metadata": {},
   "outputs": [],
   "source": [
    "# Only consder the iris with sepal width > 3.0cm\n",
    "print(f'Average sepal length = {X[X[:, 1] > 3.0, 0].mean():.1f} (cm)', )\n",
    "print(f'Average sepal width = {X[X[:, 1] > 3.0, 1].mean():.1f} (cm)', )\n",
    "print(f'Average petal length = {X[X[:, 1] > 3.0, 2].mean():.1f} (cm)', )\n",
    "print(f'Average petal width = {X[X[:, 1] > 3.0, 3].mean():.1f} (cm)', )"
   ]
  },
  {
   "cell_type": "code",
   "execution_count": null,
   "metadata": {},
   "outputs": [],
   "source": [
    "count = ((X[:, 0] > 6.0) & (X[:, 1] > 3.0)).sum()\n",
    "print('Count of Iris with sepal length longer than 6.0cm AND sepal width wider than 3.0cm =', count)\n",
    "\n",
    "count = ((X[:, 0] > 6.0) | (X[:, 1] > 3.0)).sum()\n",
    "print('Count of Iris with sepal length longer than 6.0cm OR sepal width wider than 3.0cm =', count)"
   ]
  },
  {
   "cell_type": "markdown",
   "metadata": {},
   "source": [
    "#### numpy.reshape(a, newshape, order='C')\n",
    "Gives a new shape to an array without changing its data."
   ]
  },
  {
   "cell_type": "code",
   "execution_count": null,
   "metadata": {},
   "outputs": [],
   "source": [
    "arr1 = np.arange(6)\n",
    "arr2 = arr1.reshape(2, 3)\n",
    "\n",
    "print(f'arr1 =\\n{arr1}')\n",
    "print(f'arr1.shape = {arr1.shape}')\n",
    "print()\n",
    "print(f'arr2 =\\n{arr2}')\n",
    "print(f'arr2.shape = {arr2.shape}')"
   ]
  },
  {
   "cell_type": "code",
   "execution_count": null,
   "metadata": {},
   "outputs": [],
   "source": [
    "arr1 = np.arange(6)\n",
    "arr2 = arr1.reshape(-1, 1)\n",
    "arr3 = arr1[:, np.newaxis]\n",
    "print(f'arr1 = \\n{arr1}')\n",
    "print(f'arr1.shape = {arr1.shape}')\n",
    "print()\n",
    "print(f'arr2 = \\n{arr2}')\n",
    "print(f'arr2.shape = {arr2.shape}')\n",
    "print()\n",
    "print(f'arr3 = \\n{arr3}')\n",
    "print(f'arr3.shape = {arr3.shape}')"
   ]
  },
  {
   "cell_type": "markdown",
   "metadata": {},
   "source": [
    "#### Maxtix arithmetics in NumPy\n",
    "• Arithemtic standard operators: +, -, *, /, **, //, %\n",
    "\n",
    "• Scalar product"
   ]
  },
  {
   "cell_type": "code",
   "execution_count": null,
   "metadata": {},
   "outputs": [],
   "source": [
    "mat1 = np.arange(1, 7).reshape(2, 3)\n",
    "mat2 = np.arange(7, 13).reshape(2, 3)\n",
    "print(f'Matrix-1 =\\n{mat1}')\n",
    "print(f'Matrix-2 =\\n{mat2}')"
   ]
  },
  {
   "cell_type": "code",
   "execution_count": null,
   "metadata": {},
   "outputs": [],
   "source": [
    "mat1 + mat2"
   ]
  },
  {
   "cell_type": "code",
   "execution_count": null,
   "metadata": {},
   "outputs": [],
   "source": [
    "mat1 - mat2"
   ]
  },
  {
   "cell_type": "code",
   "execution_count": null,
   "metadata": {},
   "outputs": [],
   "source": [
    "mat1 * mat2"
   ]
  },
  {
   "cell_type": "code",
   "execution_count": null,
   "metadata": {},
   "outputs": [],
   "source": [
    "mat1 * 10"
   ]
  },
  {
   "cell_type": "markdown",
   "metadata": {},
   "source": [
    "#### Universal functions (ufunc)"
   ]
  },
  {
   "cell_type": "code",
   "execution_count": null,
   "metadata": {},
   "outputs": [],
   "source": [
    "arr1 = np.arange(1, 9)\n",
    "print(f'arr1 = {arr1}')"
   ]
  },
  {
   "cell_type": "code",
   "execution_count": null,
   "metadata": {},
   "outputs": [],
   "source": [
    "arr1.sum()"
   ]
  },
  {
   "cell_type": "code",
   "execution_count": null,
   "metadata": {},
   "outputs": [],
   "source": [
    "arr1.min()"
   ]
  },
  {
   "cell_type": "code",
   "execution_count": null,
   "metadata": {},
   "outputs": [],
   "source": [
    "arr1.max()"
   ]
  },
  {
   "cell_type": "code",
   "execution_count": null,
   "metadata": {},
   "outputs": [],
   "source": [
    "arr1.mean()"
   ]
  },
  {
   "cell_type": "code",
   "execution_count": null,
   "metadata": {},
   "outputs": [],
   "source": [
    "arr1.std()"
   ]
  },
  {
   "cell_type": "code",
   "execution_count": null,
   "metadata": {},
   "outputs": [],
   "source": [
    "np.exp(arr1)"
   ]
  },
  {
   "cell_type": "code",
   "execution_count": null,
   "metadata": {},
   "outputs": [],
   "source": [
    "np.square(arr1)"
   ]
  },
  {
   "cell_type": "code",
   "execution_count": null,
   "metadata": {},
   "outputs": [],
   "source": [
    "np.sqrt(arr1)"
   ]
  },
  {
   "cell_type": "code",
   "execution_count": null,
   "metadata": {},
   "outputs": [],
   "source": [
    "x1 = np.arange(10)\n",
    "x2 = np.arange(10) / 2\n",
    "\n",
    "y = np.sqrt(x1 ** 2  + x2 ** 2)\n",
    "y"
   ]
  },
  {
   "cell_type": "code",
   "execution_count": null,
   "metadata": {},
   "outputs": [],
   "source": [
    "np.where(y > 5, 0, y)"
   ]
  },
  {
   "cell_type": "markdown",
   "metadata": {},
   "source": [
    "#### Sorting\n",
    "#### numpy.sort(a, axis=-1, kind='quicksort', order=None)\n",
    "Return a sorted copy of an array.\n",
    "\n",
    "|kind|speed|worst case|work space|stable|\n",
    "|---|---|---|---|---|\n",
    "|quicksort|1|$$O(n^2)$$|0|no|\n",
    "|mergesort|2|$$O(n log(n))$$|~n/2|yes|\n",
    "|heapsort|3|$$O(n log(n))$$|0|no|\n",
    "\n",
    "#### arr.sort() method: inplace sorting\n",
    "#### np.sort(arr) function: returna sorted copy of an array"
   ]
  },
  {
   "cell_type": "code",
   "execution_count": null,
   "metadata": {},
   "outputs": [],
   "source": [
    "mat0 = np.random.randint(1, 20, (5, 3))\n",
    "mat1 = mat0.copy()\n",
    "print(f'mat0 =\\n{mat0}')\n",
    "mat1.sort()\n",
    "print(f'mat1 (sort along axis=1) =\\n{mat1}')\n",
    "mat2 = np.sort(mat0, axis=0)\n",
    "print(f'mat2 (sort along axis=0) =\\n{mat2}')"
   ]
  },
  {
   "cell_type": "markdown",
   "metadata": {},
   "source": [
    "#### numpy.argmax(a, axis=None, out=None)\n",
    "Returns the indices of the maximum values along an axis.\n",
    "\n",
    "#### numpy.argsort(a, axis=-1, kind='quicksort', order=None)\n",
    "Returns the indices that would sort an array."
   ]
  },
  {
   "cell_type": "code",
   "execution_count": null,
   "metadata": {},
   "outputs": [],
   "source": [
    "# An example from Decision Tree Classification\n",
    "feature_importances = np.array([0.        , 0.        , 0.        , 0.        , 0.        ,\n",
    "       0.        , 0.        , 0.        , 0.        , 0.        ,\n",
    "       0.01019737, 0.04839825, 0.        , 0.        , 0.0024156 ,\n",
    "       0.        , 0.        , 0.        , 0.        , 0.        ,\n",
    "       0.72682851, 0.0458159 , 0.        , 0.        , 0.0141577 ,\n",
    "       0.        , 0.018188  , 0.1221132 , 0.01188548, 0.        ])\n",
    "\n",
    "print(f'Maximum feature importance = {feature_importances.max()}')\n",
    "print(f'feature_importances.argmax() @ index = {feature_importances.argmax()}')\n",
    "print(f'Top-3 important features: {feature_importances.argsort()[-3:][::-1]}')"
   ]
  },
  {
   "cell_type": "markdown",
   "metadata": {},
   "source": [
    "#### Linear Algebra\n",
    "#### numpy.transpose(a, axes=None)\n",
    "Permute the dimensions of an array.\n",
    "\n",
    "#### numpy.dot(a, b, out=None)\n",
    "Dot product of two arrays. Specifically,\n",
    "\n",
    "#### numpy.linalg.inv(a)\n",
    "Compute the (multiplicative) inverse of a matrix."
   ]
  },
  {
   "cell_type": "code",
   "execution_count": null,
   "metadata": {},
   "outputs": [],
   "source": [
    "print(f'Transpose of Matrix-1 =\\n{np.transpose(mat1)}')\n",
    "print(f'Transpose of Matrix-1 =\\n{mat1.T}')"
   ]
  },
  {
   "cell_type": "code",
   "execution_count": null,
   "metadata": {},
   "outputs": [],
   "source": [
    "mat1 = np.arange(1, 7).reshape(2, 3)\n",
    "mat2 = np.arange(7, 13).reshape(3, 2)\n",
    "mat3 = np.dot(mat1, mat2)\n",
    "mat4 = mat1.dot(mat2)\n",
    "print(f'Matrix-1 =\\n{mat1}')\n",
    "print(f'Matrix-2 =\\n{mat2}')\n",
    "print(f'Matrix-3 =\\n{mat3}')\n",
    "print(f'Matrix-4 =\\n{mat4}')"
   ]
  },
  {
   "cell_type": "code",
   "execution_count": null,
   "metadata": {},
   "outputs": [],
   "source": [
    "mat1 = np.arange(1, 5).reshape(2, 2)\n",
    "mat2 = np.linalg.inv(mat1)\n",
    "print(f'Matrix-1 =\\n{mat1}')\n",
    "print(f'Matrix-2 =\\n{mat2}')"
   ]
  },
  {
   "cell_type": "code",
   "execution_count": null,
   "metadata": {},
   "outputs": [],
   "source": []
  }
 ],
 "metadata": {
  "kernelspec": {
   "display_name": "Python 3",
   "language": "python",
   "name": "python3"
  },
  "language_info": {
   "codemirror_mode": {
    "name": "ipython",
    "version": 3
   },
   "file_extension": ".py",
   "mimetype": "text/x-python",
   "name": "python",
   "nbconvert_exporter": "python",
   "pygments_lexer": "ipython3",
   "version": "3.6.5"
  }
 },
 "nbformat": 4,
 "nbformat_minor": 2
}
