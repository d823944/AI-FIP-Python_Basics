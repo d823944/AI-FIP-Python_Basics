{
 "cells": [
  {
   "cell_type": "code",
   "execution_count": null,
   "metadata": {},
   "outputs": [],
   "source": [
    "%matplotlib inline\n",
    "import pandas as pd\n",
    "import numpy as np\n",
    "import matplotlib.pyplot as plt\n",
    "import seaborn as sns"
   ]
  },
  {
   "cell_type": "code",
   "execution_count": null,
   "metadata": {},
   "outputs": [],
   "source": [
    "df = pd.read_csv('DatasaurusDozen.csv')\n",
    "df.head()"
   ]
  },
  {
   "cell_type": "code",
   "execution_count": null,
   "metadata": {},
   "outputs": [],
   "source": [
    "data_types = np.unique(df['name'])\n",
    "data = []\n",
    "for name in data_types:\n",
    "    data.append(df[df['name'] == name])\n",
    "    \n",
    "fig, axes = plt.subplots(5, 3, figsize=(9, 15))\n",
    "for i, (name, ax) in enumerate(zip(data_types, axes.ravel())):\n",
    "    ax.scatter(data[i]['x'], data[i]['y'])\n",
    "    ax.set_title(f'{name} ({data[i][\"y\"].mean():.1f}, {data[i][\"y\"].std():.1f})')\n",
    "plt.tight_layout()\n",
    "plt.savefig('test.png')"
   ]
  },
  {
   "cell_type": "code",
   "execution_count": null,
   "metadata": {},
   "outputs": [],
   "source": []
  }
 ],
 "metadata": {
  "kernelspec": {
   "display_name": "Python 3",
   "language": "python",
   "name": "python3"
  },
  "language_info": {
   "codemirror_mode": {
    "name": "ipython",
    "version": 3
   },
   "file_extension": ".py",
   "mimetype": "text/x-python",
   "name": "python",
   "nbconvert_exporter": "python",
   "pygments_lexer": "ipython3",
   "version": "3.7.0"
  }
 },
 "nbformat": 4,
 "nbformat_minor": 2
}
