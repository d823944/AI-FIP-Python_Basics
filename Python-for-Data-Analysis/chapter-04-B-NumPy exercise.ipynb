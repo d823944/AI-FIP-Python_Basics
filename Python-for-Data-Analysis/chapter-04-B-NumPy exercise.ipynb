{
 "cells": [
  {
   "cell_type": "markdown",
   "metadata": {},
   "source": [
    "#### Example-1: Cost function for Linear Regression\n",
    "\n",
    "$$ J(\\theta) = \\frac{1}{2m} \\sum_{j=1}^{m} (X\\theta - y)^2$$"
   ]
  },
  {
   "cell_type": "code",
   "execution_count": null,
   "metadata": {},
   "outputs": [],
   "source": [
    "import numpy as np\n",
    "\n",
    "data = np.loadtxt('ex1data1.txt', delimiter=',')\n",
    "X = np.c_[np.ones(data.shape[0]), data[:, 0]]\n",
    "y = data[:, 1].reshape(-1, 1)\n",
    "initial_theta = np.zeros(X.shape[1]).reshape(-1, 1)\n",
    "J = (1 / (2 * X.shape[0])) * np.sum(np.square(X.dot(initial_theta) - y))\n",
    "print(f'Cost function J(theta) = {J:.2f}')"
   ]
  },
  {
   "cell_type": "markdown",
   "metadata": {},
   "source": [
    "#### Example-2: Normal equation\n",
    "$$ \\theta = (X^TX)^{-1} X^T y$$"
   ]
  },
  {
   "cell_type": "code",
   "execution_count": null,
   "metadata": {},
   "outputs": [],
   "source": [
    "optimized_theta = np.linalg.inv(X.T.dot(X)).dot(X.T).dot(y)\n",
    "optimized_theta"
   ]
  },
  {
   "cell_type": "code",
   "execution_count": null,
   "metadata": {},
   "outputs": [],
   "source": [
    "%matplotlib inline\n",
    "import matplotlib.pyplot as plt\n",
    "\n",
    "plt.scatter(data[:, 0], data[:, 1], label='training data')\n",
    "\n",
    "xx = np.linspace(data[:, 0].min(), data[:, 0].max(), 100)\n",
    "yy = optimized_theta[0] + xx * optimized_theta[1]\n",
    "\n",
    "plt.plot(xx, yy, 'r--', label='linear regression')\n",
    "plt.xlabel('Population of City in 10,000s')\n",
    "plt.ylabel('Profit in $10,000s')\n",
    "plt.legend()"
   ]
  },
  {
   "cell_type": "code",
   "execution_count": null,
   "metadata": {},
   "outputs": [],
   "source": []
  }
 ],
 "metadata": {
  "kernelspec": {
   "display_name": "Python 3",
   "language": "python",
   "name": "python3"
  },
  "language_info": {
   "codemirror_mode": {
    "name": "ipython",
    "version": 3
   },
   "file_extension": ".py",
   "mimetype": "text/x-python",
   "name": "python",
   "nbconvert_exporter": "python",
   "pygments_lexer": "ipython3",
   "version": "3.6.5"
  }
 },
 "nbformat": 4,
 "nbformat_minor": 2
}
