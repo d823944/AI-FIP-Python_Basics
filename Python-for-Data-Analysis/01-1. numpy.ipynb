{
 "cells": [
  {
   "cell_type": "code",
   "execution_count": 1,
   "metadata": {},
   "outputs": [],
   "source": [
    "import numpy as np"
   ]
  },
  {
   "cell_type": "markdown",
   "metadata": {},
   "source": [
    "#### The NumPy ndarray: A Multidimensional Array Object\n",
    "• ndarray, an efficient multidimensional array providing fast array-oriented arithmetic operations and flexible broadcasting capabilities.\n",
    "\n",
    "• Mathematical functions for fast operations on entire array.\n",
    "\n",
    "• NumPy-based algorithms are generally 10 to 100 times faster than their pure Python counterparts and use significantly less memory."
   ]
  },
  {
   "cell_type": "code",
   "execution_count": 2,
   "metadata": {},
   "outputs": [
    {
     "name": "stdout",
     "output_type": "stream",
     "text": [
      "38.7 µs ± 839 ns per loop (mean ± std. dev. of 7 runs, 10000 loops each)\n"
     ]
    }
   ],
   "source": [
    "my_arr = np.arange(100000)\n",
    "%timeit my_arr2 = my_arr * 2\n",
    "# 39.2 µs ± 2.36 µs per loop (mean ± std. dev. of 7 runs, 10000 loops each)"
   ]
  },
  {
   "cell_type": "code",
   "execution_count": 3,
   "metadata": {},
   "outputs": [
    {
     "name": "stdout",
     "output_type": "stream",
     "text": [
      "4.97 ms ± 166 µs per loop (mean ± std. dev. of 7 runs, 100 loops each)\n"
     ]
    }
   ],
   "source": [
    "my_list = list(range(100000))\n",
    "%timeit my_list2 = [x * 2 for x in my_list]\n",
    "# 5.12 ms ± 133 µs per loop (mean ± std. dev. of 7 runs, 100 loops each)"
   ]
  },
  {
   "cell_type": "markdown",
   "metadata": {},
   "source": [
    "#### sklearn.datasets.load_iris\n",
    "\n",
    "The iris dataset is a classic and very easy multi-class classification dataset.\n",
    "feature_names = ['sepal length (cm)', 'sepal width (cm)', 'petal length (cm)', 'petal width (cm)']"
   ]
  },
  {
   "cell_type": "code",
   "execution_count": 4,
   "metadata": {},
   "outputs": [],
   "source": [
    "from sklearn.datasets import load_iris\n",
    "X, y = load_iris(return_X_y=True)"
   ]
  },
  {
   "cell_type": "markdown",
   "metadata": {},
   "source": [
    "#### ndarray.shape\n",
    "Tuple of array dimensions.\n",
    "\n",
    "#### ndarray.ndim\n",
    "Number of array dimensions.\n",
    "\n",
    "#### ndarray.size\n",
    "Number of elements in the array."
   ]
  },
  {
   "cell_type": "code",
   "execution_count": 5,
   "metadata": {},
   "outputs": [
    {
     "name": "stdout",
     "output_type": "stream",
     "text": [
      "Type of X: <class 'numpy.ndarray'>\n",
      "X.shape = (150, 4)\n",
      "X.ndim = 2\n",
      "X.size = 600\n",
      "dtype of X:  float64 \n",
      "\n",
      "Type of y: <class 'numpy.ndarray'>\n",
      "y.shape = (150,)\n",
      "y.ndim = 1\n",
      "y.size = 150\n",
      "dtype of y:  int64\n"
     ]
    }
   ],
   "source": [
    "print('Type of X:', type(X))\n",
    "print('X.shape =', X.shape)\n",
    "print('X.ndim =', X.ndim)\n",
    "print('X.size =', X.size)\n",
    "print('dtype of X: ', X.dtype, '\\n')\n",
    "\n",
    "print('Type of y:', type(y))\n",
    "print('y.shape =', y.shape)\n",
    "print('y.ndim =', y.ndim)\n",
    "print('y.size =', y.size)\n",
    "print('dtype of y: ', y.dtype)"
   ]
  },
  {
   "cell_type": "markdown",
   "metadata": {},
   "source": [
    "#### Basic Indexing and Slicing\n",
    "\n",
    "arr2D[0][2] is the same as arr2D[0, 2]\n",
    "\n",
    "If you want a copy of a slice of an ndarray instead of a view, you will need to explicitly copy the array—for example, arr[5:8].copy()"
   ]
  },
  {
   "cell_type": "code",
   "execution_count": 6,
   "metadata": {},
   "outputs": [
    {
     "name": "stdout",
     "output_type": "stream",
     "text": [
      "1.4\n",
      "1.4\n"
     ]
    }
   ],
   "source": [
    "print(X[37][2])\n",
    "print(X[37, 2])"
   ]
  },
  {
   "cell_type": "code",
   "execution_count": 7,
   "metadata": {},
   "outputs": [
    {
     "name": "stdout",
     "output_type": "stream",
     "text": [
      "arr1 = [1.4 1.4 1.3 1.5 1.4 1.7 1.4 1.5 1.4 1.5]\n",
      "arr2 (a view) = [1.4 1.4 1.3 1.5 1.4]\n",
      "arr2 (data at index-0 is changed) = [0.  1.4 1.3 1.5 1.4]\n",
      "arr1 (data at index-0 is also changed)= [0.  1.4 1.3 1.5 1.4 1.7 1.4 1.5 1.4 1.5] \n",
      "\n"
     ]
    }
   ],
   "source": [
    "# arr1 is a copy of a slice of an ndarray\n",
    "arr1 = X[:10, 2].copy()\n",
    "print('arr1 =', arr1)\n",
    "\n",
    "# arr2 is a \"view\" of a slice of an ndarray\n",
    "arr2 = arr1[:5]\n",
    "print('arr2 (a view) =', arr2)\n",
    "\n",
    "arr2[0] = 0\n",
    "print('arr2 (data at index-0 is changed) =', arr2)\n",
    "print('arr1 (data at index-0 is also changed)=', arr1, '\\n')"
   ]
  },
  {
   "cell_type": "code",
   "execution_count": 8,
   "metadata": {},
   "outputs": [
    {
     "name": "stdout",
     "output_type": "stream",
     "text": [
      "arr1 = [1.4 1.4 1.3 1.5 1.4 1.7 1.4 1.5 1.4 1.5]\n",
      "arr2 (a copy) = [1.4 1.4 1.3 1.5 1.4]\n",
      "arr2 (data at index-0 is changed) = [0.  1.4 1.3 1.5 1.4]\n",
      "arr1 (data at index-0 remains the same) = [1.4 1.4 1.3 1.5 1.4 1.7 1.4 1.5 1.4 1.5]\n"
     ]
    }
   ],
   "source": [
    "# arr1 is a copy of a slice of an ndarray\n",
    "arr1 = X[:10, 2].copy()\n",
    "print('arr1 =', arr1)\n",
    "\n",
    "# arr2 is a copy of a slice of ndarray\n",
    "arr2 = arr1[:5].copy()\n",
    "print('arr2 (a copy) =', arr2)\n",
    "\n",
    "arr2[0] = 0\n",
    "print('arr2 (data at index-0 is changed) =', arr2)\n",
    "print('arr1 (data at index-0 remains the same) =', arr1)"
   ]
  },
  {
   "cell_type": "markdown",
   "metadata": {},
   "source": [
    "#### ndarray.astype(dtype, order='K', casting='unsafe', subok=True, copy=True)\n",
    "Copy of the array, cast to a specified type."
   ]
  },
  {
   "cell_type": "code",
   "execution_count": 9,
   "metadata": {},
   "outputs": [
    {
     "name": "stdout",
     "output_type": "stream",
     "text": [
      "X1 =  [[5.1 3.5 1.4 0.2]\n",
      " [4.9 3.  1.4 0.2]\n",
      " [4.7 3.2 1.3 0.2]\n",
      " [4.6 3.1 1.5 0.2]\n",
      " [5.  3.6 1.4 0.2]] \n",
      "\n",
      "X2 =  [[5 3 1 0]\n",
      " [4 3 1 0]\n",
      " [4 3 1 0]\n",
      " [4 3 1 0]\n",
      " [5 3 1 0]]\n"
     ]
    }
   ],
   "source": [
    "# NumPy ndarray supports indexing and slicing\n",
    "X1 = X[:5, :]\n",
    "print('X1 = ', X1, '\\n')\n",
    "\n",
    "X2 = X1.astype(np.int64)\n",
    "print('X2 = ', X2)"
   ]
  },
  {
   "cell_type": "markdown",
   "metadata": {},
   "source": [
    "#### numpy.arange([start, ]stop, [step, ]dtype=None)\n",
    "Return evenly spaced values within a given interval.\n",
    "\n",
    "#### numpy.linspace(start, stop, num=50, endpoint=True, retstep=False, dtype=None)\n",
    "Return evenly spaced numbers over a specified interval."
   ]
  },
  {
   "cell_type": "code",
   "execution_count": 10,
   "metadata": {},
   "outputs": [
    {
     "name": "stdout",
     "output_type": "stream",
     "text": [
      "X0 = [[0. 0.]\n",
      " [0. 0.]\n",
      " [0. 0.]] \n",
      "\n",
      "X1 = [[1 1]\n",
      " [1 1]\n",
      " [1 1]] \n",
      "\n",
      "X2 = [1 3 5 7] \n",
      "\n",
      "X3 = [ 1.          2.28571429  3.57142857  4.85714286  6.14285714  7.42857143\n",
      "  8.71428571 10.        ]\n"
     ]
    }
   ],
   "source": [
    "X0 = np.zeros((3, 2))\n",
    "print('X0 =', X0, '\\n')\n",
    "\n",
    "X1 = np.ones((3, 2), dtype=int)\n",
    "print('X1 =', X1, '\\n')\n",
    "\n",
    "X2 = np.arange(1, 9, 2)\n",
    "print('X2 =', X2, '\\n')\n",
    "\n",
    "X3 = np.linspace(1, 10, 8)\n",
    "print('X3 =', X3)"
   ]
  },
  {
   "cell_type": "markdown",
   "metadata": {},
   "source": [
    "#### Boolean Indexing"
   ]
  },
  {
   "cell_type": "code",
   "execution_count": 11,
   "metadata": {},
   "outputs": [
    {
     "name": "stdout",
     "output_type": "stream",
     "text": [
      "X1 = [3.5 3.  3.2 3.1 3.6 3.9 3.4 3.4 2.9 3.1]\n",
      "(X1 > 3.2) =  [ True False False False  True  True  True  True False False]\n",
      "Count of Iris with sepal width wider than 3.0cm = 67\n"
     ]
    }
   ],
   "source": [
    "X1 = X[:10, 1]\n",
    "print('X1 =', X1)\n",
    "print('(X1 > 3.2) = ', X1 > 3.2)\n",
    "\n",
    "count = (X[:, 1] > 3.0).sum()\n",
    "print('Count of Iris with sepal width wider than 3.0cm =', count)"
   ]
  },
  {
   "cell_type": "code",
   "execution_count": 12,
   "metadata": {},
   "outputs": [
    {
     "name": "stdout",
     "output_type": "stream",
     "text": [
      "Average sepal length = 5.7 (cm)\n",
      "Average sepal width = 3.4 (cm)\n",
      "Average petal length = 2.9 (cm)\n",
      "Average petal width = 0.9 (cm)\n"
     ]
    }
   ],
   "source": [
    "# Only consder the iris with sepal width > 3.0cm\n",
    "print(f'Average sepal length = {X[X[:, 1] > 3.0, 0].mean():.1f} (cm)', )\n",
    "print(f'Average sepal width = {X[X[:, 1] > 3.0, 1].mean():.1f} (cm)', )\n",
    "print(f'Average petal length = {X[X[:, 1] > 3.0, 2].mean():.1f} (cm)', )\n",
    "print(f'Average petal width = {X[X[:, 1] > 3.0, 3].mean():.1f} (cm)', )"
   ]
  },
  {
   "cell_type": "code",
   "execution_count": 13,
   "metadata": {},
   "outputs": [
    {
     "name": "stdout",
     "output_type": "stream",
     "text": [
      "Count of Iris with sepal length longer than 6.0cm AND sepal width wider than 3.0cm = 23\n",
      "Count of Iris with sepal length longer than 6.0cm OR sepal width wider than 3.0cm = 105\n"
     ]
    }
   ],
   "source": [
    "count = ((X[:, 0] > 6.0) & (X[:, 1] > 3.0)).sum()\n",
    "print('Count of Iris with sepal length longer than 6.0cm AND sepal width wider than 3.0cm =', count)\n",
    "\n",
    "count = ((X[:, 0] > 6.0) | (X[:, 1] > 3.0)).sum()\n",
    "print('Count of Iris with sepal length longer than 6.0cm OR sepal width wider than 3.0cm =', count)"
   ]
  },
  {
   "cell_type": "markdown",
   "metadata": {},
   "source": [
    "#### numpy.reshape(a, newshape, order='C')\n",
    "Gives a new shape to an array without changing its data."
   ]
  },
  {
   "cell_type": "code",
   "execution_count": 14,
   "metadata": {},
   "outputs": [
    {
     "name": "stdout",
     "output_type": "stream",
     "text": [
      "arr1 =\n",
      "[0 1 2 3 4 5]\n",
      "arr1.shape = (6,)\n",
      "\n",
      "arr2 =\n",
      "[[0 1 2]\n",
      " [3 4 5]]\n",
      "arr2.shape = (2, 3)\n"
     ]
    }
   ],
   "source": [
    "arr1 = np.arange(6)\n",
    "arr2 = arr1.reshape(2, 3)\n",
    "\n",
    "print(f'arr1 =\\n{arr1}')\n",
    "print(f'arr1.shape = {arr1.shape}')\n",
    "print()\n",
    "print(f'arr2 =\\n{arr2}')\n",
    "print(f'arr2.shape = {arr2.shape}')"
   ]
  },
  {
   "cell_type": "code",
   "execution_count": 15,
   "metadata": {},
   "outputs": [
    {
     "name": "stdout",
     "output_type": "stream",
     "text": [
      "arr1 = \n",
      "[0 1 2 3 4 5]\n",
      "arr1.shape = (6,)\n",
      "\n",
      "arr2 = \n",
      "[[0]\n",
      " [1]\n",
      " [2]\n",
      " [3]\n",
      " [4]\n",
      " [5]]\n",
      "arr2.shape = (6, 1)\n",
      "\n",
      "arr3 = \n",
      "[[0]\n",
      " [1]\n",
      " [2]\n",
      " [3]\n",
      " [4]\n",
      " [5]]\n",
      "arr3.shape = (6, 1)\n"
     ]
    }
   ],
   "source": [
    "arr1 = np.arange(6)\n",
    "arr2 = arr1.reshape(-1, 1)\n",
    "arr3 = arr1[:, np.newaxis]\n",
    "print(f'arr1 = \\n{arr1}')\n",
    "print(f'arr1.shape = {arr1.shape}')\n",
    "print()\n",
    "print(f'arr2 = \\n{arr2}')\n",
    "print(f'arr2.shape = {arr2.shape}')\n",
    "print()\n",
    "print(f'arr3 = \\n{arr3}')\n",
    "print(f'arr3.shape = {arr3.shape}')"
   ]
  },
  {
   "cell_type": "markdown",
   "metadata": {},
   "source": [
    "#### Maxtix arithmetics in NumPy\n",
    "• Arithemtic standard operators: +, -, *, /, **, //, %\n",
    "\n",
    "• Scalar product"
   ]
  },
  {
   "cell_type": "code",
   "execution_count": 16,
   "metadata": {},
   "outputs": [
    {
     "name": "stdout",
     "output_type": "stream",
     "text": [
      "Matrix-1 =\n",
      "[[1 2 3]\n",
      " [4 5 6]]\n",
      "Matrix-2 =\n",
      "[[ 7  8  9]\n",
      " [10 11 12]]\n"
     ]
    }
   ],
   "source": [
    "mat1 = np.arange(1, 7).reshape(2, 3)\n",
    "mat2 = np.arange(7, 13).reshape(2, 3)\n",
    "print(f'Matrix-1 =\\n{mat1}')\n",
    "print(f'Matrix-2 =\\n{mat2}')"
   ]
  },
  {
   "cell_type": "code",
   "execution_count": 17,
   "metadata": {},
   "outputs": [
    {
     "data": {
      "text/plain": [
       "array([[ 8, 10, 12],\n",
       "       [14, 16, 18]])"
      ]
     },
     "execution_count": 17,
     "metadata": {},
     "output_type": "execute_result"
    }
   ],
   "source": [
    "mat1 + mat2"
   ]
  },
  {
   "cell_type": "code",
   "execution_count": 18,
   "metadata": {},
   "outputs": [
    {
     "data": {
      "text/plain": [
       "array([[-6, -6, -6],\n",
       "       [-6, -6, -6]])"
      ]
     },
     "execution_count": 18,
     "metadata": {},
     "output_type": "execute_result"
    }
   ],
   "source": [
    "mat1 - mat2"
   ]
  },
  {
   "cell_type": "code",
   "execution_count": 19,
   "metadata": {},
   "outputs": [
    {
     "data": {
      "text/plain": [
       "array([[ 7, 16, 27],\n",
       "       [40, 55, 72]])"
      ]
     },
     "execution_count": 19,
     "metadata": {},
     "output_type": "execute_result"
    }
   ],
   "source": [
    "mat1 * mat2"
   ]
  },
  {
   "cell_type": "code",
   "execution_count": 20,
   "metadata": {},
   "outputs": [
    {
     "data": {
      "text/plain": [
       "array([[10, 20, 30],\n",
       "       [40, 50, 60]])"
      ]
     },
     "execution_count": 20,
     "metadata": {},
     "output_type": "execute_result"
    }
   ],
   "source": [
    "mat1 * 10"
   ]
  },
  {
   "cell_type": "markdown",
   "metadata": {},
   "source": [
    "#### Universal functions (ufunc)"
   ]
  },
  {
   "cell_type": "code",
   "execution_count": 21,
   "metadata": {},
   "outputs": [
    {
     "name": "stdout",
     "output_type": "stream",
     "text": [
      "arr1 = [1 2 3 4 5 6 7 8]\n"
     ]
    }
   ],
   "source": [
    "arr1 = np.arange(1, 9)\n",
    "print(f'arr1 = {arr1}')"
   ]
  },
  {
   "cell_type": "code",
   "execution_count": 22,
   "metadata": {},
   "outputs": [
    {
     "data": {
      "text/plain": [
       "36"
      ]
     },
     "execution_count": 22,
     "metadata": {},
     "output_type": "execute_result"
    }
   ],
   "source": [
    "arr1.sum()"
   ]
  },
  {
   "cell_type": "code",
   "execution_count": 23,
   "metadata": {},
   "outputs": [
    {
     "data": {
      "text/plain": [
       "1"
      ]
     },
     "execution_count": 23,
     "metadata": {},
     "output_type": "execute_result"
    }
   ],
   "source": [
    "arr1.min()"
   ]
  },
  {
   "cell_type": "code",
   "execution_count": 24,
   "metadata": {},
   "outputs": [
    {
     "data": {
      "text/plain": [
       "8"
      ]
     },
     "execution_count": 24,
     "metadata": {},
     "output_type": "execute_result"
    }
   ],
   "source": [
    "arr1.max()"
   ]
  },
  {
   "cell_type": "code",
   "execution_count": 25,
   "metadata": {},
   "outputs": [
    {
     "data": {
      "text/plain": [
       "4.5"
      ]
     },
     "execution_count": 25,
     "metadata": {},
     "output_type": "execute_result"
    }
   ],
   "source": [
    "arr1.mean()"
   ]
  },
  {
   "cell_type": "code",
   "execution_count": 26,
   "metadata": {},
   "outputs": [
    {
     "data": {
      "text/plain": [
       "2.29128784747792"
      ]
     },
     "execution_count": 26,
     "metadata": {},
     "output_type": "execute_result"
    }
   ],
   "source": [
    "arr1.std()"
   ]
  },
  {
   "cell_type": "code",
   "execution_count": 27,
   "metadata": {},
   "outputs": [
    {
     "data": {
      "text/plain": [
       "array([2.71828183e+00, 7.38905610e+00, 2.00855369e+01, 5.45981500e+01,\n",
       "       1.48413159e+02, 4.03428793e+02, 1.09663316e+03, 2.98095799e+03])"
      ]
     },
     "execution_count": 27,
     "metadata": {},
     "output_type": "execute_result"
    }
   ],
   "source": [
    "np.exp(arr1)"
   ]
  },
  {
   "cell_type": "code",
   "execution_count": 28,
   "metadata": {},
   "outputs": [
    {
     "data": {
      "text/plain": [
       "array([ 1,  4,  9, 16, 25, 36, 49, 64])"
      ]
     },
     "execution_count": 28,
     "metadata": {},
     "output_type": "execute_result"
    }
   ],
   "source": [
    "np.square(arr1)"
   ]
  },
  {
   "cell_type": "code",
   "execution_count": 29,
   "metadata": {},
   "outputs": [
    {
     "data": {
      "text/plain": [
       "array([1.        , 1.41421356, 1.73205081, 2.        , 2.23606798,\n",
       "       2.44948974, 2.64575131, 2.82842712])"
      ]
     },
     "execution_count": 29,
     "metadata": {},
     "output_type": "execute_result"
    }
   ],
   "source": [
    "np.sqrt(arr1)"
   ]
  },
  {
   "cell_type": "code",
   "execution_count": 30,
   "metadata": {},
   "outputs": [
    {
     "data": {
      "text/plain": [
       "array([ 0.        ,  1.11803399,  2.23606798,  3.35410197,  4.47213595,\n",
       "        5.59016994,  6.70820393,  7.82623792,  8.94427191, 10.0623059 ])"
      ]
     },
     "execution_count": 30,
     "metadata": {},
     "output_type": "execute_result"
    }
   ],
   "source": [
    "x1 = np.arange(10)\n",
    "x2 = np.arange(10) / 2\n",
    "\n",
    "y = np.sqrt(x1 ** 2  + x2 ** 2)\n",
    "y"
   ]
  },
  {
   "cell_type": "code",
   "execution_count": 31,
   "metadata": {},
   "outputs": [
    {
     "data": {
      "text/plain": [
       "array([0.        , 1.11803399, 2.23606798, 3.35410197, 4.47213595,\n",
       "       0.        , 0.        , 0.        , 0.        , 0.        ])"
      ]
     },
     "execution_count": 31,
     "metadata": {},
     "output_type": "execute_result"
    }
   ],
   "source": [
    "np.where(y > 5, 0, y)"
   ]
  },
  {
   "cell_type": "markdown",
   "metadata": {},
   "source": [
    "#### Sorting\n",
    "#### numpy.sort(a, axis=-1, kind='quicksort', order=None)\n",
    "Return a sorted copy of an array.\n",
    "\n",
    "|kind|speed|worst case|work space|stable|\n",
    "|---|---|---|---|---|\n",
    "|quicksort|1|$$O(n^2)$$|0|no|\n",
    "|mergesort|2|$$O(n log(n))$$|~n/2|yes|\n",
    "|heapsort|3|$$O(n log(n))$$|0|no|\n",
    "\n",
    "#### arr.sort() method: inplace sorting\n",
    "#### np.sort(arr) function: return a sorted copy of an array"
   ]
  },
  {
   "cell_type": "code",
   "execution_count": 32,
   "metadata": {
    "scrolled": true
   },
   "outputs": [
    {
     "name": "stdout",
     "output_type": "stream",
     "text": [
      "mat0 =\n",
      "[[ 4 19  6]\n",
      " [ 1 16  9]\n",
      " [19  8 15]\n",
      " [16  6  4]\n",
      " [ 3  1 11]]\n",
      "mat1 (sort along axis=1) =\n",
      "[[ 4  6 19]\n",
      " [ 1  9 16]\n",
      " [ 8 15 19]\n",
      " [ 4  6 16]\n",
      " [ 1  3 11]]\n",
      "mat2 (sort along axis=0) =\n",
      "[[ 1  1  4]\n",
      " [ 3  6  6]\n",
      " [ 4  8  9]\n",
      " [16 16 11]\n",
      " [19 19 15]]\n"
     ]
    }
   ],
   "source": [
    "mat0 = np.random.randint(1, 20, (5, 3))\n",
    "mat1 = mat0.copy()\n",
    "print(f'mat0 =\\n{mat0}')\n",
    "mat1.sort()\n",
    "print(f'mat1 (sort along axis=1) =\\n{mat1}')\n",
    "mat2 = np.sort(mat0, axis=0)\n",
    "print(f'mat2 (sort along axis=0) =\\n{mat2}')"
   ]
  },
  {
   "cell_type": "markdown",
   "metadata": {},
   "source": [
    "#### numpy.argmax(a, axis=None, out=None)\n",
    "Returns the indices of the maximum values along an axis.\n",
    "\n",
    "#### numpy.argsort(a, axis=-1, kind='quicksort', order=None)\n",
    "Returns the indices that would sort an array."
   ]
  },
  {
   "cell_type": "code",
   "execution_count": 33,
   "metadata": {},
   "outputs": [
    {
     "name": "stdout",
     "output_type": "stream",
     "text": [
      "Maximum feature importance = 0.72682851\n",
      "feature_importances.argmax() @ index = 20\n",
      "Top-3 important features: [20 27 11]\n"
     ]
    }
   ],
   "source": [
    "# An example from Decision Tree Classification\n",
    "feature_importances = np.array([0.        , 0.        , 0.        , 0.        , 0.        ,\n",
    "       0.        , 0.        , 0.        , 0.        , 0.        ,\n",
    "       0.01019737, 0.04839825, 0.        , 0.        , 0.0024156 ,\n",
    "       0.        , 0.        , 0.        , 0.        , 0.        ,\n",
    "       0.72682851, 0.0458159 , 0.        , 0.        , 0.0141577 ,\n",
    "       0.        , 0.018188  , 0.1221132 , 0.01188548, 0.        ])\n",
    "\n",
    "print(f'Maximum feature importance = {feature_importances.max()}')\n",
    "print(f'feature_importances.argmax() @ index = {feature_importances.argmax()}')\n",
    "print(f'Top-3 important features: {feature_importances.argsort()[-3:][::-1]}')"
   ]
  },
  {
   "cell_type": "markdown",
   "metadata": {},
   "source": [
    "#### Linear Algebra\n",
    "#### numpy.transpose(a, axes=None)\n",
    "Permute the dimensions of an array.\n",
    "\n",
    "#### numpy.dot(a, b, out=None)\n",
    "Dot product of two arrays. Specifically,\n",
    "\n",
    "#### numpy.linalg.inv(a)\n",
    "Compute the (multiplicative) inverse of a matrix."
   ]
  },
  {
   "cell_type": "code",
   "execution_count": 34,
   "metadata": {},
   "outputs": [
    {
     "name": "stdout",
     "output_type": "stream",
     "text": [
      "Transpose of Matrix-1 =\n",
      "[[ 4  1  8  4  1]\n",
      " [ 6  9 15  6  3]\n",
      " [19 16 19 16 11]]\n",
      "Transpose of Matrix-1 =\n",
      "[[ 4  1  8  4  1]\n",
      " [ 6  9 15  6  3]\n",
      " [19 16 19 16 11]]\n"
     ]
    }
   ],
   "source": [
    "print(f'Transpose of Matrix-1 =\\n{np.transpose(mat1)}')\n",
    "print(f'Transpose of Matrix-1 =\\n{mat1.T}')"
   ]
  },
  {
   "cell_type": "code",
   "execution_count": 35,
   "metadata": {},
   "outputs": [
    {
     "name": "stdout",
     "output_type": "stream",
     "text": [
      "Matrix-1 =\n",
      "[[1 2 3]\n",
      " [4 5 6]]\n",
      "Matrix-2 =\n",
      "[[ 7  8]\n",
      " [ 9 10]\n",
      " [11 12]]\n",
      "Matrix-3 =\n",
      "[[ 58  64]\n",
      " [139 154]]\n",
      "Matrix-4 =\n",
      "[[ 58  64]\n",
      " [139 154]]\n"
     ]
    }
   ],
   "source": [
    "mat1 = np.arange(1, 7).reshape(2, 3)\n",
    "mat2 = np.arange(7, 13).reshape(3, 2)\n",
    "mat3 = np.dot(mat1, mat2)\n",
    "mat4 = mat1.dot(mat2)\n",
    "print(f'Matrix-1 =\\n{mat1}')\n",
    "print(f'Matrix-2 =\\n{mat2}')\n",
    "print(f'Matrix-3 =\\n{mat3}')\n",
    "print(f'Matrix-4 =\\n{mat4}')"
   ]
  },
  {
   "cell_type": "code",
   "execution_count": 36,
   "metadata": {},
   "outputs": [
    {
     "name": "stdout",
     "output_type": "stream",
     "text": [
      "Matrix-1 =\n",
      "[[1 2]\n",
      " [3 4]]\n",
      "Matrix-2 =\n",
      "[[-2.   1. ]\n",
      " [ 1.5 -0.5]]\n"
     ]
    }
   ],
   "source": [
    "mat1 = np.arange(1, 5).reshape(2, 2)\n",
    "mat2 = np.linalg.inv(mat1)\n",
    "print(f'Matrix-1 =\\n{mat1}')\n",
    "print(f'Matrix-2 =\\n{mat2}')"
   ]
  },
  {
   "cell_type": "code",
   "execution_count": null,
   "metadata": {},
   "outputs": [],
   "source": []
  }
 ],
 "metadata": {
  "kernelspec": {
   "display_name": "Python 3",
   "language": "python",
   "name": "python3"
  },
  "language_info": {
   "codemirror_mode": {
    "name": "ipython",
    "version": 3
   },
   "file_extension": ".py",
   "mimetype": "text/x-python",
   "name": "python",
   "nbconvert_exporter": "python",
   "pygments_lexer": "ipython3",
   "version": "3.7.1"
  }
 },
 "nbformat": 4,
 "nbformat_minor": 2
}
