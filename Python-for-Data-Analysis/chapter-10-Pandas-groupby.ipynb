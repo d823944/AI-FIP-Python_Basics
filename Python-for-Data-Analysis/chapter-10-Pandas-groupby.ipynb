{
 "cells": [
  {
   "cell_type": "markdown",
   "metadata": {},
   "source": [
    "## EDA (Explorary Data Analysis)\n",
    "### Kaggle: Students Performance in Exams\n",
    "#### To understand the influence of the parents background, test preparation etc on students performance\n",
    "\n",
    "#### Example Research Questions\n",
    "> How effective is the test preparation course?  \n",
    "> Which major factors contribute to test outcomes?  \n",
    "> What would be the best way to improve student scores on each test?  \n",
    "> What patterns and interactions in the data can you find? Let me know in the comments section below."
   ]
  },
  {
   "cell_type": "code",
   "execution_count": null,
   "metadata": {},
   "outputs": [],
   "source": [
    "%matplotlib inline\n",
    "import numpy as np\n",
    "import pandas as pd\n",
    "import matplotlib.pyplot as plt\n",
    "import seaborn as sns"
   ]
  },
  {
   "cell_type": "markdown",
   "metadata": {},
   "source": [
    "#### Load dataset (*.csv file)"
   ]
  },
  {
   "cell_type": "code",
   "execution_count": null,
   "metadata": {},
   "outputs": [],
   "source": [
    "df = pd.read_csv('StudentsPerformance.csv')"
   ]
  },
  {
   "cell_type": "markdown",
   "metadata": {},
   "source": [
    "#### Check dataset size"
   ]
  },
  {
   "cell_type": "code",
   "execution_count": null,
   "metadata": {},
   "outputs": [],
   "source": [
    "df.shape"
   ]
  },
  {
   "cell_type": "code",
   "execution_count": null,
   "metadata": {},
   "outputs": [],
   "source": [
    "df.head()"
   ]
  },
  {
   "cell_type": "code",
   "execution_count": null,
   "metadata": {},
   "outputs": [],
   "source": [
    "df.columns"
   ]
  },
  {
   "cell_type": "code",
   "execution_count": null,
   "metadata": {},
   "outputs": [],
   "source": [
    "print(f'gender: {np.unique(df[\"gender\"])}')\n",
    "print(f'race/ethnicity: {np.unique(df[\"race/ethnicity\"])}')\n",
    "print(f'parental level of education: {np.unique(df[\"parental level of education\"])}')\n",
    "print(f'lunch: {np.unique(df[\"lunch\"])}')\n",
    "print(f'test preparation course: {np.unique(df[\"test preparation course\"])}')"
   ]
  },
  {
   "cell_type": "code",
   "execution_count": null,
   "metadata": {},
   "outputs": [],
   "source": [
    "df.describe()"
   ]
  },
  {
   "cell_type": "code",
   "execution_count": null,
   "metadata": {},
   "outputs": [],
   "source": [
    "df.corr()"
   ]
  },
  {
   "cell_type": "code",
   "execution_count": null,
   "metadata": {},
   "outputs": [],
   "source": [
    "sns.pairplot(df[['math score', 'reading score', 'writing score']])\n",
    "# plt.savefig('student_pairplot.png')"
   ]
  },
  {
   "cell_type": "code",
   "execution_count": null,
   "metadata": {},
   "outputs": [],
   "source": [
    "counts = pd.crosstab(df['parental level of education'], df['lunch'])\n",
    "counts['free%'] = counts['free/reduced'] / (counts['free/reduced'] + counts['standard'])\n",
    "counts = counts.reindex(['some high school', 'high school', 'some college', \"associate's degree\", \"bachelor's degree\", \"master's degree\"])\n",
    "counts"
   ]
  },
  {
   "cell_type": "code",
   "execution_count": null,
   "metadata": {},
   "outputs": [],
   "source": [
    "df_male = df[df['gender'] == 'male']\n",
    "df_female = df[df['gender'] == 'female']\n",
    "\n",
    "df1 = pd.DataFrame(\n",
    "    {\n",
    "        'math score': [df_male['math score'].mean(), df_female['math score'].mean()],\n",
    "        'reading score': [df_male['reading score'].mean(), df_female['reading score'].mean()],\n",
    "        'writing score': [df_male['writing score'].mean(), df_female['writing score'].mean()],\n",
    "    },\n",
    "    index=['male', 'female']\n",
    ")\n",
    "df1"
   ]
  },
  {
   "cell_type": "code",
   "execution_count": null,
   "metadata": {},
   "outputs": [],
   "source": [
    "grouped1 = df.groupby(by='gender')\n",
    "grouped1.size()"
   ]
  },
  {
   "cell_type": "code",
   "execution_count": null,
   "metadata": {},
   "outputs": [],
   "source": [
    "grouped1.mean()"
   ]
  },
  {
   "cell_type": "code",
   "execution_count": null,
   "metadata": {},
   "outputs": [],
   "source": [
    "grouped1.describe()"
   ]
  },
  {
   "cell_type": "code",
   "execution_count": null,
   "metadata": {},
   "outputs": [],
   "source": [
    "df1 = pd.concat([\n",
    "    grouped1.quantile(0.25),\n",
    "    grouped1.quantile(0.5),\n",
    "    grouped1.quantile(0.75),\n",
    "])\n",
    "df1"
   ]
  },
  {
   "cell_type": "code",
   "execution_count": null,
   "metadata": {},
   "outputs": [],
   "source": [
    "df1 = pd.concat([\n",
    "    grouped1.quantile(0.25),\n",
    "    grouped1.quantile(0.5),\n",
    "    grouped1.quantile(0.75),\n",
    "])\n",
    "df1.index = [['25%', '25%', '50%', '50%', '75%', '75%'],\n",
    "            df1.index.tolist()]\n",
    "df1"
   ]
  },
  {
   "cell_type": "code",
   "execution_count": null,
   "metadata": {},
   "outputs": [],
   "source": [
    "df1 = pd.concat([\n",
    "    grouped1.quantile(0.25),\n",
    "    grouped1.quantile(0.5),\n",
    "    grouped1.quantile(0.75),\n",
    "])\n",
    "df1 = df1.reset_index()\n",
    "df1['quantile'] = ['25%', '25%', '50%', '50%', '75%', '75%']\n",
    "df1"
   ]
  },
  {
   "cell_type": "code",
   "execution_count": null,
   "metadata": {},
   "outputs": [],
   "source": [
    "df1 = df1.set_index(['gender', 'quantile'])\n",
    "df1 = df1.sort_index(level=0)\n",
    "df1"
   ]
  },
  {
   "cell_type": "code",
   "execution_count": null,
   "metadata": {},
   "outputs": [],
   "source": [
    "df1 = df1.swaplevel(0, 1)\n",
    "df1"
   ]
  },
  {
   "cell_type": "code",
   "execution_count": null,
   "metadata": {},
   "outputs": [],
   "source": [
    "df1 = df1.sort_index(0)\n",
    "df1"
   ]
  },
  {
   "cell_type": "code",
   "execution_count": null,
   "metadata": {},
   "outputs": [],
   "source": [
    "grouped2 = df.groupby(['race/ethnicity'])\n",
    "grouped2.size()"
   ]
  },
  {
   "cell_type": "code",
   "execution_count": null,
   "metadata": {},
   "outputs": [],
   "source": [
    "fig, axes = plt.subplots(1, 5, figsize=(15, 4))\n",
    "groups = ['group A', 'group B', 'group C', 'group D', 'group E']\n",
    "for i, (ax, group) in enumerate(zip(axes, groups)):\n",
    "    ax.hist(df[df['race/ethnicity'] == group]['math score'], bins=10, edgecolor='k')\n",
    "    ax.set_title(f'{group}: {(df[\"race/ethnicity\"] == group).astype(int).sum()}')\n",
    "    ax.set_xlabel('math score')\n",
    "axes[0].set_ylabel('# of Students')\n",
    "plt.tight_layout()"
   ]
  },
  {
   "cell_type": "code",
   "execution_count": null,
   "metadata": {},
   "outputs": [],
   "source": [
    "df2 = pd.DataFrame(\n",
    "    {\n",
    "        '25%': grouped2['math score'].quantile(0.25),\n",
    "        '50%': grouped2['math score'].quantile(0.5),\n",
    "        '75%': grouped2['math score'].quantile(0.75),\n",
    "    }\n",
    ")\n",
    "df2"
   ]
  },
  {
   "cell_type": "code",
   "execution_count": null,
   "metadata": {},
   "outputs": [],
   "source": [
    "df2.T"
   ]
  },
  {
   "cell_type": "code",
   "execution_count": null,
   "metadata": {},
   "outputs": [],
   "source": [
    "df2.plot.line(marker='D')\n",
    "plt.xticks(np.arange(len(df2.index)), df2.index)"
   ]
  },
  {
   "cell_type": "code",
   "execution_count": null,
   "metadata": {},
   "outputs": [],
   "source": [
    "grouped3 = df.groupby('parental level of education')\n",
    "df3 = pd.DataFrame(\n",
    "    {\n",
    "        '25%': grouped3['math score'].quantile(0.25),\n",
    "        '50%': grouped3['math score'].quantile(0.5),\n",
    "        '75%': grouped3['math score'].quantile(0.75),\n",
    "    }\n",
    ")\n",
    "df3 = df3.reindex(['some high school', 'high school', 'some college', \"associate's degree\", \"bachelor's degree\", \"master's degree\"])\n",
    "df3"
   ]
  },
  {
   "cell_type": "code",
   "execution_count": null,
   "metadata": {},
   "outputs": [],
   "source": [
    "df3.plot.line(marker='D')\n",
    "plt.xticks(np.arange(len(df3.index)), df3.index, rotation=90)"
   ]
  },
  {
   "cell_type": "code",
   "execution_count": null,
   "metadata": {},
   "outputs": [],
   "source": [
    "g = sns.catplot(x='parental level of education', y='math score', data=df)\n",
    "g.set_xticklabels(rotation=90)"
   ]
  },
  {
   "cell_type": "code",
   "execution_count": null,
   "metadata": {},
   "outputs": [],
   "source": [
    "g = sns.catplot(x='parental level of education', y='math score', data=df, kind='box', width=0.4)\n",
    "g.set_xticklabels(rotation=90)"
   ]
  },
  {
   "cell_type": "code",
   "execution_count": null,
   "metadata": {},
   "outputs": [],
   "source": [
    "g = sns.catplot(x='parental level of education', y='math score', col='gender', data=df, kind='box', width=0.4)\n",
    "g.set_xticklabels(rotation=90)"
   ]
  },
  {
   "cell_type": "code",
   "execution_count": null,
   "metadata": {},
   "outputs": [],
   "source": [
    "g = sns.catplot(x='parental level of education', y='math score',\n",
    "                col='gender', hue='lunch',\n",
    "                data=df, kind='box', width=0.4)\n",
    "g.set_xticklabels(rotation=90)"
   ]
  },
  {
   "cell_type": "code",
   "execution_count": null,
   "metadata": {},
   "outputs": [],
   "source": [
    "grouped4 = df.groupby('lunch')\n",
    "df4 = pd.DataFrame(\n",
    "    {\n",
    "        'math': grouped4['math score'].median(),\n",
    "        'reading': grouped4['reading score'].median(),\n",
    "        'writing': grouped4['writing score'].median(),\n",
    "    }\n",
    ")\n",
    "df4"
   ]
  },
  {
   "cell_type": "code",
   "execution_count": null,
   "metadata": {},
   "outputs": [],
   "source": [
    "df4.plot.bar()\n",
    "plt.xticks(rotation=0)\n",
    "plt.legend(loc=[1.05, 0.5])"
   ]
  },
  {
   "cell_type": "code",
   "execution_count": null,
   "metadata": {},
   "outputs": [],
   "source": [
    "fig, axes = plt.subplots(1, 3, figsize=(15, 4))\n",
    "courses = ['math score', 'reading score', 'writing score']\n",
    "for (course, ax) in zip(courses, axes):\n",
    "    g = sns.catplot(x='test preparation course', y=course, ax=ax, data=df, kind='box', width=0.3)\n",
    "    plt.close(g.fig)\n",
    "plt.tight_layout()"
   ]
  },
  {
   "cell_type": "code",
   "execution_count": null,
   "metadata": {},
   "outputs": [],
   "source": []
  }
 ],
 "metadata": {
  "kernelspec": {
   "display_name": "Python 3",
   "language": "python",
   "name": "python3"
  },
  "language_info": {
   "codemirror_mode": {
    "name": "ipython",
    "version": 3
   },
   "file_extension": ".py",
   "mimetype": "text/x-python",
   "name": "python",
   "nbconvert_exporter": "python",
   "pygments_lexer": "ipython3",
   "version": "3.7.0"
  }
 },
 "nbformat": 4,
 "nbformat_minor": 2
}
