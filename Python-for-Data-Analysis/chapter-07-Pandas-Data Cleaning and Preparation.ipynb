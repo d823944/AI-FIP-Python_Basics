{
 "cells": [
  {
   "cell_type": "code",
   "execution_count": null,
   "metadata": {},
   "outputs": [],
   "source": [
    "%matplotlib inline\n",
    "import pandas as pd\n",
    "import numpy as np\n",
    "import matplotlib.pyplot as plt"
   ]
  },
  {
   "cell_type": "code",
   "execution_count": null,
   "metadata": {},
   "outputs": [],
   "source": [
    "df = pd.read_csv('FS_qtr.csv', encoding='utf-8', index_col=0)\n",
    "print(df.shape)\n",
    "df.head()"
   ]
  },
  {
   "cell_type": "markdown",
   "metadata": {},
   "source": [
    "#### DataFrame.dropna(axis=0, how='any', thresh=None, subset=None, inplace=False)\n",
    "Remove missing values."
   ]
  },
  {
   "cell_type": "code",
   "execution_count": null,
   "metadata": {},
   "outputs": [],
   "source": [
    "df1 = df.copy()\n",
    "df1 = df1.dropna(how='any', axis=1)\n",
    "print(df1.shape)\n",
    "df1.head()"
   ]
  },
  {
   "cell_type": "markdown",
   "metadata": {},
   "source": [
    "#### DataFrame.fillna(value=None, method=None, axis=None, inplace=False, limit=None, downcast=None, **kwargs)\n",
    "Fill NA/NaN values using the specified method"
   ]
  },
  {
   "cell_type": "code",
   "execution_count": null,
   "metadata": {},
   "outputs": [],
   "source": [
    "df1 = df.copy()\n",
    "df1 = df1.fillna(0)\n",
    "print(df1.shape)\n",
    "df1.head()"
   ]
  },
  {
   "cell_type": "code",
   "execution_count": null,
   "metadata": {},
   "outputs": [],
   "source": [
    "df1 = df.copy()\n",
    "df1 = df1.fillna(method='ffill', axis=1)\n",
    "print(df1.shape)\n",
    "df1.head()"
   ]
  },
  {
   "cell_type": "markdown",
   "metadata": {},
   "source": [
    "#### DataFrame.duplicated(subset=None, keep='first')\n",
    "Return boolean Series denoting <font color=\"red\">duplicate rows</font>, optionally only considering certain columns\n",
    "\n",
    "#### DataFrame.drop_duplicates(subset=None, keep='first', inplace=False)\n",
    "Return DataFrame with duplicate rows removed, optionally only considering certain columns"
   ]
  },
  {
   "cell_type": "code",
   "execution_count": null,
   "metadata": {},
   "outputs": [],
   "source": [
    "# create a duplicated row\n",
    "df1.iloc[1] = df1.iloc[0]\n",
    "df1.head()"
   ]
  },
  {
   "cell_type": "code",
   "execution_count": null,
   "metadata": {},
   "outputs": [],
   "source": [
    "df1.duplicated()[:5]"
   ]
  },
  {
   "cell_type": "markdown",
   "metadata": {},
   "source": [
    "#### DataFrame.drop_duplicates(subset=None, keep='first', inplace=False)\n",
    "Return DataFrame with duplicate rows removed, optionally only considering certain columns"
   ]
  },
  {
   "cell_type": "code",
   "execution_count": null,
   "metadata": {},
   "outputs": [],
   "source": [
    "df1 = df1.drop_duplicates()\n",
    "df1.head()"
   ]
  },
  {
   "cell_type": "code",
   "execution_count": null,
   "metadata": {},
   "outputs": [],
   "source": [
    "df2 = pd.DataFrame()\n",
    "df2['公司代號'] = df['公司代號']\n",
    "df2['公司名稱'] = df['公司名稱']\n",
    "df2['毛利率(%)'] = round(df['營業毛利（毛損）'] / df['營業收入'] * 100, 2)\n",
    "df2['營業利益率(%)'] = round(df['營業利益（損失）'] / df['營業收入'] * 100, 2)\n",
    "df2['業外佔税前淨利比(%)'] = round(df['營業外收入及支出'] / df['稅前淨利（淨損）'] * 100, 2)\n",
    "df2['稅後淨利率(%)'] = round(df['本期淨利（淨損）'] / df['營業收入'] * 100, 2)\n",
    "df2['EPS'] = df['基本每股盈餘（元）']\n",
    "df2 = df2.set_index('公司代號')\n",
    "df2.head()"
   ]
  },
  {
   "cell_type": "code",
   "execution_count": null,
   "metadata": {},
   "outputs": [],
   "source": [
    "df2.loc[2451: 2454]"
   ]
  },
  {
   "cell_type": "code",
   "execution_count": null,
   "metadata": {},
   "outputs": [],
   "source": [
    "df = pd.read_csv('tips.csv')\n",
    "df.head()"
   ]
  },
  {
   "cell_type": "code",
   "execution_count": null,
   "metadata": {},
   "outputs": [],
   "source": [
    "df['time'] = df['time'].str.lower()\n",
    "df.head()"
   ]
  },
  {
   "cell_type": "markdown",
   "metadata": {},
   "source": [
    "#### Series.map(arg, na_action=None)\n",
    "Map values of <font color='red'>Series</font> using input correspondence (a dict, Series, or function)."
   ]
  },
  {
   "cell_type": "code",
   "execution_count": null,
   "metadata": {},
   "outputs": [],
   "source": [
    "df['smoker'] = df['smoker'].map(lambda x: x.lower())\n",
    "df.head()"
   ]
  },
  {
   "cell_type": "markdown",
   "metadata": {},
   "source": [
    "#### DataFrame.replace(to_replace=None, value=None, inplace=False, limit=None, regex=False, method='pad')\n",
    "Replace values given in to_replace with value."
   ]
  },
  {
   "cell_type": "code",
   "execution_count": null,
   "metadata": {},
   "outputs": [],
   "source": [
    "df.replace('Sun', 'Sunday', inplace=True)\n",
    "df.replace([2, 3, 4], ['Two', 'Three', 'Four'], inplace=True)\n",
    "df.replace({'yes': 'YES', 'no': 'NO'}, inplace=True)\n",
    "df.head()"
   ]
  },
  {
   "cell_type": "markdown",
   "metadata": {},
   "source": [
    "#### pandas.cut(x, bins, right=True, labels=None, retbins=False, precision=3, include_lowest=False, duplicates='raise')\n",
    "Bin values into discrete intervals.\n",
    "\n",
    "#### pandas.qcut(x, q, labels=None, retbins=False, precision=3)\n",
    "Quantile-based discretization function. \n",
    "\n",
    "q : integer or array of quantiles\n",
    "\n",
    "Number of quantiles. 10 for deciles, 4 for quartiles, etc. Alternately array of quantiles, e.g. [0, .25, .5, .75, 1.] for quartiles\n",
    "\n",
    "#### Series.value_counts(normalize=False, sort=True, ascending=False, bins=None, dropna=True)\n",
    "Returns object containing counts of unique values."
   ]
  },
  {
   "cell_type": "code",
   "execution_count": null,
   "metadata": {},
   "outputs": [],
   "source": [
    "df = pd.read_csv('tips.csv')\n",
    "print(df.shape)\n",
    "df['tip'].min(), df['tip'].max()"
   ]
  },
  {
   "cell_type": "code",
   "execution_count": null,
   "metadata": {},
   "outputs": [],
   "source": [
    "bins = [0, 2, 4, 6, 8, 10]\n",
    "tip_bins = pd.cut(df['tip'], bins)\n",
    "pd.value_counts(tip_bins)"
   ]
  },
  {
   "cell_type": "code",
   "execution_count": null,
   "metadata": {},
   "outputs": [],
   "source": [
    "tip_bins = pd.qcut(df['tip'], 4)\n",
    "pd.value_counts(tip_bins)"
   ]
  },
  {
   "cell_type": "code",
   "execution_count": null,
   "metadata": {},
   "outputs": [],
   "source": [
    "tip_bins = pd.qcut(df['tip'], [0, .33, .67, 1.])\n",
    "pd.value_counts(tip_bins)"
   ]
  },
  {
   "cell_type": "markdown",
   "metadata": {},
   "source": [
    "DataFrame.plot(x=None, y=None, kind='line', ax=None, subplots=False, sharex=None, sharey=False, layout=None, figsize=None, use_index=True, title=None, grid=None, legend=True, style=None, logx=False, logy=False, loglog=False, xticks=None, yticks=None, xlim=None, ylim=None, rot=None, fontsize=None, colormap=None, table=False, yerr=None, xerr=None, secondary_y=False, sort_columns=False, **kwds)[source]\n",
    "Make plots of DataFrame using matplotlib / pylab."
   ]
  },
  {
   "cell_type": "code",
   "execution_count": null,
   "metadata": {},
   "outputs": [],
   "source": [
    "df['tip'].plot(kind='hist', bins=20, edgecolor='black')"
   ]
  },
  {
   "cell_type": "markdown",
   "metadata": {},
   "source": [
    "#### DataFrame.all(axis=0, bool_only=None, skipna=True, level=None, **kwargs)[source]\n",
    "Return whether all elements are True, potentially over an axis."
   ]
  },
  {
   "cell_type": "code",
   "execution_count": null,
   "metadata": {},
   "outputs": [],
   "source": [
    "df[(df >= 5).all(axis=1)]"
   ]
  },
  {
   "cell_type": "markdown",
   "metadata": {},
   "source": [
    "#### DataFrame.any(axis=0, bool_only=None, skipna=True, level=None, **kwargs)[source]\n",
    "Return whether any element is True over requested axis."
   ]
  },
  {
   "cell_type": "code",
   "execution_count": null,
   "metadata": {},
   "outputs": [],
   "source": [
    "df[(df[['total_bill', 'tip']] >= 45).any(axis=1)]"
   ]
  },
  {
   "cell_type": "markdown",
   "metadata": {},
   "source": [
    "#### pandas.get_dummies(data, prefix=None, prefix_sep='_', dummy_na=False, columns=None, sparse=False, drop_first=False, dtype=None)\n",
    "Convert <font color=\"red\">categorical</font> variable into dummy/indicator variables (one-hot encoder)"
   ]
  },
  {
   "cell_type": "code",
   "execution_count": null,
   "metadata": {},
   "outputs": [],
   "source": [
    "# one-hot-encoded table\n",
    "df1 = df.copy()\n",
    "dummies = pd.get_dummies(df1['smoker'], prefix='smoker')\n",
    "df1 = df1.join(dummies)\n",
    "df1.head()"
   ]
  },
  {
   "cell_type": "code",
   "execution_count": null,
   "metadata": {},
   "outputs": [],
   "source": []
  }
 ],
 "metadata": {
  "kernelspec": {
   "display_name": "Python 3",
   "language": "python",
   "name": "python3"
  },
  "language_info": {
   "codemirror_mode": {
    "name": "ipython",
    "version": 3
   },
   "file_extension": ".py",
   "mimetype": "text/x-python",
   "name": "python",
   "nbconvert_exporter": "python",
   "pygments_lexer": "ipython3",
   "version": "3.6.5"
  }
 },
 "nbformat": 4,
 "nbformat_minor": 2
}
