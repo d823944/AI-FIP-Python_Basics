{
 "cells": [
  {
   "cell_type": "markdown",
   "metadata": {},
   "source": [
    "### Data visualization\n",
    "#### (Slide) Effective Data Presentation (1)"
   ]
  },
  {
   "cell_type": "code",
   "execution_count": null,
   "metadata": {},
   "outputs": [],
   "source": [
    "%matplotlib inline\n",
    "import numpy as np\n",
    "import pandas as pd\n",
    "import matplotlib.pyplot as plt"
   ]
  },
  {
   "cell_type": "markdown",
   "metadata": {},
   "source": [
    "### Relationship - two variables\n",
    "#### Scatter Plot Chart\n",
    "matplotlib.pyplot.scatter(x, y, s=None, c=None, marker=None, cmap=None, norm=None, vmin=None, vmax=None, alpha=None, linewidths=None, verts=None, edgecolors=None, *, data=None, **kwargs)\n",
    "\n",
    "A scatter plot of y vs x with varying marker size and/or color."
   ]
  },
  {
   "cell_type": "code",
   "execution_count": null,
   "metadata": {},
   "outputs": [],
   "source": [
    "from sklearn.datasets import load_iris\n",
    "X, y = load_iris(return_X_y=True)\n",
    "\n",
    "fig = plt.figure(dpi=150, figsize=(4, 3))\n",
    "plt.scatter(X[np.where(y==0), 0], X[np.where(y==0), 1], marker='o', s=10, c='red', label='setosa', alpha=0.5, edgecolor='black')\n",
    "plt.scatter(X[np.where(y==1), 0], X[np.where(y==1), 1], marker='D', s=10, c='green', label='versicolor', alpha=0.5)\n",
    "plt.scatter(X[np.where(y==2), 0], X[np.where(y==2), 1], marker='s', s=10, c='blue', label='virginica', alpha=0.5)\n",
    "# plt.xlim(0, 8)\n",
    "# plt.ylim(0, 4.5)\n",
    "plt.xticks(fontsize=8)\n",
    "plt.yticks(fontsize=8)\n",
    "plt.xlabel('Sepal Length (cm)', fontsize=8)\n",
    "plt.ylabel('Sepal Width (cm)', fontsize=8)\n",
    "plt.title('Scatter Plot Chart', fontsize=8)\n",
    "plt.legend(loc=(1.05, 0.5), fontsize=8, ncol=1)"
   ]
  },
  {
   "cell_type": "markdown",
   "metadata": {},
   "source": [
    "### Relationship - three variables\n",
    "#### Bubble Plot"
   ]
  },
  {
   "cell_type": "code",
   "execution_count": null,
   "metadata": {},
   "outputs": [],
   "source": [
    "x = np.random.rand(40)\n",
    "y = np.random.rand(40)\n",
    "z = np.random.rand(40)\n",
    "plt.scatter(x, y, s=z*1000, alpha=0.5)"
   ]
  },
  {
   "cell_type": "markdown",
   "metadata": {},
   "source": [
    "#### Line Graph\n",
    "matplotlib.pyplot.plot(*args, scalex=True, scaley=True, data=None, **kwargs)\n",
    "\n",
    "Plot y versus x as lines and/or markers."
   ]
  },
  {
   "cell_type": "code",
   "execution_count": null,
   "metadata": {},
   "outputs": [],
   "source": [
    "years = [str(i) for i in range(2013, 2018)]\n",
    "gross_margin = [43.96, 48.75, 43.23, 35.64, 35.63]\n",
    "operating_margin = [18.55, 22.17, 12.15, 8.38, 4.12]\n",
    "net_bf_tax = [21.72, 24.57, 13.77, 9.88, 11.43]\n",
    "net_af_tax = [20.20, 21.78, 12.08, 8.72, 10.10]\n",
    "plt.plot(years, gross_margin, color='orange', label='gross margin')\n",
    "plt.plot(years, operating_margin, color='blue', label='operating margin')\n",
    "plt.plot(years, net_bf_tax, color='red', label='net margin b/f tax')\n",
    "plt.plot(years, net_af_tax, color='green', label='net margin a/f tax')\n",
    "plt.ylabel('Margins (%)')\n",
    "plt.legend()"
   ]
  },
  {
   "cell_type": "code",
   "execution_count": null,
   "metadata": {},
   "outputs": [],
   "source": [
    "X, y = load_iris(return_X_y=True)\n",
    "X = X[:, :2]\n",
    "y = (y != 0).astype(int)\n",
    "\n",
    "from sklearn.linear_model import LinearRegression\n",
    "clf = LinearRegression()\n",
    "clf.fit(X, y)\n",
    "print(clf.coef_, clf.intercept_)\n",
    "(clf.predict(X) >= 0.5).astype(int)"
   ]
  },
  {
   "cell_type": "markdown",
   "metadata": {},
   "source": [
    "#### matplotlib.pyplot.contourf(*args, data=None, **kwargs)\n",
    "Plot contours.\n",
    "\n",
    "#### matplotlib.pyplot.contour(*args, data=None, **kwargs)\n",
    "Plot contours."
   ]
  },
  {
   "cell_type": "code",
   "execution_count": null,
   "metadata": {},
   "outputs": [],
   "source": [
    "iris = load_iris()\n",
    "xx = np.linspace(min(X[:, 0]), max(X[:, 0]), 101)\n",
    "yy = np.linspace(min(X[:, 1]), max(X[:, 1]), 101)\n",
    "xx, yy = np.meshgrid(xx, yy)\n",
    "zz = clf.predict(np.c_[xx.ravel(), yy.ravel()])\n",
    "zz = (zz >= 0.5).astype(int)\n",
    "plt.contourf(xx, yy, zz.reshape(xx.shape), cmap=plt.cm.coolwarm, alpha=0.3)\n",
    "plt.contour(xx, yy, zz.reshape(xx.shape))\n",
    "\n",
    "plt.scatter(X[np.where(y==0), 0], X[np.where(y==0), 1], marker='o', s=10, c='blue', label='setosa')\n",
    "plt.scatter(X[np.where(y==1), 0], X[np.where(y==1), 1], marker='^', s=10, c='red', label='not setosa')\n",
    "plt.xlim(min(X[:, 0]), max(X[:, 0]))\n",
    "plt.ylim(min(X[:, 1]), max(X[:, 1]))\n",
    "plt.xlabel(iris.feature_names[0])\n",
    "plt.ylabel(iris.feature_names[1])\n",
    "plt.legend(loc='lower right')"
   ]
  },
  {
   "cell_type": "markdown",
   "metadata": {},
   "source": [
    "#### subplots\n",
    "matplotlib.pyplot.subplots(nrows=1, ncols=1, sharex=False, sharey=False, squeeze=True, subplot_kw=None, gridspec_kw=None, **fig_kw)\n",
    "\n",
    "Create a figure and a set of subplots."
   ]
  },
  {
   "cell_type": "code",
   "execution_count": null,
   "metadata": {},
   "outputs": [],
   "source": [
    "iris = load_iris()\n",
    "X = iris.data\n",
    "y = iris.target\n",
    "y_named = [iris.target_names[i] for i in y]\n",
    "\n",
    "fig, axes = plt.subplots(2, 2, sharey=True, figsize=(8, 8))\n",
    "plt.subplots_adjust(wspace=0.1, hspace=0.3)\n",
    "\n",
    "for i, ax in enumerate(axes.ravel()):\n",
    "    ax.scatter(X[:, i], y_named)\n",
    "    ax.set_xlabel(f'{iris.feature_names[i]}')\n",
    "    ax.spines['top'].set_visible(False)\n",
    "    ax.spines['right'].set_visible(False)\n",
    "    "
   ]
  },
  {
   "cell_type": "markdown",
   "metadata": {},
   "source": [
    "#### Column Chart\n",
    "matplotlib.pyplot.bar(x, height, width=0.8, bottom=None, *, align='center', data=None, **kwargs)\n",
    "\n",
    "Make a bar plot."
   ]
  },
  {
   "cell_type": "code",
   "execution_count": null,
   "metadata": {},
   "outputs": [],
   "source": [
    "EPS = np.array([6.82, 8.03, 8.51, 6.65, 4.62, 4.06, 5.09, 2.83, 2.79, 4.16, 4.98, 3.21, 4.29, 1.51, 3.26, 6.46, 1.69, 4.75, 4.39, 0])\n",
    "qtr = []\n",
    "for y in range(14, 19):\n",
    "    for q in ['1Q', '2Q', '3Q', '4Q']:\n",
    "        qtr.append(q + str(y))\n",
    "\n",
    "plt.bar(qtr, EPS)\n",
    "plt.xticks(rotation=45)\n",
    "plt.ylabel('EPS')\n",
    "plt.title('MediaTek')"
   ]
  },
  {
   "cell_type": "code",
   "execution_count": null,
   "metadata": {},
   "outputs": [],
   "source": [
    "labels = ['Q1', 'Q2', 'Q3', 'Q4']\n",
    "eps_2016 = [2.79, 4.16, 4.98, 3.21]\n",
    "eps_2017 = [4.29, 1.51, 3.26, 6.46]\n",
    "\n",
    "p1 = plt.bar(labels, eps_2016, color='blue', width=-0.4, align='edge', label='2016')\n",
    "p2 = plt.bar(labels, eps_2017, color='orange', width=0.4, align='edge', label='2017')\n",
    "plt.ylabel('EPS')\n",
    "plt.legend()\n",
    "\n",
    "for i, (r1, r2) in enumerate(zip(p1, p2)):\n",
    "    plt.text(r1.get_x()-0.3, eps_2016[i] - 0.5, eps_2016[i], color='white')\n",
    "    plt.text(r2.get_x()+0.1, eps_2017[i] - 0.5, eps_2017[i], color='black')"
   ]
  },
  {
   "cell_type": "markdown",
   "metadata": {},
   "source": [
    "#### Bar Graph\n",
    "matplotlib.pyplot.barh(y, width, height=0.8, left=None, *, align='center', **kwargs)\n",
    "\n",
    "Make a horizontal bar plot."
   ]
  },
  {
   "cell_type": "code",
   "execution_count": null,
   "metadata": {},
   "outputs": [],
   "source": [
    "makers = ['Samsung', 'Apple', 'Huawei', 'Oppo', 'Xiaomi']\n",
    "sales = [318, 216, 154, 112, 93]\n",
    "\n",
    "makers.reverse()\n",
    "sales.reverse()\n",
    "plt.barh(makers, sales)\n",
    "plt.xlabel('Unit Shipments (million)')"
   ]
  },
  {
   "cell_type": "code",
   "execution_count": null,
   "metadata": {},
   "outputs": [],
   "source": [
    "makers = ['Samsung', 'Apple', 'Huawei', 'Oppo', 'Xiaomi']\n",
    "sales_2016 = [311, 215, 139, 100, 53]\n",
    "sales_2017 = [318, 216, 154, 112, 93]\n",
    "makers.reverse()\n",
    "sales_2016.reverse()\n",
    "sales_2017.reverse()\n",
    "\n",
    "p1 = plt.barh(makers, sales_2016, color='blue', height=0.4, align='edge', label='2016')\n",
    "p2 = plt.barh(makers, sales_2017, color='orange', height=-0.4, align='edge', label='2017')\n",
    "plt.xlabel('Unit Shipments (million)')\n",
    "plt.legend()\n",
    "\n",
    "for i, (r1, r2) in enumerate(zip(p1, p2)):\n",
    "    plt.text(r1.get_x(), r1.get_y()+0.1, sales_2016[i], color='white')\n",
    "    plt.text(r2.get_x(), r2.get_y()-0.3, sales_2017[i], color='black')"
   ]
  },
  {
   "cell_type": "markdown",
   "metadata": {},
   "source": [
    "#### Pie Chart\n",
    "matplotlib.pyplot.pie(x, explode=None, labels=None, colors=None, autopct=None, pctdistance=0.6, shadow=False, labeldistance=1.1, startangle=None, radius=None, counterclock=True, wedgeprops=None, textprops=None, center=(0, 0), frame=False, rotatelabels=False, *, data=None)\n",
    "\n",
    "Plot a pie chart."
   ]
  },
  {
   "cell_type": "code",
   "execution_count": null,
   "metadata": {},
   "outputs": [],
   "source": [
    "makers = ['Samsung', 'Apple', 'Huawei', 'Oppo', 'Xiaomi', 'Others']\n",
    "sales_2017 = [318, 216, 154, 112, 93, 591]\n",
    "plt.pie(sales_2017, labels=makers, autopct='%.1f%%', shadow=True, startangle=90, explode=(0, 0.1, 0, 0, 0, 0))\n",
    "# Equal aspect ratio ensures that pie is drawn as a circle\n",
    "plt.axis('equal')"
   ]
  },
  {
   "cell_type": "markdown",
   "metadata": {},
   "source": [
    "#### Histogram\n",
    "matplotlib.pyplot.hist(x, bins=None, range=None, density=None, weights=None, cumulative=False, bottom=None, histtype='bar', align='mid', orientation='vertical', rwidth=None, log=False, color=None, label=None, stacked=False, normed=None, *, data=None, **kwargs)\n",
    "\n",
    "Plot a histogram."
   ]
  },
  {
   "cell_type": "code",
   "execution_count": null,
   "metadata": {},
   "outputs": [],
   "source": [
    "hist_data = plt.hist(X[:, 0], bins=15, color='yellowgreen', edgecolor='black')\n",
    "plt.xlabel('Sepal Length (cm)')\n",
    "plt.ylabel('Frequency')\n",
    "\n",
    "yy = hist_data[0].max()\n",
    "xx = hist_data[1][np.where(hist_data[0] == yy)]\n",
    "plt.annotate('max', xy=(xx[0], yy), xytext=(xx[0]+0.5, yy+3),\n",
    "             arrowprops=dict(facecolor='red', width=3, headwidth=8, headlength=8))\n",
    "plt.xlim(4, 8)\n",
    "plt.ylim(0, 25)"
   ]
  },
  {
   "cell_type": "code",
   "execution_count": null,
   "metadata": {},
   "outputs": [],
   "source": [
    "print(hist_data[0])\n",
    "print(hist_data[1])"
   ]
  },
  {
   "cell_type": "code",
   "execution_count": null,
   "metadata": {},
   "outputs": [],
   "source": [
    "from sklearn.datasets import load_breast_cancer\n",
    "cancer = load_breast_cancer()\n",
    "\n",
    "fig, axes = plt.subplots(15, 2, figsize=(10, 20))\n",
    "malignant = cancer.data[cancer.target == 0]\n",
    "benign = cancer.data[cancer.target == 1]\n",
    "ax = axes.ravel()\n",
    "\n",
    "for i in range(30):\n",
    "    # calculate bin_edges of the whole datasets\n",
    "    _, bins = np.histogram(cancer.data[:, i], bins=50)\n",
    "    ax[i].hist(malignant[:, i], bins=bins, color='r', alpha=.5)\n",
    "    ax[i].hist(benign[:, i], bins=bins, color='b', alpha=.5)\n",
    "    ax[i].set_title(cancer.feature_names[i])\n",
    "    ax[i].set_yticks(())\n",
    "    \n",
    "ax[0].set_xlabel(\"Feature magnitude\")\n",
    "ax[0].set_ylabel(\"Frequency\")\n",
    "ax[0].legend([\"malignant\", \"benign\"], loc=\"best\")\n",
    "fig.tight_layout()"
   ]
  },
  {
   "cell_type": "markdown",
   "metadata": {},
   "source": [
    "#### matplotlib.pyplot.matshow(A, fignum=None, **kwargs)\n",
    "Display an array as a matrix in a new figure window."
   ]
  },
  {
   "cell_type": "code",
   "execution_count": null,
   "metadata": {},
   "outputs": [],
   "source": [
    "# Principal Component Analysis (PCA)\n",
    "pca_components = [\n",
    "    [0.21890244, 0.10372458, 0.22753729, 0.22099499, 0.14258969, 0.23928535,\n",
    "    0.25840048, 0.26085376, 0.13816696, 0.06436335, 0.20597878, 0.01742803,\n",
    "    0.21132592, 0.20286964, 0.01453145, 0.17039345, 0.15358979, 0.1834174,\n",
    "    0.04249842, 0.10256832, 0.22799663, 0.10446933, 0.23663968, 0.22487053,\n",
    "    0.12795256, 0.21009588, 0.22876753, 0.25088597, 0.12290456, 0.13178394],\n",
    "    [-0.23385713, -0.05970609, -0.21518136, -0.23107671, 0.18611302, 0.15189161,\n",
    "    0.06016536, -0.0347675, 0.19034877, 0.36657547, -0.10555215, 0.08997968,\n",
    "    -0.08945723, -0.15229263, 0.20443045, 0.2327159, 0.19720728, 0.13032156,\n",
    "    0.183848, 0.28009203, -0.21986638, -0.0454673, -0.19987843, -0.21935186,\n",
    "    0.17230435,  0.14359317, 0.09796411, -0.00825724, 0.14188335,  0.27533947]]\n",
    "\n",
    "plt.matshow(pca_components, cmap='coolwarm')\n",
    "\n",
    "plt.yticks([0, 1], [\"First component\", \"Second component\"])\n",
    "plt.colorbar()\n",
    "plt.xticks(range(30), cancer.feature_names, rotation=60, ha='left')\n",
    "plt.xlabel(\"Feature\")\n",
    "plt.ylabel(\"Principal components\")"
   ]
  },
  {
   "cell_type": "markdown",
   "metadata": {},
   "source": [
    "#### matplotlib.pyplot.imshow(X, cmap=None, norm=None, aspect=None, interpolation=None, alpha=None, vmin=None, vmax=None, origin=None, extent=None, shape=None, filternorm=1, filterrad=4.0, imlim=None, resample=None, url=None, *, data=None, **kwargs)\n",
    "Display an image, i.e. data on a 2D regular raster."
   ]
  },
  {
   "cell_type": "code",
   "execution_count": null,
   "metadata": {},
   "outputs": [],
   "source": [
    "from sklearn.datasets import load_digits\n",
    "digits = load_digits()\n",
    "print(f'Image dimension = {digits.images.shape}')\n",
    "print(f'Data dimension = {digits.data.shape}')\n",
    "\n",
    "images_and_labels = list(zip(digits.images, digits.target))\n",
    "for index, (image, label) in enumerate(images_and_labels[:8]):\n",
    "    plt.subplot(2, 4, index + 1)\n",
    "    plt.axis('off')\n",
    "    plt.imshow(image, cmap=plt.cm.binary, interpolation='nearest')\n",
    "    plt.title('Digit: %i' % label)"
   ]
  },
  {
   "cell_type": "code",
   "execution_count": null,
   "metadata": {},
   "outputs": [],
   "source": [
    "from sklearn.datasets import load_digits\n",
    "digits = load_digits()\n",
    "print(digits.data.shape)\n",
    "\n",
    "fig, axes = plt.subplots(1, 5, figsize=(8, 3))\n",
    "\n",
    "for i, ax in enumerate(axes.ravel()):\n",
    "    ax.imshow(digits.data[i].reshape(8, 8), cmap=plt.cm.binary, interpolation='nearest')\n",
    "    ax.set_xticks([])\n",
    "    ax.set_yticks([])\n",
    "    ax.axis('off')\n",
    "    ax.set_title(digits.target[i])\n"
   ]
  },
  {
   "cell_type": "markdown",
   "metadata": {},
   "source": [
    "#### Bonus: Stacked Bar Chart"
   ]
  },
  {
   "cell_type": "code",
   "execution_count": null,
   "metadata": {},
   "outputs": [],
   "source": [
    "def get_cumulated_array(data, **kwargs):\n",
    "    # 給堆疊柱狀圖用\n",
    "    # 把正數或負數分開(由**kwargs指定)，傳回累計值\n",
    "    # Clip (limit) the values in an array\n",
    "    cum = data.clip(**kwargs)\n",
    "    # Return the cumulative sum of the elements along a given axis.\n",
    "    cum = np.cumsum(cum, axis=0)\n",
    "    # Return a new array of given shape and type, filled with zeros.\n",
    "    d = np.zeros(np.shape(data))\n",
    "    d[1:] = cum[:-1]\n",
    "    return d\n",
    "\n",
    "\n",
    "def get_cumulated_data_stack(data):\n",
    "    # 給堆疊柱狀圖用\n",
    "    # 傳入data，傳回data_stack (正負數分開累計)\n",
    "    cumulated_data = get_cumulated_array(data, min=0)\n",
    "    cumulated_data_neg = get_cumulated_array(data, max=0)\n",
    "    # 合併正負數資料串列\n",
    "    row_mask = (data < 0)\n",
    "    cumulated_data[row_mask] = cumulated_data_neg[row_mask]\n",
    "    data_stack = cumulated_data\n",
    "    return data_stack\n"
   ]
  },
  {
   "cell_type": "code",
   "execution_count": null,
   "metadata": {},
   "outputs": [],
   "source": [
    "year = [2014, 2015, 2016, 2017, 2018]\n",
    "EPS = np.array([6.82, 8.03, 8.51, 6.65, 4.62, 4.06, 5.09, 2.83, 2.79, 4.16, 4.98, 3.21, 4.29, 1.51, 3.26, 6.46, 1.69, 4.75, 4.39, 0])\n",
    "EPS = EPS.reshape(-1, 4)\n",
    "\n",
    "# Prepare to draw stacked bar chart\n",
    "data = EPS.T\n",
    "data_shape = np.shape(data)\n",
    "\n",
    "# Take negative and positive data apart and cumulate\n",
    "data_stack = get_cumulated_data_stack(data)\n",
    "\n",
    "# Plot stacked bar chart\n",
    "fig = plt.figure(dpi=150, figsize=(4, 3))\n",
    "ax = plt.subplot(111)\n",
    "x_interval = np.arange(data_shape[1])\n",
    "\n",
    "p = [[], [], [], []]\n",
    "colors = [\"brown\", \"blue\", \"green\", \"orange\"]\n",
    "for i in np.arange(data_shape[0]):\n",
    "    p[i] = ax.bar(\n",
    "        x_interval, data[i], bottom=data_stack[i], width=0.6,\n",
    "        align='center', color=colors[i])\n",
    "    \n",
    "# Define x-axis and y-axis\n",
    "plt.xticks(x_interval, year, fontsize=9)\n",
    "plt.yticks(fontsize=9)\n",
    "plt.ylabel('EPS', fontsize=10)\n",
    "\n",
    "# Add data labels for each data point\n",
    "for r1, r2, r3, r4 in zip(p[0], p[1], p[2], p[3]):\n",
    "    h1 = r1.get_y()\n",
    "    h2 = r2.get_y()\n",
    "    h3 = r3.get_y()\n",
    "    h4 = r4.get_y()\n",
    "    v1 = r1.get_height() * (-1) if h1 < 0 else r1.get_height()\n",
    "    v2 = r2.get_height() * (-1) if h2 < 0 else r2.get_height()\n",
    "    v3 = r3.get_height() * (-1) if h3 < 0 else r3.get_height()\n",
    "    v4 = r4.get_height() * (-1) if h4 < 0 else r4.get_height()\n",
    "    plt.text(\n",
    "        r1.get_x()+r1.get_width()/2, h1, \"%.2f\" % v1,\n",
    "        ha='center', va='bottom', color='white', fontsize=9)\n",
    "    plt.text(\n",
    "        r2.get_x()+r2.get_width()/2, h2, \"%.2f\" % v2,\n",
    "        ha='center', va='bottom', color='white', fontsize=9)\n",
    "    plt.text(\n",
    "        r3.get_x()+r3.get_width()/2, h3, \"%.2f\" % v3,\n",
    "        ha='center', va='bottom', color='white', fontsize=9)\n",
    "    plt.text(\n",
    "        r4.get_x()+r4.get_width()/2, h4, \"%.2f\" % v4,\n",
    "        ha='center', va='bottom', color='white', fontsize=9)\n",
    "\n",
    "plt.grid(True, axis='y', linestyle=':')\n",
    "plt.title('MediaTek (2454)', loc='right', fontsize=10)\n",
    "plt.tight_layout()\n",
    "#plt.savefig(filename)\n",
    "#plt.show()\n",
    "#plt.close()"
   ]
  },
  {
   "cell_type": "markdown",
   "metadata": {},
   "source": [
    "#### Bonus: Radar Chart"
   ]
  },
  {
   "cell_type": "code",
   "execution_count": null,
   "metadata": {},
   "outputs": [],
   "source": [
    "labels = ('A', 'B', 'C', 'D', 'E')\n",
    "values = (5, 4, 3, 3, 4)\n",
    "angles = np.linspace(np.pi*0.3, np.pi*2.3, len(values), endpoint=False)\n",
    "values = np.concatenate((values, [values[0]]))\n",
    "angles = np.concatenate((angles, [angles[0]]))\n",
    "fig = plt.figure(figsize=(4, 4))\n",
    "ax = fig.add_subplot(111, polar=True)\n",
    "ax.plot(angles, values, 'o-', linewidth=2)\n",
    "ax.fill(angles, values, alpha=0.25)\n",
    "ax.set_thetagrids(angles * 180 / np.pi, labels, fontsize=16)\n",
    "ax.set_ylim(0, 5)\n",
    "ax.set_yticks(np.arange(0, 5, 1))\n",
    "ax.yaxis.set_tick_params(labelsize=10)\n",
    "ax.set_title('Radar Chart', fontsize=16)"
   ]
  },
  {
   "cell_type": "code",
   "execution_count": null,
   "metadata": {},
   "outputs": [],
   "source": []
  }
 ],
 "metadata": {
  "kernelspec": {
   "display_name": "Python 3",
   "language": "python",
   "name": "python3"
  },
  "language_info": {
   "codemirror_mode": {
    "name": "ipython",
    "version": 3
   },
   "file_extension": ".py",
   "mimetype": "text/x-python",
   "name": "python",
   "nbconvert_exporter": "python",
   "pygments_lexer": "ipython3",
   "version": "3.6.5"
  }
 },
 "nbformat": 4,
 "nbformat_minor": 2
}
