{
 "cells": [
  {
   "cell_type": "code",
   "execution_count": null,
   "metadata": {},
   "outputs": [],
   "source": [
    "import numpy as np\n",
    "import pandas as pd"
   ]
  },
  {
   "cell_type": "markdown",
   "metadata": {},
   "source": [
    "#### pandas.Series(data=None, index=None, dtype=None, name=None, copy=False, fastpath=False)\n",
    "One-dimensional ndarray with axis labels"
   ]
  },
  {
   "cell_type": "code",
   "execution_count": null,
   "metadata": {},
   "outputs": [],
   "source": [
    "scores = {'Chinese': 75, 'English': 86, 'Math': 91}\n",
    "obj1 = pd.Series(scores)\n",
    "obj1.name = 'Student_1'\n",
    "obj1"
   ]
  },
  {
   "cell_type": "code",
   "execution_count": null,
   "metadata": {},
   "outputs": [],
   "source": [
    "obj2 = pd.Series({'Chinese': 82.5, 'English': 67, 'Science': 78}, name='Student_2')\n",
    "obj2"
   ]
  },
  {
   "cell_type": "code",
   "execution_count": null,
   "metadata": {},
   "outputs": [],
   "source": [
    "obj3 = obj1 + obj2\n",
    "obj3"
   ]
  },
  {
   "cell_type": "code",
   "execution_count": null,
   "metadata": {},
   "outputs": [],
   "source": [
    "obj3.isnull()"
   ]
  },
  {
   "cell_type": "code",
   "execution_count": null,
   "metadata": {},
   "outputs": [],
   "source": [
    "obj3.notnull()"
   ]
  },
  {
   "cell_type": "markdown",
   "metadata": {},
   "source": [
    "#### pandas.DataFrame(data=None, index=None, columns=None, dtype=None, copy=False)\n",
    "Two-dimensional size-mutable, potentially heterogeneous tabular data structure with labeled axes (rows and columns). Arithmetic operations align on both row and column labels. Can be thought of as a dict-like container for Series objects. "
   ]
  },
  {
   "cell_type": "code",
   "execution_count": null,
   "metadata": {},
   "outputs": [],
   "source": [
    "df = pd.DataFrame([obj1, obj2])\n",
    "print(f'columns = {df.columns}')\n",
    "print(f'index = {df.index}')\n",
    "df"
   ]
  },
  {
   "cell_type": "code",
   "execution_count": null,
   "metadata": {},
   "outputs": [],
   "source": [
    "df = pd.DataFrame({\n",
    "    'Student_1': [75.0, 86.0, 91.0, None],\n",
    "    'Student_2': [82.5, 67.0, None, 78.0],\n",
    "    'Student_3': [69.0, 75.0, 83.0, 64.0],},\n",
    "    index=['Chinese', 'English', 'Math', 'Science']\n",
    ")\n",
    "print(f'columns = {df.columns}')\n",
    "print(f'index = {df.index}')\n",
    "df"
   ]
  },
  {
   "cell_type": "code",
   "execution_count": null,
   "metadata": {},
   "outputs": [],
   "source": [
    "df = pd.DataFrame({\n",
    "    'Chinese': [75.0, 82.5, 69.0],\n",
    "    'English': [86.0, 67.0, 75.0],\n",
    "    'Math': [91.0, None, 83.0],\n",
    "    'Science': [None, 78.0, 64.0]},\n",
    "    index=['Student_1', 'Student_2', 'Student_3']\n",
    ")\n",
    "print(f'columns = {df.columns}')\n",
    "print(f'index = {df.index}')\n",
    "df"
   ]
  },
  {
   "cell_type": "code",
   "execution_count": null,
   "metadata": {},
   "outputs": [],
   "source": [
    "df = pd.DataFrame([\n",
    "    [75.0, 86.0, 91.0, None],\n",
    "    [82.5, 67.0, None, 78.0],\n",
    "    [69.0, 75.0, 83.0, 64.0]],\n",
    "    columns=['Chinese', 'English', 'Math', 'Science'],\n",
    "    index=['Student_1', 'Student_2', 'Student_3']\n",
    ")\n",
    "print(f'columns = {df.columns}')\n",
    "print(f'index = {df.index}')\n",
    "df"
   ]
  },
  {
   "cell_type": "code",
   "execution_count": null,
   "metadata": {},
   "outputs": [],
   "source": [
    "print(f'type(df.Chinese) = {type(df.Chinese)}\\n')\n",
    "print(df.Chinese, '\\n')\n",
    "print(df['Chinese'])"
   ]
  },
  {
   "cell_type": "markdown",
   "metadata": {},
   "source": [
    "#### DataFrame.T\n",
    "Transpose index and columns."
   ]
  },
  {
   "cell_type": "code",
   "execution_count": null,
   "metadata": {},
   "outputs": [],
   "source": [
    "df.T"
   ]
  },
  {
   "cell_type": "markdown",
   "metadata": {},
   "source": [
    "#### pandas.DataFrame.loc\n",
    "Access a group of rows and columns by label(s) or a boolean array.\n",
    "\n",
    ".loc[ ] is primarily label based, but may also be used with a boolean array."
   ]
  },
  {
   "cell_type": "code",
   "execution_count": null,
   "metadata": {},
   "outputs": [],
   "source": [
    "print(df.Chinese, '\\n')\n",
    "\n",
    "print(df.loc['Student_1'], '\\n')\n",
    "print(df.loc['Student_1', 'Chinese'])\n",
    "print(df.loc['Student_1']['Chinese'], '\\n')\n",
    "\n",
    "# Attention: column-'Math' included\n",
    "print(df.loc['Student_1']['Chinese':'Math'])"
   ]
  },
  {
   "cell_type": "markdown",
   "metadata": {},
   "source": [
    "#### DataFrame.iloc\n",
    "Purely integer-location based indexing for selection by position."
   ]
  },
  {
   "cell_type": "code",
   "execution_count": null,
   "metadata": {},
   "outputs": [],
   "source": [
    "print(df.iloc[0], '\\n')\n",
    "print(df.iloc[0, 0])\n",
    "print(df.iloc[0][0], '\\n')\n",
    "\n",
    "# Attention: index-2 not included\n",
    "print(df.iloc[0][0:2])"
   ]
  },
  {
   "cell_type": "code",
   "execution_count": null,
   "metadata": {},
   "outputs": [],
   "source": [
    "df2 = df.copy()\n",
    "df2['Music'] = [100, 90, 95]\n",
    "df2"
   ]
  },
  {
   "cell_type": "code",
   "execution_count": null,
   "metadata": {},
   "outputs": [],
   "source": [
    "del df2['Chinese']\n",
    "df2"
   ]
  },
  {
   "cell_type": "markdown",
   "metadata": {},
   "source": [
    "#### DataFrame.reindex(labels=None, index=None, columns=None, axis=None, method=None, copy=True, level=None, fill_value=nan, limit=None, tolerance=None)\n",
    "Conform DataFrame to new index with optional filling logic, placing NA/NaN in locations having no value in the previous index. A new object is produced unless the new index is equivalent to the current one and copy=False"
   ]
  },
  {
   "cell_type": "code",
   "execution_count": null,
   "metadata": {},
   "outputs": [],
   "source": [
    "df2 = df2.reindex(['Student_0', 'Student_2', 'Student_3', 'Student_1'])\n",
    "df2"
   ]
  },
  {
   "cell_type": "code",
   "execution_count": null,
   "metadata": {},
   "outputs": [],
   "source": [
    "df2.index = [0, 2, 3, 1]\n",
    "df2"
   ]
  },
  {
   "cell_type": "code",
   "execution_count": null,
   "metadata": {},
   "outputs": [],
   "source": [
    "df2.columns = ['EN', 'MA', 'SC', 'MU']\n",
    "df2"
   ]
  },
  {
   "cell_type": "code",
   "execution_count": null,
   "metadata": {},
   "outputs": [],
   "source": [
    "values = df2.values\n",
    "print(f'type(values) = {type(values)}')\n",
    "values"
   ]
  },
  {
   "cell_type": "code",
   "execution_count": null,
   "metadata": {},
   "outputs": [],
   "source": [
    "# df2 is a copy of df\n",
    "# changing the value in df2 will not change df\n",
    "df"
   ]
  },
  {
   "cell_type": "code",
   "execution_count": null,
   "metadata": {},
   "outputs": [],
   "source": [
    "# insert a new column\n",
    "df['ID'] = [i.split('_')[1] for i in df.index]\n",
    "df"
   ]
  },
  {
   "cell_type": "code",
   "execution_count": null,
   "metadata": {},
   "outputs": [],
   "source": [
    "# rearrange columns in a data frame\n",
    "df = df[['ID', 'Chinese', 'English', 'Math', 'Science']]\n",
    "df"
   ]
  },
  {
   "cell_type": "markdown",
   "metadata": {},
   "source": [
    "#### DataFrame.set_index(keys, drop=True, append=False, inplace=False, verify_integrity=False)\n",
    "Set the DataFrame index (row labels) using one or more existing columns. By default yields a new object."
   ]
  },
  {
   "cell_type": "code",
   "execution_count": null,
   "metadata": {},
   "outputs": [],
   "source": [
    "df = df.set_index('ID')\n",
    "df"
   ]
  },
  {
   "cell_type": "markdown",
   "metadata": {},
   "source": [
    "#### DataFrame.drop(labels=None, axis=0, index=None, columns=None, level=None, inplace=False, errors='raise')\n",
    "Drop specified labels from rows or columns."
   ]
  },
  {
   "cell_type": "code",
   "execution_count": null,
   "metadata": {},
   "outputs": [],
   "source": [
    "# df.drop() is not an inplace operation\n",
    "df.drop(['Chinese', 'English'], axis=1)"
   ]
  },
  {
   "cell_type": "markdown",
   "metadata": {},
   "source": [
    "#### DataFrame.dropna(axis=0, how='any', thresh=None, subset=None, inplace=False)\n",
    "Remove missing values."
   ]
  },
  {
   "cell_type": "code",
   "execution_count": null,
   "metadata": {},
   "outputs": [],
   "source": [
    "df.dropna()"
   ]
  },
  {
   "cell_type": "code",
   "execution_count": null,
   "metadata": {},
   "outputs": [],
   "source": [
    "df2 = df.copy()\n",
    "df2.loc['Avg'] = round(df.mean(axis=0), 1)\n",
    "df2"
   ]
  },
  {
   "cell_type": "code",
   "execution_count": null,
   "metadata": {},
   "outputs": [],
   "source": [
    "df2['Sum'] = df2.sum(axis=1)\n",
    "df2['Avg'] = df2.loc[:, 'Chinese': 'Science'].mean(axis=1)\n",
    "df2"
   ]
  },
  {
   "cell_type": "code",
   "execution_count": null,
   "metadata": {},
   "outputs": [],
   "source": [
    "df3 = df2.drop('Avg', axis=0)\n",
    "df4 = df3.sort_values(by=['Avg'], ascending=True)\n",
    "df4"
   ]
  },
  {
   "cell_type": "markdown",
   "metadata": {},
   "source": [
    "#### DataFrame.sort_index(axis=0, level=None, ascending=True, inplace=False, kind='quicksort', na_position='last', sort_remaining=True, by=None)\n",
    "Sort object by labels (along an axis)"
   ]
  },
  {
   "cell_type": "code",
   "execution_count": null,
   "metadata": {},
   "outputs": [],
   "source": [
    "df4.sort_index(axis=0)"
   ]
  },
  {
   "cell_type": "code",
   "execution_count": null,
   "metadata": {},
   "outputs": [],
   "source": [
    "df4.sort_index(axis=1)"
   ]
  },
  {
   "cell_type": "markdown",
   "metadata": {},
   "source": [
    "#### DataFrame.rank(axis=0, method='average', numeric_only=None, na_option='keep', ascending=True, pct=False)\n",
    "Compute numerical data ranks (1 through n) along axis. Equal values are assigned a rank that is the average of the ranks of those values"
   ]
  },
  {
   "cell_type": "code",
   "execution_count": null,
   "metadata": {},
   "outputs": [],
   "source": [
    "df3.rank(axis=0, ascending=False)"
   ]
  },
  {
   "cell_type": "markdown",
   "metadata": {},
   "source": [
    "#### DataFrame.idxmax(axis=0, skipna=True)\n",
    "Return index of first occurrence of maximum over requested axis. NA/null values are excluded."
   ]
  },
  {
   "cell_type": "code",
   "execution_count": null,
   "metadata": {},
   "outputs": [],
   "source": [
    "df3.index = ['Ann', 'Bob', 'Claire']\n",
    "df3"
   ]
  },
  {
   "cell_type": "code",
   "execution_count": null,
   "metadata": {},
   "outputs": [],
   "source": [
    "df3.idxmax()"
   ]
  },
  {
   "cell_type": "code",
   "execution_count": null,
   "metadata": {},
   "outputs": [],
   "source": [
    "df3.idxmin()"
   ]
  },
  {
   "cell_type": "code",
   "execution_count": null,
   "metadata": {},
   "outputs": [],
   "source": [
    "df3.cumsum()"
   ]
  },
  {
   "cell_type": "markdown",
   "metadata": {},
   "source": [
    "#### DataFrame.apply(func, axis=0, broadcast=False, raw=False, reduce=None, args=(), **kwds)\n",
    "Applies function along input axis of DataFrame."
   ]
  },
  {
   "cell_type": "code",
   "execution_count": null,
   "metadata": {},
   "outputs": [],
   "source": [
    "df = pd.DataFrame({\n",
    "    'Student_1': [75.0, 86.0, 91.0, None],\n",
    "    'Student_2': [82.5, 67.0, None, 78.0],\n",
    "    'Student_3': [69.0, 75.0, 83.0, 64.0],},\n",
    "    index=['Chinese', 'English', 'Math', 'Science']\n",
    ")\n",
    "df"
   ]
  },
  {
   "cell_type": "code",
   "execution_count": null,
   "metadata": {},
   "outputs": [],
   "source": [
    "def f(x):\n",
    "    return pd.Series([x.min(), x.max()], index=['min', 'max'])\n",
    "\n",
    "df.apply(f, axis=0)"
   ]
  },
  {
   "cell_type": "code",
   "execution_count": null,
   "metadata": {},
   "outputs": [],
   "source": [
    "df.apply(f, axis=1)"
   ]
  },
  {
   "cell_type": "markdown",
   "metadata": {},
   "source": [
    "#### DataFrame.applymap(func)\n",
    "Apply a function to a Dataframe <font color=\"red\">elementwise</font>.\n",
    "\n",
    "This method applies a function that accepts and returns a scalar to every element of a DataFrame."
   ]
  },
  {
   "cell_type": "code",
   "execution_count": null,
   "metadata": {},
   "outputs": [],
   "source": [
    "f = lambda x: 0 if pd.isnull(x) else int(x)\n",
    "df = df.applymap(f)\n",
    "df"
   ]
  },
  {
   "cell_type": "markdown",
   "metadata": {},
   "source": [
    "#### DataFrame.describe(percentiles=None, include=None, exclude=None)\n",
    "Generates descriptive statistics that summarize the central tendency, dispersion and shape of a dataset’s distribution, excluding NaN values.\n",
    "\n",
    "Analyzes both numeric and object series, as well as DataFrame column sets of mixed data types. The output will vary depending on what is provided. Refer to the notes below for more detail."
   ]
  },
  {
   "cell_type": "code",
   "execution_count": null,
   "metadata": {},
   "outputs": [],
   "source": [
    "from sklearn.datasets import load_iris\n",
    "iris = load_iris()\n",
    "df = pd.DataFrame(iris.data, columns=iris.feature_names)\n",
    "df.head()"
   ]
  },
  {
   "cell_type": "code",
   "execution_count": null,
   "metadata": {},
   "outputs": [],
   "source": [
    "df.describe()"
   ]
  },
  {
   "cell_type": "markdown",
   "metadata": {},
   "source": [
    "#### DataFrame.cov(min_periods=None)\n",
    "Compute pairwise covariance of columns, excluding NA/null values.\n",
    "\n",
    "\n",
    "$ cov(X, Y) = E[(X - E[X]) (Y - E[Y])]$"
   ]
  },
  {
   "cell_type": "code",
   "execution_count": null,
   "metadata": {},
   "outputs": [],
   "source": [
    "df.cov()"
   ]
  },
  {
   "cell_type": "markdown",
   "metadata": {},
   "source": [
    "#### DataFrame.corr(method='pearson', min_periods=1)\n",
    "Compute pairwise correlation of columns, excluding NA/null values\n",
    "\n",
    "$ corr(X, Y) = \\frac{cov(X, Y)}{\\sigma_{X} \\sigma_{Y}} $"
   ]
  },
  {
   "cell_type": "code",
   "execution_count": null,
   "metadata": {},
   "outputs": [],
   "source": [
    "df.corr()"
   ]
  },
  {
   "cell_type": "code",
   "execution_count": null,
   "metadata": {},
   "outputs": [],
   "source": [
    "df = pd.DataFrame({\n",
    "    'a': np.random.randint(1, 5, 5),\n",
    "    'b': np.random.randint(1, 5, 5),\n",
    "    'c': np.random.randint(1, 5, 5),\n",
    "})\n",
    "\n",
    "df"
   ]
  },
  {
   "cell_type": "markdown",
   "metadata": {},
   "source": [
    "#### Series.unique()\n",
    "Return unique values of Series object."
   ]
  },
  {
   "cell_type": "code",
   "execution_count": null,
   "metadata": {},
   "outputs": [],
   "source": [
    "df['a'].unique()"
   ]
  },
  {
   "cell_type": "markdown",
   "metadata": {},
   "source": [
    "#### Series.value_counts(normalize=False, sort=True, ascending=False, bins=None, dropna=True)\n",
    "Returns object containing counts of unique values."
   ]
  },
  {
   "cell_type": "code",
   "execution_count": null,
   "metadata": {},
   "outputs": [],
   "source": [
    "df['a'].value_counts(sort=False)"
   ]
  },
  {
   "cell_type": "markdown",
   "metadata": {},
   "source": [
    "#### DataFrame.isin(values)\n",
    "Return boolean DataFrame showing whether each element in the DataFrame is contained in values."
   ]
  },
  {
   "cell_type": "code",
   "execution_count": null,
   "metadata": {},
   "outputs": [],
   "source": [
    "df.isin([1, 2])"
   ]
  },
  {
   "cell_type": "code",
   "execution_count": null,
   "metadata": {},
   "outputs": [],
   "source": [
    "mask = df['a'].isin([1, 2])\n",
    "df[mask]"
   ]
  },
  {
   "cell_type": "markdown",
   "metadata": {},
   "source": [
    "#### Index.get_indexer(target, method=None, limit=None, tolerance=None)\n",
    "Compute indexer and mask for new index given the current index."
   ]
  },
  {
   "cell_type": "code",
   "execution_count": null,
   "metadata": {},
   "outputs": [],
   "source": [
    "df.index = ['III', 'I', 'II', 'I', 'III']\n",
    "df"
   ]
  },
  {
   "cell_type": "code",
   "execution_count": null,
   "metadata": {},
   "outputs": [],
   "source": [
    "old_index = df.index\n",
    "new_index = pd.Series(['I', 'II', 'III'])\n",
    "df.index = pd.Index(new_index).get_indexer(old_index)\n",
    "df"
   ]
  },
  {
   "cell_type": "code",
   "execution_count": null,
   "metadata": {},
   "outputs": [],
   "source": [
    "df = pd.DataFrame({\n",
    "    'a': np.random.randint(1, 5, 5),\n",
    "    'b': np.random.randint(1, 5, 5),\n",
    "    'c': np.random.randint(1, 5, 5),\n",
    "})\n",
    "f = lambda x: x if x != 4 else None\n",
    "df = df.applymap(f)\n",
    "df"
   ]
  },
  {
   "cell_type": "code",
   "execution_count": null,
   "metadata": {},
   "outputs": [],
   "source": [
    "df.apply(pd.value_counts)"
   ]
  },
  {
   "cell_type": "code",
   "execution_count": null,
   "metadata": {},
   "outputs": [],
   "source": [
    "df.apply(pd.value_counts).fillna(0)"
   ]
  },
  {
   "cell_type": "code",
   "execution_count": null,
   "metadata": {},
   "outputs": [],
   "source": []
  }
 ],
 "metadata": {
  "kernelspec": {
   "display_name": "Python 3",
   "language": "python",
   "name": "python3"
  },
  "language_info": {
   "codemirror_mode": {
    "name": "ipython",
    "version": 3
   },
   "file_extension": ".py",
   "mimetype": "text/x-python",
   "name": "python",
   "nbconvert_exporter": "python",
   "pygments_lexer": "ipython3",
   "version": "3.6.5"
  }
 },
 "nbformat": 4,
 "nbformat_minor": 2
}
