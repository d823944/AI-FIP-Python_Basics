{
 "cells": [
  {
   "cell_type": "markdown",
   "metadata": {},
   "source": [
    "## Python function\n",
    "- define your own functions\n",
    "\n",
    "- recursive function\n",
    "\n",
    "- inner function"
   ]
  },
  {
   "cell_type": "code",
   "execution_count": 2,
   "metadata": {},
   "outputs": [
    {
     "name": "stdout",
     "output_type": "stream",
     "text": [
      "5\n"
     ]
    }
   ],
   "source": [
    "def myAdder_1(x, y):\n",
    "    return x + y\n",
    "\n",
    "print(myAdder_1(2, 3))"
   ]
  },
  {
   "cell_type": "code",
   "execution_count": 3,
   "metadata": {},
   "outputs": [
    {
     "name": "stdout",
     "output_type": "stream",
     "text": [
      "15.0\n"
     ]
    }
   ],
   "source": [
    "\"\"\"*args and **kwargs in function definitions is used to pass a variable number \n",
    "of arguments to a function. \n",
    "The single asterisk form ( *args ) is used to pass a non-keyworded, variable-length \n",
    "argument list.\n",
    "\"\"\"\n",
    "def myAdder_2(x, y, *args):\n",
    "    s = x + y\n",
    "    for z in args:\n",
    "        s += z\n",
    "    return s\n",
    "\n",
    "print(myAdder_2(1, 2, 3, 3.5, 5.5))"
   ]
  },
  {
   "cell_type": "code",
   "execution_count": 4,
   "metadata": {},
   "outputs": [
    {
     "name": "stdout",
     "output_type": "stream",
     "text": [
      "(4, 3)\n",
      "4 3\n"
     ]
    }
   ],
   "source": [
    "# tuple unpacking\n",
    "def myDivider(x, y):\n",
    "    a = x // y\n",
    "    b = x % y\n",
    "    return a, b\n",
    "\n",
    "print(myDivider(19, 4))\n",
    "a, b = myDivider(19, 4)\n",
    "print(a, b)"
   ]
  },
  {
   "cell_type": "code",
   "execution_count": 5,
   "metadata": {},
   "outputs": [
    {
     "name": "stdout",
     "output_type": "stream",
     "text": [
      "Hi, everyone. Ann is my first name.\n",
      "My last name is Lee .\n",
      "My age is 30 .\n",
      "My company is ABC .\n"
     ]
    }
   ],
   "source": [
    "\"\"\"*args and **kwargs in function definitions is used to pass a variable number \n",
    "of arguments to a function. \n",
    "The double asterisk form (**kwargs) is used to pass a keyworded, variable-length\n",
    "argument list.\n",
    "\"\"\"\n",
    "def self_intro(first_name, **kwargs):\n",
    "    print('Hi, everyone.', first_name, 'is my first name.')\n",
    "    for k, v in kwargs.items():\n",
    "        print('My', k, 'is', v, '.')\n",
    "\n",
    "user_profile = {\n",
    "    'first name': 'Ann',\n",
    "    'last name': 'Lee',\n",
    "    'age': 30,\n",
    "    'company': 'ABC',\n",
    "}\n",
    "first_name = user_profile['first name']\n",
    "del user_profile['first name']\n",
    "self_intro(first_name, **user_profile)"
   ]
  },
  {
   "cell_type": "code",
   "execution_count": 6,
   "metadata": {},
   "outputs": [
    {
     "name": "stdout",
     "output_type": "stream",
     "text": [
      "Hi, everyone. Bob is my first name.\n",
      "My age is 40 .\n"
     ]
    }
   ],
   "source": [
    "user_profile_2 = {\n",
    "    'first_name': 'Bob',\n",
    "    'age': 40,\n",
    "}\n",
    "first_name = user_profile_2['first_name']\n",
    "del user_profile_2['first_name']\n",
    "self_intro(first_name, **user_profile_2)"
   ]
  },
  {
   "cell_type": "code",
   "execution_count": 7,
   "metadata": {},
   "outputs": [
    {
     "data": {
      "text/plain": [
       "720"
      ]
     },
     "execution_count": 7,
     "metadata": {},
     "output_type": "execute_result"
    }
   ],
   "source": [
    "def factorial_1(N):\n",
    "    result = 1\n",
    "    for i in range(2, N+1):\n",
    "        result *= i\n",
    "    return result\n",
    "\n",
    "factorial_1(6)"
   ]
  },
  {
   "cell_type": "code",
   "execution_count": 8,
   "metadata": {},
   "outputs": [
    {
     "data": {
      "text/plain": [
       "720"
      ]
     },
     "execution_count": 8,
     "metadata": {},
     "output_type": "execute_result"
    }
   ],
   "source": [
    "# recursive function\n",
    "def factorial_2(N):\n",
    "    if N == 1:\n",
    "        return 1\n",
    "    else:\n",
    "        return N * factorial_2(N-1)\n",
    "\n",
    "factorial_2(6)"
   ]
  },
  {
   "cell_type": "code",
   "execution_count": 9,
   "metadata": {},
   "outputs": [
    {
     "data": {
      "text/plain": [
       "720"
      ]
     },
     "execution_count": 9,
     "metadata": {},
     "output_type": "execute_result"
    }
   ],
   "source": [
    "# inner function\n",
    "def factorial_3(N):\n",
    "    def inner_factorial(N):\n",
    "        if N <= 1:\n",
    "            return 1\n",
    "        return N*inner_factorial(N-1)\n",
    "    return inner_factorial(N)\n",
    "\n",
    "factorial_3(6)"
   ]
  },
  {
   "cell_type": "code",
   "execution_count": null,
   "metadata": {},
   "outputs": [],
   "source": []
  }
 ],
 "metadata": {
  "kernelspec": {
   "display_name": "Python 3",
   "language": "python",
   "name": "python3"
  },
  "language_info": {
   "codemirror_mode": {
    "name": "ipython",
    "version": 3
   },
   "file_extension": ".py",
   "mimetype": "text/x-python",
   "name": "python",
   "nbconvert_exporter": "python",
   "pygments_lexer": "ipython3",
   "version": "3.7.1"
  }
 },
 "nbformat": 4,
 "nbformat_minor": 2
}
