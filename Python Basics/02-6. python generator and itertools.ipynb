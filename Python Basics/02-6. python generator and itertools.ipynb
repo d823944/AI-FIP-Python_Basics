{
 "cells": [
  {
   "cell_type": "markdown",
   "metadata": {},
   "source": [
    "## Python generator and itertools"
   ]
  },
  {
   "cell_type": "code",
   "execution_count": 1,
   "metadata": {},
   "outputs": [
    {
     "name": "stdout",
     "output_type": "stream",
     "text": [
      "Press ENTER to continue...\n",
      "a\n",
      "Press ENTER to continue...\n",
      "b\n",
      "Press ENTER to continue...\n",
      "c\n",
      "Press ENTER to continue...\n",
      "d\n",
      "Press ENTER to continue...\n",
      "e\n"
     ]
    }
   ],
   "source": [
    "def get_next_element(L):\n",
    "    for item in L:\n",
    "        yield (item)\n",
    "\n",
    "L = ['a', 'b', 'c', 'd', 'e']\n",
    "gen = get_next_element(L)\n",
    "\n",
    "for i in range(len(L)):\n",
    "    unused_value = input('Press ENTER to continue...')\n",
    "    next_element = next(gen)\n",
    "    print(next_element)"
   ]
  },
  {
   "cell_type": "code",
   "execution_count": 2,
   "metadata": {},
   "outputs": [
    {
     "name": "stdout",
     "output_type": "stream",
     "text": [
      "['Diamond-9', 'Heart-6', 'Diamond-7', 'Club-K', 'Spade-10']\n",
      "['Diamond-K', 'Diamond-5', 'Club-3', 'Club-J', 'Heart-8']\n",
      "['Spade-8', 'Heart-Q', 'Spade-4', 'Spade-3', 'Spade-J']\n",
      "['Spade-A', 'Club-5', 'Diamond-8', 'Club-8', 'Diamond-4']\n",
      "['Spade-Q', 'Diamond-10', 'Diamond-6', 'Club-4', 'Club-7']\n",
      "['Heart-7', 'Heart-2', 'Spade-K', 'Spade-7', 'Club-9']\n",
      "['Heart-A', 'Diamond-J', 'Heart-J', 'Club-Q', 'Heart-4']\n",
      "['Club-6', 'Heart-3', 'Heart-K', 'Spade-6', 'Spade-2']\n",
      "['Diamond-A', 'Heart-9', 'Diamond-Q', 'Spade-9', 'Heart-10']\n",
      "['Diamond-3', 'Club-A', 'Club-2', 'Spade-5', 'Heart-5']\n"
     ]
    }
   ],
   "source": [
    "# 撲克牌發牌器\n",
    "def poker():\n",
    "    import numpy as np\n",
    "    ranks = ['Spade-', 'Heart-', 'Diamond-', 'Club-']\n",
    "    num = ['A', '2', '3', '4', '5', '6', '7', '8', '9', '10', 'J', 'Q', 'K']\n",
    "    cards = np.arange(52)\n",
    "    np.random.shuffle(cards)\n",
    "    for card in cards:\n",
    "        yield ranks[card % 4] + num[card // 4]\n",
    "    \n",
    "card_gen = poker()\n",
    "for iter in range(10):\n",
    "    print([next(card_gen) for i in range(5)])\n"
   ]
  },
  {
   "cell_type": "code",
   "execution_count": 3,
   "metadata": {},
   "outputs": [
    {
     "data": {
      "text/plain": [
       "50"
      ]
     },
     "execution_count": 3,
     "metadata": {},
     "output_type": "execute_result"
    }
   ],
   "source": [
    "memory = []\n",
    "card_gen = poker()\n",
    "for iter in range(10):\n",
    "    for i in range(5):\n",
    "        memory.append(next(card_gen))\n",
    "        \n",
    "len(set(memory))"
   ]
  },
  {
   "cell_type": "code",
   "execution_count": 4,
   "metadata": {},
   "outputs": [
    {
     "name": "stdout",
     "output_type": "stream",
     "text": [
      "1\n",
      "2\n",
      "a\n",
      "b\n"
     ]
    }
   ],
   "source": [
    "import itertools\n",
    "\n",
    "for item in itertools.chain([1, 2], ['a', 'b']):\n",
    "    print(item)"
   ]
  },
  {
   "cell_type": "code",
   "execution_count": 5,
   "metadata": {},
   "outputs": [
    {
     "name": "stdout",
     "output_type": "stream",
     "text": [
      "1\n",
      "3\n",
      "6\n",
      "10\n",
      "15\n"
     ]
    }
   ],
   "source": [
    "import itertools\n",
    "\n",
    "# itertools.accumulate(): 預設為加計總和\n",
    "for item in itertools.accumulate([1, 2, 3, 4, 5]):\n",
    "    print(item)"
   ]
  },
  {
   "cell_type": "code",
   "execution_count": 6,
   "metadata": {},
   "outputs": [
    {
     "name": "stdout",
     "output_type": "stream",
     "text": [
      "1\n",
      "2\n",
      "6\n",
      "24\n",
      "120\n"
     ]
    }
   ],
   "source": [
    "import itertools\n",
    "\n",
    "def multiply(a, b):\n",
    "    return a * b\n",
    "\n",
    "# itertools.accumulate(): 改為聚積自訂的函式\n",
    "for item in itertools.accumulate([1, 2, 3, 4, 5], multiply):\n",
    "    print(item)"
   ]
  },
  {
   "cell_type": "code",
   "execution_count": 7,
   "metadata": {},
   "outputs": [
    {
     "name": "stdout",
     "output_type": "stream",
     "text": [
      "1\n",
      "-2\n",
      "3\n",
      "-4\n",
      "5\n",
      "1a\n",
      "2b\n",
      "3a\n",
      "4b\n",
      "5a\n"
     ]
    }
   ],
   "source": [
    "import itertools\n",
    "\n",
    "c = itertools.cycle((1, -1))\n",
    "\n",
    "for i in [1, 2, 3, 4, 5]:\n",
    "        print(i * next(c))\n",
    "    \n",
    "c = itertools.cycle(('a', 'b'))\n",
    "for i in [1, 2, 3, 4, 5]:\n",
    "        print(str(i) + next(c))"
   ]
  },
  {
   "cell_type": "code",
   "execution_count": null,
   "metadata": {},
   "outputs": [],
   "source": []
  }
 ],
 "metadata": {
  "kernelspec": {
   "display_name": "Python 3",
   "language": "python",
   "name": "python3"
  },
  "language_info": {
   "codemirror_mode": {
    "name": "ipython",
    "version": 3
   },
   "file_extension": ".py",
   "mimetype": "text/x-python",
   "name": "python",
   "nbconvert_exporter": "python",
   "pygments_lexer": "ipython3",
   "version": "3.7.1"
  }
 },
 "nbformat": 4,
 "nbformat_minor": 2
}
