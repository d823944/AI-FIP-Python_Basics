{
 "cells": [
  {
   "cell_type": "markdown",
   "metadata": {},
   "source": [
    "## Python class"
   ]
  },
  {
   "cell_type": "code",
   "execution_count": 1,
   "metadata": {},
   "outputs": [],
   "source": [
    "class Fraction:\n",
    "    def __init__(self, top, bottom):\n",
    "        self.numerator = top\n",
    "        self.denominator = bottom\n",
    "        \n",
    "    def show(self):\n",
    "        print('%d/%d' % (self.numerator, self.denominator))"
   ]
  },
  {
   "cell_type": "code",
   "execution_count": 2,
   "metadata": {},
   "outputs": [
    {
     "name": "stdout",
     "output_type": "stream",
     "text": [
      "3/5\n",
      "<__main__.Fraction object at 0x10872c9b0>\n"
     ]
    }
   ],
   "source": [
    "my_f = Fraction(3, 5)\n",
    "my_f.show()\n",
    "print(my_f)"
   ]
  },
  {
   "cell_type": "code",
   "execution_count": 3,
   "metadata": {},
   "outputs": [],
   "source": [
    "class Fraction:\n",
    "    def __init__(self, top, bottom):\n",
    "        self.numerator = top\n",
    "        self.denominator = bottom\n",
    "    \n",
    "    def __str__(self):\n",
    "        return str(self.numerator) + \"/\" + str(self.denominator)"
   ]
  },
  {
   "cell_type": "code",
   "execution_count": 4,
   "metadata": {},
   "outputs": [
    {
     "name": "stdout",
     "output_type": "stream",
     "text": [
      "3/5\n",
      "I ate 2/3 of the pizza\n"
     ]
    }
   ],
   "source": [
    "my_f = Fraction(3, 5)\n",
    "print(my_f)\n",
    "print(\"I ate\", Fraction(2, 3), \"of the pizza\")"
   ]
  },
  {
   "cell_type": "code",
   "execution_count": 5,
   "metadata": {},
   "outputs": [],
   "source": [
    "class Fraction:\n",
    "    def __init__(self, top, bottom):\n",
    "        self.num = top\n",
    "        self.den = bottom\n",
    "    \n",
    "    def __str__(self):\n",
    "        return str(self.num) + \"/\" + str(self.den)\n",
    "\n",
    "    def __add__(self, other_fraction):\n",
    "        new_num = self.num * other_fraction.den + self.den * other_fraction.num\n",
    "        new_den = self.den * other_fraction.den\n",
    "        common = gcd(new_num, new_den)\n",
    "        return Fraction(new_num // common, new_den // common)"
   ]
  },
  {
   "cell_type": "code",
   "execution_count": 6,
   "metadata": {},
   "outputs": [],
   "source": [
    "def gcd(m, n):\n",
    "    \"\"\"Greatest Common Divisor\n",
    "    \"\"\"\n",
    "    while m % n != 0:\n",
    "        old_m = m\n",
    "        old_n = n\n",
    "        m = old_n\n",
    "        n = old_m % old_n\n",
    "    return n"
   ]
  },
  {
   "cell_type": "code",
   "execution_count": 7,
   "metadata": {},
   "outputs": [
    {
     "name": "stdout",
     "output_type": "stream",
     "text": [
      "1/1\n"
     ]
    }
   ],
   "source": [
    "f1 = Fraction(2, 4)\n",
    "f2 = Fraction(1, 2)\n",
    "f3 = f1 + f2\n",
    "print(f3)"
   ]
  },
  {
   "cell_type": "code",
   "execution_count": 8,
   "metadata": {},
   "outputs": [
    {
     "data": {
      "text/plain": [
       "False"
      ]
     },
     "execution_count": 8,
     "metadata": {},
     "output_type": "execute_result"
    }
   ],
   "source": [
    "f1 = Fraction(1, 4)\n",
    "f2 = Fraction(1, 4)\n",
    "f1 == f2"
   ]
  },
  {
   "cell_type": "code",
   "execution_count": 9,
   "metadata": {},
   "outputs": [],
   "source": [
    "class Fraction:\n",
    "    def __init__(self, top, bottom):\n",
    "        self.num = top\n",
    "        self.den = bottom\n",
    "    \n",
    "    def __str__(self):\n",
    "        return str(self.num) + \"/\" + str(self.den)\n",
    "\n",
    "    def __add__(self, other_fraction):\n",
    "        new_num = self.num * other_fraction.den + self.den * other_fraction.num\n",
    "        new_den = self.den * other_fraction.den\n",
    "        common = gcd(new_num, new_den)\n",
    "        return Fraction(new_num // common, new_den // common)\n",
    "\n",
    "    def __eq__(self, other):\n",
    "        first_num = self.num * other.den\n",
    "        second_num = other.num * self.den\n",
    "        return first_num == second_num"
   ]
  },
  {
   "cell_type": "code",
   "execution_count": 10,
   "metadata": {},
   "outputs": [
    {
     "data": {
      "text/plain": [
       "True"
      ]
     },
     "execution_count": 10,
     "metadata": {},
     "output_type": "execute_result"
    }
   ],
   "source": [
    "f1 = Fraction(1, 4)\n",
    "f2 = Fraction(1, 4)\n",
    "f1 == f2"
   ]
  },
  {
   "cell_type": "code",
   "execution_count": null,
   "metadata": {},
   "outputs": [],
   "source": []
  }
 ],
 "metadata": {
  "kernelspec": {
   "display_name": "Python 3",
   "language": "python",
   "name": "python3"
  },
  "language_info": {
   "codemirror_mode": {
    "name": "ipython",
    "version": 3
   },
   "file_extension": ".py",
   "mimetype": "text/x-python",
   "name": "python",
   "nbconvert_exporter": "python",
   "pygments_lexer": "ipython3",
   "version": "3.7.1"
  }
 },
 "nbformat": 4,
 "nbformat_minor": 2
}
