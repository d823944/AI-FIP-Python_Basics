{
 "cells": [
  {
   "cell_type": "markdown",
   "metadata": {},
   "source": [
    "## Python lambda"
   ]
  },
  {
   "cell_type": "code",
   "execution_count": 1,
   "metadata": {},
   "outputs": [
    {
     "data": {
      "text/plain": [
       "(2, 3, 5)"
      ]
     },
     "execution_count": 1,
     "metadata": {},
     "output_type": "execute_result"
    }
   ],
   "source": [
    "f = lambda x, y: (x, y, x+y)\n",
    "f(2, 3)"
   ]
  },
  {
   "cell_type": "code",
   "execution_count": 2,
   "metadata": {},
   "outputs": [
    {
     "data": {
      "text/plain": [
       "[5, 4, 6, 3, 7, 2, 8, 1, 9]"
      ]
     },
     "execution_count": 2,
     "metadata": {},
     "output_type": "execute_result"
    }
   ],
   "source": [
    "sorted([1, 2, 3, 4, 5, 6, 7, 8, 9], key=lambda x: abs(5-x)**2)"
   ]
  },
  {
   "cell_type": "code",
   "execution_count": 3,
   "metadata": {},
   "outputs": [
    {
     "name": "stdout",
     "output_type": "stream",
     "text": [
      "f1(1, 10) = 55\n"
     ]
    }
   ],
   "source": [
    "# 1+2+3+4+ ... + N\n",
    "f1 = lambda n1, n2: sum(range(n1, n2+1))\n",
    "print('f1(1, 10) =', f1(1, 10))"
   ]
  },
  {
   "cell_type": "code",
   "execution_count": 4,
   "metadata": {},
   "outputs": [
    {
     "name": "stdout",
     "output_type": "stream",
     "text": [
      "f2(1, 5) = 120\n"
     ]
    }
   ],
   "source": [
    "# 1*2*3*4*5\n",
    "f2 = lambda n1, n2: n2 * (f2(n1, n2-1) if n2 > 1 else 1)\n",
    "print('f2(1, 5) =', f2(1, 5))"
   ]
  },
  {
   "cell_type": "code",
   "execution_count": 5,
   "metadata": {},
   "outputs": [
    {
     "name": "stdout",
     "output_type": "stream",
     "text": [
      "33\n"
     ]
    }
   ],
   "source": [
    "# 1 + 1*2 + 1*2*3 + 1*2*3*4\n",
    "f3 = lambda x: x * (f3(x-1) if x > 1 else 1)\n",
    "f4 = lambda x, y: sum(f3(i) for i in range(x, y+1))\n",
    "print(f4(1, 4))"
   ]
  },
  {
   "cell_type": "code",
   "execution_count": 6,
   "metadata": {},
   "outputs": [
    {
     "data": {
      "text/plain": [
       "\"Sort dictionary of lists by the second element in each list\\n\\ninput_dict = {\\n    'a' : [[1, 6, 8], [2, 5, 9], [54, 1, 34]],\\n    'b' : [[1, 3, 8], [2, 1, 9], [54, 2, 34]],\\n    'c' : [[1, 1, 8], [2, 9, 9], [54, 7, 34]],\\n}\\n\\noutput_dict = {\\n    'a': [[54, 1, 34], [2, 5, 9], [1, 6, 8]],\\n    'b': [[2, 1, 9], [54, 2, 34], [1, 3, 8]],\\n    'c': [[1, 1, 8], [54, 7, 34], [2, 9, 9]]\\n}\\n\""
      ]
     },
     "execution_count": 6,
     "metadata": {},
     "output_type": "execute_result"
    }
   ],
   "source": [
    "\"\"\"Sort dictionary of lists by the second element in each list\n",
    "\n",
    "input_dict = {\n",
    "    'a' : [[1, 6, 8], [2, 5, 9], [54, 1, 34]],\n",
    "    'b' : [[1, 3, 8], [2, 1, 9], [54, 2, 34]],\n",
    "    'c' : [[1, 1, 8], [2, 9, 9], [54, 7, 34]],\n",
    "}\n",
    "\n",
    "output_dict = {\n",
    "    'a': [[54, 1, 34], [2, 5, 9], [1, 6, 8]],\n",
    "    'b': [[2, 1, 9], [54, 2, 34], [1, 3, 8]],\n",
    "    'c': [[1, 1, 8], [54, 7, 34], [2, 9, 9]]\n",
    "}\n",
    "\"\"\""
   ]
  },
  {
   "cell_type": "code",
   "execution_count": 7,
   "metadata": {},
   "outputs": [
    {
     "data": {
      "text/plain": [
       "{'a': [[54, 1, 34], [2, 5, 9], [1, 6, 8]],\n",
       " 'b': [[2, 1, 9], [54, 2, 34], [1, 3, 8]],\n",
       " 'c': [[1, 1, 8], [54, 7, 34], [2, 9, 9]]}"
      ]
     },
     "execution_count": 7,
     "metadata": {},
     "output_type": "execute_result"
    }
   ],
   "source": [
    "input_dict = {\n",
    "    'a' : [[1, 6, 8], [2, 5, 9], [54, 1, 34]],\n",
    "    'b' : [[1, 3, 8], [2, 1, 9], [54, 2, 34]],\n",
    "    'c' : [[1, 1, 8], [2, 9, 9], [54, 7, 34]],\n",
    "}\n",
    "output_dict = {k: sorted(v, key=lambda x: x[1]) for k, v in input_dict.items()}\n",
    "output_dict"
   ]
  },
  {
   "cell_type": "code",
   "execution_count": null,
   "metadata": {},
   "outputs": [],
   "source": []
  }
 ],
 "metadata": {
  "kernelspec": {
   "display_name": "Python 3",
   "language": "python",
   "name": "python3"
  },
  "language_info": {
   "codemirror_mode": {
    "name": "ipython",
    "version": 3
   },
   "file_extension": ".py",
   "mimetype": "text/x-python",
   "name": "python",
   "nbconvert_exporter": "python",
   "pygments_lexer": "ipython3",
   "version": "3.7.1"
  }
 },
 "nbformat": 4,
 "nbformat_minor": 2
}
