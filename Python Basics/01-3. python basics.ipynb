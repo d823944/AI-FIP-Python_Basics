{
 "cells": [
  {
   "cell_type": "markdown",
   "metadata": {},
   "source": [
    "## Python Basics\n",
    "- list\n",
    "\n",
    "- tuple\n",
    "\n",
    "- dictionary\n",
    "\n",
    "- set\n",
    "\n",
    "- Use PythonTutor to visualize how the value of a variable is changed or is not changed\n",
    "(http://www.pythontutor.com/live.html#mode=edit)"
   ]
  },
  {
   "cell_type": "code",
   "execution_count": 1,
   "metadata": {},
   "outputs": [
    {
     "name": "stdout",
     "output_type": "stream",
     "text": [
      "empty_list_1: []\n",
      "empty_list_2: []\n"
     ]
    }
   ],
   "source": [
    "# list: iterable, mutable\n",
    "# two ways to create an empty list\n",
    "empty_list_1 = []\n",
    "empty_list_2 = list()\n",
    "print('empty_list_1:', empty_list_1)\n",
    "print('empty_list_2:', empty_list_2)"
   ]
  },
  {
   "cell_type": "code",
   "execution_count": 2,
   "metadata": {},
   "outputs": [
    {
     "name": "stdout",
     "output_type": "stream",
     "text": [
      "['e', 'l', 'e', 'p', 'h', 'a', 'n', 't']\n"
     ]
    }
   ],
   "source": [
    "# list() can convert a string into a list of characters\n",
    "alphabets = list('elephant')\n",
    "print(alphabets)"
   ]
  },
  {
   "cell_type": "code",
   "execution_count": 3,
   "metadata": {},
   "outputs": [
    {
     "name": "stdout",
     "output_type": "stream",
     "text": [
      "['1981', '10', '12']\n",
      "He was born on 10/12 in 1981.\n"
     ]
    }
   ],
   "source": [
    "# str.split() to split a string into sub-strings\n",
    "birthday = '1981-10-12'\n",
    "birthday = birthday.split('-')\n",
    "print(birthday)\n",
    "print(f'He was born on {birthday[1]}/{birthday[2]} in {birthday[0]}.')"
   ]
  },
  {
   "cell_type": "code",
   "execution_count": 4,
   "metadata": {},
   "outputs": [
    {
     "name": "stdout",
     "output_type": "stream",
     "text": [
      "1981-10-12\n",
      "1981/10/12\n",
      "1981-10-12\n"
     ]
    }
   ],
   "source": [
    "# str.replace(src_str, dst_str) to replace src_str with dst_str (not an inplace operation)\n",
    "birthday = '1981/10/12'\n",
    "print(birthday.replace('/', '-'))\n",
    "print(birthday)\n",
    "new_birthday = birthday.replace('/', '-')\n",
    "print(new_birthday)"
   ]
  },
  {
   "cell_type": "code",
   "execution_count": 5,
   "metadata": {},
   "outputs": [
    {
     "name": "stdout",
     "output_type": "stream",
     "text": [
      "[['Ann', 'Bob', 'Claire', 'Dan', 'Ellen'], ['pizza', 'hamburg', 'fruits', 'spaghetti', 'steak']]\n",
      "['Ann', 'Bob', 'Claire', 'Dan', 'Ellen']\n",
      "['pizza', 'hamburg', 'fruits', 'spaghetti', 'steak']\n"
     ]
    }
   ],
   "source": [
    "# a list of list -> similar to 2D-array\n",
    "names = ['Ann', 'Bob', 'Claire', 'Dan', 'Ellen']\n",
    "foods = ['pizza', 'hamburg', 'fruits', 'spaghetti', 'steak']\n",
    "list_2D = [names, foods]\n",
    "print(list_2D)\n",
    "print(list_2D[0])\n",
    "print(list_2D[1])"
   ]
  },
  {
   "cell_type": "code",
   "execution_count": 6,
   "metadata": {},
   "outputs": [
    {
     "name": "stdout",
     "output_type": "stream",
     "text": [
      "Claire\n",
      "fruits\n"
     ]
    }
   ],
   "source": [
    "print(list_2D[0][2])\n",
    "print(list_2D[1][2])"
   ]
  },
  {
   "cell_type": "code",
   "execution_count": 7,
   "metadata": {},
   "outputs": [
    {
     "name": "stdout",
     "output_type": "stream",
     "text": [
      "Ann loves pizza\n",
      "Bob loves hamburg\n",
      "Claire loves fruits\n",
      "Dan loves spaghetti\n",
      "Ellen loves steak\n"
     ]
    }
   ],
   "source": [
    "# Use index to get values in a list\n",
    "for i, name in enumerate(list_2D[0]):\n",
    "    print(name, 'loves', list_2D[1][i])"
   ]
  },
  {
   "cell_type": "code",
   "execution_count": 8,
   "metadata": {},
   "outputs": [
    {
     "name": "stdout",
     "output_type": "stream",
     "text": [
      "['Ann', 'Bob', 'Claire', 'Dan', 'Ellen', 'Frank']\n"
     ]
    }
   ],
   "source": [
    "# list.append(), add a new element to the end of a list\n",
    "names = ['Ann', 'Bob', 'Claire', 'Dan', 'Ellen']\n",
    "names.append('Frank')\n",
    "print(names)"
   ]
  },
  {
   "cell_type": "code",
   "execution_count": 9,
   "metadata": {},
   "outputs": [
    {
     "name": "stdout",
     "output_type": "stream",
     "text": [
      "['Ann', 'Bob', 'Claire', 'Dan', 'Ellen', ['Frank', 'George']]\n",
      "['Frank', 'George']\n"
     ]
    }
   ],
   "source": [
    "# This will append a list of two elements to a list\n",
    "names = ['Ann', 'Bob', 'Claire', 'Dan', 'Ellen']\n",
    "names.append(['Frank', 'George'])\n",
    "print(names)\n",
    "print(names[5])"
   ]
  },
  {
   "cell_type": "code",
   "execution_count": 10,
   "metadata": {},
   "outputs": [
    {
     "name": "stdout",
     "output_type": "stream",
     "text": [
      "['Ann', 'Bob', 'Claire', 'Dan', 'Ellen', 'Frank', 'George']\n",
      "Frank\n"
     ]
    }
   ],
   "source": [
    "# list.extend() to add multiple elements to a list\n",
    "names = ['Ann', 'Bob', 'Claire', 'Dan', 'Ellen']\n",
    "names.extend(['Frank', 'George'])\n",
    "print(names)\n",
    "print(names[5])"
   ]
  },
  {
   "cell_type": "code",
   "execution_count": 11,
   "metadata": {},
   "outputs": [
    {
     "name": "stdout",
     "output_type": "stream",
     "text": [
      "['Ann', 'Bob', 'Claire', 'Dan', 'Ellen', 'Frank', 'George']\n"
     ]
    }
   ],
   "source": [
    "# use \"+\" to easily concatenate two lists\n",
    "names = ['Ann', 'Bob', 'Claire', 'Dan', 'Ellen']\n",
    "names += ['Frank', 'George']\n",
    "print(names)"
   ]
  },
  {
   "cell_type": "code",
   "execution_count": 12,
   "metadata": {},
   "outputs": [
    {
     "name": "stdout",
     "output_type": "stream",
     "text": [
      "['Ann', 'Bob', 'Claire', 'Dan', 'Ellen']\n"
     ]
    }
   ],
   "source": [
    "# list.insert(index, element), insert a new element to the designated position in a list\n",
    "names = ['Ann', 'Bob', 'Dan', 'Ellen']\n",
    "names.insert(2, 'Claire')\n",
    "print(names)"
   ]
  },
  {
   "cell_type": "code",
   "execution_count": 13,
   "metadata": {},
   "outputs": [
    {
     "name": "stdout",
     "output_type": "stream",
     "text": [
      "['Ann', 'Bob', 'Claire', 'Dan', 'Ellen', 'Frank']\n",
      "['Ann', 'Bob', 'Dan', 'Ellen', 'Frank']\n"
     ]
    }
   ],
   "source": [
    "# list.pop() to take out the last element in a list\n",
    "names = ['Ann', 'Bob', 'Claire', 'Dan', 'Ellen', 'Frank', 'George']\n",
    "names.pop()\n",
    "print(names)\n",
    "\n",
    "# list.pop(index) to take out an element at the designated position in a list\n",
    "names.pop(2)\n",
    "print(names)"
   ]
  },
  {
   "cell_type": "code",
   "execution_count": 14,
   "metadata": {},
   "outputs": [
    {
     "name": "stdout",
     "output_type": "stream",
     "text": [
      "George\n",
      "Frank\n",
      "Ellen\n",
      "Dan\n",
      "Claire\n",
      "Bob\n",
      "Ann\n"
     ]
    }
   ],
   "source": [
    "names = ['Ann', 'Bob', 'Claire', 'Dan', 'Ellen', 'Frank', 'George']\n",
    "names_temp =names.copy()\n",
    "for i in range(len(names_temp)):\n",
    "    n = names_temp.pop()\n",
    "    print(n)"
   ]
  },
  {
   "cell_type": "code",
   "execution_count": 15,
   "metadata": {},
   "outputs": [
    {
     "name": "stdout",
     "output_type": "stream",
     "text": [
      "['Ann', 'Bob', 'Claire', 'Dan', 'Ellen', 'Frank', 'George']\n"
     ]
    }
   ],
   "source": [
    "print(names)"
   ]
  },
  {
   "cell_type": "code",
   "execution_count": 16,
   "metadata": {},
   "outputs": [
    {
     "name": "stdout",
     "output_type": "stream",
     "text": [
      "['Ann', 'Claire', 'Dan', 'Ellen', 'Frank', 'George']\n",
      "['Ann', 'Claire', 'Ellen', 'Frank', 'George']\n"
     ]
    }
   ],
   "source": [
    "# list.remove() to remove an element from a list\n",
    "names = ['Ann', 'Bob', 'Claire', 'Dan', 'Ellen', 'Frank', 'George']\n",
    "names.remove('Bob')\n",
    "print(names)\n",
    "\n",
    "# del to delete an element at the designated position in a list\n",
    "del names[2]\n",
    "print(names)"
   ]
  },
  {
   "cell_type": "code",
   "execution_count": 17,
   "metadata": {},
   "outputs": [
    {
     "name": "stdout",
     "output_type": "stream",
     "text": [
      "2\n",
      "fruits\n"
     ]
    }
   ],
   "source": [
    "# list.index(element), get the index of an element in a list\n",
    "names = ['Ann', 'Bob', 'Claire', 'Dan', 'Ellen', 'Frank', 'George']\n",
    "\n",
    "name_to_find = 'Claire'\n",
    "if name_to_find in names:\n",
    "    user_index = names.index(name_to_find)\n",
    "    print(user_index)\n",
    "else:\n",
    "    print('name not found')\n",
    "    \n",
    "print(foods[user_index])"
   ]
  },
  {
   "cell_type": "code",
   "execution_count": 18,
   "metadata": {},
   "outputs": [
    {
     "name": "stdout",
     "output_type": "stream",
     "text": [
      "Ann is in the name list: True\n",
      "Claire is not in the name list: False\n"
     ]
    }
   ],
   "source": [
    "# \"in\" to check whether an element is in a list, return True or False\n",
    "print('Ann is in the name list:', 'Ann' in names)\n",
    "\n",
    "# \"not in\" to check whether an element is not in a list, return True or False\n",
    "print('Claire is not in the name list:', 'Claire' not in names)"
   ]
  },
  {
   "cell_type": "code",
   "execution_count": 19,
   "metadata": {},
   "outputs": [
    {
     "name": "stdout",
     "output_type": "stream",
     "text": [
      "There are 3 Ann in the name list.\n"
     ]
    }
   ],
   "source": [
    "# list.count() to count how many elements are contained in a list\n",
    "names = ['Ann', 'Bob', 'Claire', 'Ann', 'Frank', 'Ann']\n",
    "print('There are', names.count('Ann'), 'Ann in the name list.')"
   ]
  },
  {
   "cell_type": "code",
   "execution_count": 20,
   "metadata": {},
   "outputs": [
    {
     "name": "stdout",
     "output_type": "stream",
     "text": [
      "We have Ann, Bob, Claire, Ellen, Frank, George in the team.\n"
     ]
    }
   ],
   "source": [
    "# 'string'.join(list) to join all elements in a list, separated by the designated string\n",
    "names = ['Ann', 'Bob', 'Claire', 'Ellen', 'Frank', 'George']\n",
    "joint_names = ', '.join(names)\n",
    "print('We have', joint_names, 'in the team.')"
   ]
  },
  {
   "cell_type": "code",
   "execution_count": 21,
   "metadata": {},
   "outputs": [
    {
     "name": "stdout",
     "output_type": "stream",
     "text": [
      "[1, 1, 2, 5, 6, 9, 9]\n"
     ]
    }
   ],
   "source": [
    "# list.sort() to sort values in a list (default: ascending), \"inplace\" operation\n",
    "numbers = [5, 1, 9, 1, 9, 2, 6]\n",
    "numbers.sort()\n",
    "print(numbers)"
   ]
  },
  {
   "cell_type": "code",
   "execution_count": 22,
   "metadata": {},
   "outputs": [
    {
     "name": "stdout",
     "output_type": "stream",
     "text": [
      "[9, 9, 6, 5, 2, 1, 1]\n"
     ]
    }
   ],
   "source": [
    "# list.sort() to sort values in a list (\"reverse\" to change the order into descending)\n",
    "numbers = [5, 1, 9, 1, 9, 2, 6]\n",
    "numbers.sort(reverse=True)\n",
    "print(numbers)"
   ]
  },
  {
   "cell_type": "code",
   "execution_count": 23,
   "metadata": {},
   "outputs": [
    {
     "name": "stdout",
     "output_type": "stream",
     "text": [
      "[1, 1, 2, 5, 6, 9, 9]\n",
      "[5, 1, 9, 1, 9, 2, 6]\n"
     ]
    }
   ],
   "source": [
    "# sorted(): Python's built-in function for sorting, not an inplace operation\n",
    "num_list = [5, 1, 9, 1, 9, 2, 6]\n",
    "print(sorted(num_list))\n",
    "print(num_list)"
   ]
  },
  {
   "cell_type": "code",
   "execution_count": 24,
   "metadata": {},
   "outputs": [
    {
     "name": "stdout",
     "output_type": "stream",
     "text": [
      "[5, 1, 9, 1, 9, 2, 6]\n",
      "4449734216\n",
      "[5, 1, 9, 1, 9, 2, 6]\n",
      "4450747016\n",
      "True\n",
      "False\n"
     ]
    }
   ],
   "source": [
    "# list.copy() to duplicate a list (different id)\n",
    "numbers = [5, 1, 9, 1, 9, 2, 6]\n",
    "numbers_1 = numbers\n",
    "numbers_2 = numbers.copy()\n",
    "print(numbers_1)\n",
    "print(id(numbers_1))\n",
    "print(numbers_2)\n",
    "print(id(numbers_2))\n",
    "\n",
    "# \"==\" to check whether the values are equal\n",
    "print(numbers_1 == numbers_2)\n",
    "\n",
    "# \"is\" to check whether two objects are identical\n",
    "print(numbers_1 is numbers_2)"
   ]
  },
  {
   "cell_type": "code",
   "execution_count": 25,
   "metadata": {},
   "outputs": [
    {
     "name": "stdout",
     "output_type": "stream",
     "text": [
      "[5, 1, 9, 1, 9, 2, 6]\n",
      "[5, 1, 9, 1, 9, 2, 6]\n",
      "[0, 1, 9, 1, 9, 2, 6]\n"
     ]
    }
   ],
   "source": [
    "# Be careful not to accidentally change values of a list unless you want to do it\n",
    "numbers_2[0] = 0\n",
    "print(numbers)\n",
    "print(numbers_1)\n",
    "print(numbers_2)"
   ]
  },
  {
   "cell_type": "code",
   "execution_count": 26,
   "metadata": {},
   "outputs": [
    {
     "name": "stdout",
     "output_type": "stream",
     "text": [
      "[7, 1, 9, 1, 9, 2, 6]\n",
      "[7, 1, 9, 1, 9, 2, 6]\n",
      "[0, 1, 9, 1, 9, 2, 6]\n"
     ]
    }
   ],
   "source": [
    "# Be careful not to accidentally change values of a list unless you want to do it\n",
    "numbers_1[0] = 7\n",
    "print(numbers)\n",
    "print(numbers_1)\n",
    "print(numbers_2)"
   ]
  },
  {
   "cell_type": "code",
   "execution_count": 27,
   "metadata": {},
   "outputs": [
    {
     "name": "stdout",
     "output_type": "stream",
     "text": [
      "True\n",
      "4449206984\n",
      "4449207560\n",
      "4449207752\n",
      "4450749768\n"
     ]
    }
   ],
   "source": [
    "# Three ways to duplicate a list\n",
    "numbers = [5, 1, 9, 1, 9, 2, 6]\n",
    "numbers_1 = num_list.copy()\n",
    "numbers_2 = num_list[:]\n",
    "numbers_3 = list(num_list)\n",
    "print(numbers == numbers_1 == numbers_2 == numbers_3)\n",
    "print(id(numbers))\n",
    "print(id(numbers_1))\n",
    "print(id(numbers_2))\n",
    "print(id(numbers_3))"
   ]
  },
  {
   "cell_type": "code",
   "execution_count": 28,
   "metadata": {},
   "outputs": [
    {
     "name": "stdout",
     "output_type": "stream",
     "text": [
      "('apple', 'blueberry', 'cherry')\n"
     ]
    }
   ],
   "source": [
    "# tuple: immutable (elements separated by \",\")\n",
    "fruit_tp = 'apple', 'blueberry', 'cherry'\n",
    "print(fruit_tp)"
   ]
  },
  {
   "cell_type": "code",
   "execution_count": 29,
   "metadata": {},
   "outputs": [
    {
     "name": "stdout",
     "output_type": "stream",
     "text": [
      "('apple', 'blueberry', 'cherry')\n"
     ]
    }
   ],
   "source": [
    "# tuple\n",
    "fruit_tp = ('apple', 'blueberry', 'cherry')  # easier to read with ()\n",
    "print(fruit_tp)"
   ]
  },
  {
   "cell_type": "code",
   "execution_count": 30,
   "metadata": {},
   "outputs": [
    {
     "name": "stdout",
     "output_type": "stream",
     "text": [
      "apple\n",
      "blueberry\n",
      "cherry\n"
     ]
    }
   ],
   "source": [
    "# tuple unpacking\n",
    "x, y, z = fruit_tp\n",
    "print(x)\n",
    "print(y)\n",
    "print(z)"
   ]
  },
  {
   "cell_type": "code",
   "execution_count": 31,
   "metadata": {},
   "outputs": [
    {
     "name": "stdout",
     "output_type": "stream",
     "text": [
      "('apple', 'blueberry', 'cherry')\n",
      "('apple', 'blueberry')\n",
      "cherry\n"
     ]
    }
   ],
   "source": [
    "# tuple supports indexing\n",
    "print(fruit_tp[:])\n",
    "print(fruit_tp[:2])\n",
    "print(fruit_tp[2])"
   ]
  },
  {
   "cell_type": "code",
   "execution_count": 32,
   "metadata": {},
   "outputs": [
    {
     "ename": "TypeError",
     "evalue": "'tuple' object does not support item assignment",
     "output_type": "error",
     "traceback": [
      "\u001b[0;31m---------------------------------------------------------------------------\u001b[0m",
      "\u001b[0;31mTypeError\u001b[0m                                 Traceback (most recent call last)",
      "\u001b[0;32m<ipython-input-32-7041c82352c3>\u001b[0m in \u001b[0;36m<module>\u001b[0;34m\u001b[0m\n\u001b[1;32m      1\u001b[0m \u001b[0;31m# tuple is immutable\u001b[0m\u001b[0;34m\u001b[0m\u001b[0;34m\u001b[0m\u001b[0;34m\u001b[0m\u001b[0m\n\u001b[0;32m----> 2\u001b[0;31m \u001b[0mfruit_tp\u001b[0m\u001b[0;34m[\u001b[0m\u001b[0;36m1\u001b[0m\u001b[0;34m]\u001b[0m \u001b[0;34m=\u001b[0m \u001b[0;34m'berries'\u001b[0m\u001b[0;34m\u001b[0m\u001b[0;34m\u001b[0m\u001b[0m\n\u001b[0m",
      "\u001b[0;31mTypeError\u001b[0m: 'tuple' object does not support item assignment"
     ]
    }
   ],
   "source": [
    "# tuple is immutable\n",
    "fruit_tp[1] = 'berries'"
   ]
  },
  {
   "cell_type": "code",
   "execution_count": 33,
   "metadata": {},
   "outputs": [
    {
     "name": "stdout",
     "output_type": "stream",
     "text": [
      "{'Ann': 'pizza', 'Bob': 'hamburg', 'Claire': 'fruits', 'Dan': 'steak'}\n"
     ]
    }
   ],
   "source": [
    "# zip() & dict()\n",
    "names = ['Ann', 'Bob', 'Claire', 'Dan']\n",
    "foods = ['pizza', 'hamburg', 'fruits', 'steak']\n",
    "food_preference = dict(zip(names, foods))\n",
    "print(food_preference)"
   ]
  },
  {
   "cell_type": "code",
   "execution_count": 34,
   "metadata": {},
   "outputs": [
    {
     "name": "stdout",
     "output_type": "stream",
     "text": [
      "dict_keys(['Ann', 'Bob', 'Claire', 'Dan'])\n",
      "dict_values(['pizza', 'hamburg', 'fruits', 'steak'])\n",
      "dict_items([('Ann', 'pizza'), ('Bob', 'hamburg'), ('Claire', 'fruits'), ('Dan', 'steak')])\n",
      "pizza\n"
     ]
    }
   ],
   "source": [
    "# key-value pairs in dict\n",
    "print(food_preference.keys())\n",
    "print(food_preference.values())\n",
    "print(food_preference.items())\n",
    "\n",
    "# dict uses key (unique) to retrieve value\n",
    "print(food_preference['Ann'])"
   ]
  },
  {
   "cell_type": "code",
   "execution_count": 35,
   "metadata": {},
   "outputs": [
    {
     "name": "stdout",
     "output_type": "stream",
     "text": [
      "Ann loves pizza\n",
      "Bob loves hamburg\n",
      "Claire loves fruits\n",
      "Dan loves steak\n"
     ]
    }
   ],
   "source": [
    "for name, food in food_preference.items():\n",
    "    print(name, 'loves', food)"
   ]
  },
  {
   "cell_type": "code",
   "execution_count": 36,
   "metadata": {},
   "outputs": [
    {
     "name": "stdout",
     "output_type": "stream",
     "text": [
      "{'Bob': 'hamburg', 'Claire': 'fruits', 'Dan': 'steak'}\n"
     ]
    }
   ],
   "source": [
    "# del a key-value pair in dict\n",
    "del food_preference['Ann']\n",
    "print(food_preference)"
   ]
  },
  {
   "cell_type": "code",
   "execution_count": 37,
   "metadata": {},
   "outputs": [
    {
     "name": "stdout",
     "output_type": "stream",
     "text": [
      "{}\n"
     ]
    }
   ],
   "source": [
    "# clear the whole dit\n",
    "food_preference.clear()\n",
    "print(food_preference)"
   ]
  },
  {
   "cell_type": "code",
   "execution_count": 38,
   "metadata": {},
   "outputs": [
    {
     "name": "stdout",
     "output_type": "stream",
     "text": [
      "Ann is in dictionary: True\n",
      "Ann is not in dictionary: False\n"
     ]
    }
   ],
   "source": [
    "# \"in\" and \"not in\" to check whether a key exists or not exists in a dict\n",
    "food_preference = {'Ann': 'pizza', 'Bob': 'hamburg', 'Claire': 'fruits', 'Dan': 'steak'}\n",
    "print('Ann is in dictionary:', 'Ann' in food_preference)\n",
    "print('Ann is not in dictionary:', 'Ann' not in food_preference)"
   ]
  },
  {
   "cell_type": "code",
   "execution_count": 39,
   "metadata": {},
   "outputs": [
    {
     "ename": "KeyError",
     "evalue": "'Amy'",
     "output_type": "error",
     "traceback": [
      "\u001b[0;31m---------------------------------------------------------------------------\u001b[0m",
      "\u001b[0;31mKeyError\u001b[0m                                  Traceback (most recent call last)",
      "\u001b[0;32m<ipython-input-39-3f07f966fec7>\u001b[0m in \u001b[0;36m<module>\u001b[0;34m\u001b[0m\n\u001b[0;32m----> 1\u001b[0;31m \u001b[0mprint\u001b[0m\u001b[0;34m(\u001b[0m\u001b[0mfood_preference\u001b[0m\u001b[0;34m[\u001b[0m\u001b[0;34m'Amy'\u001b[0m\u001b[0;34m]\u001b[0m\u001b[0;34m)\u001b[0m\u001b[0;34m\u001b[0m\u001b[0;34m\u001b[0m\u001b[0m\n\u001b[0m",
      "\u001b[0;31mKeyError\u001b[0m: 'Amy'"
     ]
    }
   ],
   "source": [
    "print(food_preference['Amy'])"
   ]
  },
  {
   "cell_type": "code",
   "execution_count": 40,
   "metadata": {},
   "outputs": [
    {
     "name": "stdout",
     "output_type": "stream",
     "text": [
      "pizza\n",
      "not found\n"
     ]
    }
   ],
   "source": [
    "# dict.get(key, default value)\n",
    "print(food_preference.get('Ann', 'not found'))\n",
    "print(food_preference.get('Amy', 'not found'))"
   ]
  },
  {
   "cell_type": "code",
   "execution_count": 41,
   "metadata": {},
   "outputs": [
    {
     "name": "stdout",
     "output_type": "stream",
     "text": [
      "<class 'set'>\n",
      "<class 'dict'>\n"
     ]
    }
   ],
   "source": [
    "# set() to create an empty set (無序、元素不重複的集合)\n",
    "empty_set = set()\n",
    "print(type(set()))\n",
    "print(type({}))"
   ]
  },
  {
   "cell_type": "code",
   "execution_count": 42,
   "metadata": {},
   "outputs": [
    {
     "name": "stdout",
     "output_type": "stream",
     "text": [
      "{1, 2, 5, 6, 9}\n"
     ]
    }
   ],
   "source": [
    "# set(iterabale object) to collect unique elements\n",
    "numbers = [5, 1, 9, 1, 9, 2, 6]\n",
    "print(set(numbers))"
   ]
  },
  {
   "cell_type": "code",
   "execution_count": 43,
   "metadata": {},
   "outputs": [
    {
     "ename": "TypeError",
     "evalue": "'set' object does not support indexing",
     "output_type": "error",
     "traceback": [
      "\u001b[0;31m---------------------------------------------------------------------------\u001b[0m",
      "\u001b[0;31mTypeError\u001b[0m                                 Traceback (most recent call last)",
      "\u001b[0;32m<ipython-input-43-32c686436642>\u001b[0m in \u001b[0;36m<module>\u001b[0;34m\u001b[0m\n\u001b[1;32m      1\u001b[0m \u001b[0mset1\u001b[0m \u001b[0;34m=\u001b[0m \u001b[0mset\u001b[0m\u001b[0;34m(\u001b[0m\u001b[0mnumbers\u001b[0m\u001b[0;34m)\u001b[0m\u001b[0;34m\u001b[0m\u001b[0;34m\u001b[0m\u001b[0m\n\u001b[0;32m----> 2\u001b[0;31m \u001b[0mprint\u001b[0m\u001b[0;34m(\u001b[0m\u001b[0mset1\u001b[0m\u001b[0;34m[\u001b[0m\u001b[0;36m0\u001b[0m\u001b[0;34m]\u001b[0m\u001b[0;34m)\u001b[0m\u001b[0;34m\u001b[0m\u001b[0;34m\u001b[0m\u001b[0m\n\u001b[0m",
      "\u001b[0;31mTypeError\u001b[0m: 'set' object does not support indexing"
     ]
    }
   ],
   "source": [
    "set1 = set(numbers)\n",
    "print(set1[0])"
   ]
  },
  {
   "cell_type": "code",
   "execution_count": 44,
   "metadata": {},
   "outputs": [
    {
     "name": "stdout",
     "output_type": "stream",
     "text": [
      "input 4 different digits: 1234\n",
      "OK\n"
     ]
    }
   ],
   "source": [
    "while True:\n",
    "    input_str = input('input 4 different digits: ')\n",
    "    answer = list(input_str)\n",
    "    if len(set(answer)) == 4:\n",
    "        print('OK')\n",
    "        break\n",
    "    else:\n",
    "        print('NG')\n",
    "        "
   ]
  },
  {
   "cell_type": "code",
   "execution_count": 45,
   "metadata": {},
   "outputs": [
    {
     "name": "stdout",
     "output_type": "stream",
     "text": [
      "{1, 2, 3, 4, 5}\n",
      "{4, 5, 6, 7, 8}\n"
     ]
    }
   ],
   "source": [
    "numbers_1 = set([1, 2, 3, 4, 5, 5, 5])\n",
    "numbers_2 = set([4, 5, 6, 7, 8, 8, 8])\n",
    "print(numbers_1)\n",
    "print(numbers_2)"
   ]
  },
  {
   "cell_type": "code",
   "execution_count": 46,
   "metadata": {},
   "outputs": [
    {
     "name": "stdout",
     "output_type": "stream",
     "text": [
      "{4, 5}\n",
      "{1, 2, 3, 4, 5, 6, 7, 8}\n",
      "{1, 2, 3}\n",
      "{1, 2, 3, 6, 7, 8}\n"
     ]
    }
   ],
   "source": [
    "# set operations\n",
    "print(numbers_1.intersection(numbers_2))\n",
    "print(numbers_1.union(numbers_2))\n",
    "print(numbers_1.difference(numbers_2))\n",
    "print(numbers_1.symmetric_difference(numbers_2))"
   ]
  },
  {
   "cell_type": "code",
   "execution_count": 47,
   "metadata": {},
   "outputs": [
    {
     "name": "stdout",
     "output_type": "stream",
     "text": [
      "{4, 5}\n",
      "{1, 2, 3, 4, 5, 6, 7, 8}\n",
      "{1, 2, 3}\n",
      "{1, 2, 3, 6, 7, 8}\n"
     ]
    }
   ],
   "source": [
    "print(numbers_1 & numbers_2)\n",
    "print(numbers_1 | numbers_2)\n",
    "print(numbers_1 - numbers_2)\n",
    "print(numbers_1 ^ numbers_2)"
   ]
  },
  {
   "cell_type": "code",
   "execution_count": 48,
   "metadata": {},
   "outputs": [
    {
     "name": "stdout",
     "output_type": "stream",
     "text": [
      "True\n",
      "True\n",
      "True\n",
      "True\n"
     ]
    }
   ],
   "source": [
    "numbers_1 = set([1, 2, 2])\n",
    "numbers_2 = set([0, 1, 2, 3, 3, 4])\n",
    "print(numbers_1.issubset(numbers_2))\n",
    "print(numbers_2.issuperset(numbers_1))\n",
    "print(numbers_1 <= numbers_2)\n",
    "print(numbers_2 >= numbers_1)"
   ]
  },
  {
   "cell_type": "code",
   "execution_count": null,
   "metadata": {},
   "outputs": [],
   "source": []
  }
 ],
 "metadata": {
  "kernelspec": {
   "display_name": "Python 3",
   "language": "python",
   "name": "python3"
  },
  "language_info": {
   "codemirror_mode": {
    "name": "ipython",
    "version": 3
   },
   "file_extension": ".py",
   "mimetype": "text/x-python",
   "name": "python",
   "nbconvert_exporter": "python",
   "pygments_lexer": "ipython3",
   "version": "3.7.1"
  }
 },
 "nbformat": 4,
 "nbformat_minor": 2
}
