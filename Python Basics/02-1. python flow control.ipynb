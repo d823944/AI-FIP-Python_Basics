{
 "cells": [
  {
   "cell_type": "markdown",
   "metadata": {},
   "source": [
    "## Python flow control\n",
    "- range()\n",
    "\n",
    "- for\n",
    "\n",
    "- list comprehension\n",
    "\n",
    "- dictionary comprehension"
   ]
  },
  {
   "cell_type": "code",
   "execution_count": 1,
   "metadata": {},
   "outputs": [
    {
     "data": {
      "text/plain": [
       "range(1, 10, 2)"
      ]
     },
     "execution_count": 1,
     "metadata": {},
     "output_type": "execute_result"
    }
   ],
   "source": [
    "range(1, 10, 2)"
   ]
  },
  {
   "cell_type": "code",
   "execution_count": 2,
   "metadata": {},
   "outputs": [
    {
     "name": "stdout",
     "output_type": "stream",
     "text": [
      "1\n",
      "3\n",
      "5\n",
      "7\n",
      "9\n"
     ]
    }
   ],
   "source": [
    "for i in range(1, 10, 2):\n",
    "    print(i)"
   ]
  },
  {
   "cell_type": "code",
   "execution_count": 3,
   "metadata": {},
   "outputs": [
    {
     "name": "stdout",
     "output_type": "stream",
     "text": [
      "2 * 2 =  4\t\t2 * 3 =  6\t\t2 * 4 =  8\t\t\n",
      "3 * 2 =  6\t\t3 * 3 =  9\t\t3 * 4 = 12\t\t\n",
      "4 * 2 =  8\t\t4 * 3 = 12\t\t4 * 4 = 16\t\t\n"
     ]
    }
   ],
   "source": [
    "for i in range(2, 5):\n",
    "    for j in range(2, 5):\n",
    "        print(f'{i} * {j} = {i * j:2d}\\t\\t', end='')\n",
    "    print()"
   ]
  },
  {
   "cell_type": "code",
   "execution_count": 4,
   "metadata": {},
   "outputs": [
    {
     "name": "stdout",
     "output_type": "stream",
     "text": [
      "['c', 'a', 't', 'd', 'o', 'g', 'r', 'a', 'b', 'b', 'i', 't']\n"
     ]
    }
   ],
   "source": [
    "word_list = ['cat','dog','rabbit']\n",
    "letter_list = [ ]\n",
    "for a_word in word_list:\n",
    "    for a_letter in a_word:\n",
    "        letter_list.append(a_letter)\n",
    "print(letter_list)"
   ]
  },
  {
   "cell_type": "code",
   "execution_count": 5,
   "metadata": {},
   "outputs": [
    {
     "name": "stdout",
     "output_type": "stream",
     "text": [
      "[1, 9, 25, 49, 81]\n"
     ]
    }
   ],
   "source": [
    "sq_list = [ ]\n",
    "for x in range(1, 11, 2):\n",
    "    sq_list.append(x * x)\n",
    "\n",
    "print(sq_list)"
   ]
  },
  {
   "cell_type": "code",
   "execution_count": 6,
   "metadata": {},
   "outputs": [
    {
     "name": "stdout",
     "output_type": "stream",
     "text": [
      "[1, 9, 25, 49, 81]\n"
     ]
    }
   ],
   "source": [
    "# list comprehension\n",
    "\"\"\"comprehension syntax:\n",
    "The if after the for…in is part of list comprehensions and used to\n",
    "filter elements from the source iterable.\n",
    "\"\"\"\n",
    "sq_list = [x * x for x in range(1, 11) if x % 2 != 0]\n",
    "print(sq_list)"
   ]
  },
  {
   "cell_type": "code",
   "execution_count": 7,
   "metadata": {},
   "outputs": [
    {
     "data": {
      "text/plain": [
       "['C', 'M', 'P', 'R', 'H', 'N', 'S', 'N']"
      ]
     },
     "execution_count": 7,
     "metadata": {},
     "output_type": "execute_result"
    }
   ],
   "source": [
    "[ch.upper() for ch in 'comprehension' if ch not in 'aeiou']"
   ]
  },
  {
   "cell_type": "code",
   "execution_count": 8,
   "metadata": {},
   "outputs": [
    {
     "name": "stdout",
     "output_type": "stream",
     "text": [
      "[0, 1, 0, 9, 0, 25, 0, 49, 0, 81]\n"
     ]
    }
   ],
   "source": [
    "\"\"\"Note that this actually uses a different language construct, a conditional expression.\n",
    "Conditional expressions can be used in all kinds of situations where you want to choose\n",
    "between two expression values based on some condition. \n",
    "\"\"\"\n",
    "odd_squared = [i ** 2 if i % 2 != 0 else 0 for i in range(10)]\n",
    "print(odd_squared)"
   ]
  },
  {
   "cell_type": "code",
   "execution_count": 9,
   "metadata": {},
   "outputs": [
    {
     "name": "stdout",
     "output_type": "stream",
     "text": [
      "[0, 1, 0, 9, 0, 25, 0, 49, 0, 81]\n"
     ]
    }
   ],
   "source": [
    "odd_squared = []\n",
    "for i in range(10):\n",
    "    if i % 2 != 0:\n",
    "        odd_squared.append(i ** 2)\n",
    "    else:\n",
    "        odd_squared.append(0)\n",
    "print(odd_squared)"
   ]
  },
  {
   "cell_type": "code",
   "execution_count": 10,
   "metadata": {},
   "outputs": [
    {
     "name": "stdout",
     "output_type": "stream",
     "text": [
      "   a  b  c\n",
      "0  1  2  3\n",
      "1  4  5  6\n",
      "2  7  8  9\n",
      "[1, 2, 3, 4, 5, 6, 7, 8, 9]\n",
      "[1, 2, 3, 4, 5, 6, 7, 8, 9]\n",
      "[1, 2, 3, 4, 5, 6, 7, 8, 9]\n"
     ]
    }
   ],
   "source": [
    "# How can I traverse dataframe without nested for loop?\n",
    "import pandas as pd\n",
    "import numpy as np\n",
    "\n",
    "df = pd.DataFrame([[1, 2, 3], [4, 5, 6], [7, 8, 9]], columns=['a', 'b', 'c'])\n",
    "print(df)\n",
    "\n",
    "# 86.3 µs ± 2.01 µs -- nested for loop\n",
    "print([df.loc[row, col] for row in df.index for col in df.columns])\n",
    "\n",
    "# 9.41 µs ± 218 ns\n",
    "print([i for i in df.values.reshape((df.shape[0] * df.shape[1]))])\n",
    "\n",
    "# 6.42 µs ± 653 ns\n",
    "print([i for i in df.values.ravel()])"
   ]
  },
  {
   "cell_type": "code",
   "execution_count": 11,
   "metadata": {},
   "outputs": [],
   "source": [
    "# 910 µs ± 27.7 µs \n",
    "def test1():\n",
    "    l = []\n",
    "    for i in range(1000):\n",
    "        l = l + [i]\n",
    "\n",
    "# 67.8 µs ± 813 ns\n",
    "def test2():\n",
    "    l = []\n",
    "    for i in range(1000):\n",
    "        l.append(i)\n",
    "\n",
    "# 28.4 µs ± 739 ns\n",
    "def test3():\n",
    "    l = [i for i in range(1000)]\n",
    "\n",
    "# 11.9 µs ± 289 ns\n",
    "def test4():\n",
    "    l = list(range(1000))\n",
    "    \n",
    "#%timeit test1()\n",
    "#%timeit test2()\n",
    "#%timeit test3()\n",
    "#%timeit test4()"
   ]
  },
  {
   "cell_type": "code",
   "execution_count": 12,
   "metadata": {},
   "outputs": [
    {
     "name": "stdout",
     "output_type": "stream",
     "text": [
      "# 1 : Spade-2\n",
      "# 2 : Spade-3\n",
      "# 3 : Spade-4\n",
      "# 4 : Spade-5\n",
      "# 5 : Spade-6\n",
      "# 6 : Spade-7\n",
      "# 7 : Spade-8\n",
      "# 8 : Spade-9\n",
      "# 9 : Spade-10\n",
      "#10 : Spade-J\n",
      "#11 : Spade-Q\n",
      "#12 : Spade-K\n",
      "#13 : Spade-A\n",
      "#14 : Heart-2\n",
      "#15 : Heart-3\n",
      "#16 : Heart-4\n",
      "#17 : Heart-5\n",
      "#18 : Heart-6\n",
      "#19 : Heart-7\n",
      "#20 : Heart-8\n",
      "#21 : Heart-9\n",
      "#22 : Heart-10\n",
      "#23 : Heart-J\n",
      "#24 : Heart-Q\n",
      "#25 : Heart-K\n",
      "#26 : Heart-A\n",
      "#27 : Diamond-2\n",
      "#28 : Diamond-3\n",
      "#29 : Diamond-4\n",
      "#30 : Diamond-5\n",
      "#31 : Diamond-6\n",
      "#32 : Diamond-7\n",
      "#33 : Diamond-8\n",
      "#34 : Diamond-9\n",
      "#35 : Diamond-10\n",
      "#36 : Diamond-J\n",
      "#37 : Diamond-Q\n",
      "#38 : Diamond-K\n",
      "#39 : Diamond-A\n",
      "#40 : Club-2\n",
      "#41 : Club-3\n",
      "#42 : Club-4\n",
      "#43 : Club-5\n",
      "#44 : Club-6\n",
      "#45 : Club-7\n",
      "#46 : Club-8\n",
      "#47 : Club-9\n",
      "#48 : Club-10\n",
      "#49 : Club-J\n",
      "#50 : Club-Q\n",
      "#51 : Club-K\n",
      "#52 : Club-A\n"
     ]
    }
   ],
   "source": [
    "ranks = ['Spade', 'Heart', 'Diamond', 'Club']\n",
    "numbers = [str(i) for i in range(2, 11)] + ['J', 'Q', 'K', 'A']\n",
    "for r, rank in enumerate(ranks):\n",
    "    for n, number in enumerate(numbers):\n",
    "        print(f'#{r * 13 + n + 1:2d} : {rank}-{number}')"
   ]
  },
  {
   "cell_type": "code",
   "execution_count": 13,
   "metadata": {},
   "outputs": [
    {
     "name": "stdout",
     "output_type": "stream",
     "text": [
      "Please enter your password (trial: 1): 1234\n",
      "Welcome!\n"
     ]
    }
   ],
   "source": [
    "authentication = '1234'\n",
    "trial = 0\n",
    "while True:\n",
    "    trial += 1\n",
    "    password = input('Please enter your password (trial: %d): ' % trial)\n",
    "    if password == authentication:\n",
    "        print('Welcome!')\n",
    "        break\n",
    "    elif trial == 3:\n",
    "        print('You have failed three times, bye~')\n",
    "        break\n",
    "    else:\n",
    "        print('Try again!')\n",
    "        continue"
   ]
  },
  {
   "cell_type": "code",
   "execution_count": 14,
   "metadata": {},
   "outputs": [
    {
     "name": "stdout",
     "output_type": "stream",
     "text": [
      "Guess what animal do we have? 22\n",
      "No, we don't have it.\n",
      "Try again!\n",
      "Guess what animal do we have? 22\n",
      "No, we don't have it.\n",
      "Try again!\n",
      "Guess what animal do we have? 22\n",
      "No, we don't have it.\n",
      "Try again!\n",
      "Oops, you have bad luck.\n"
     ]
    }
   ],
   "source": [
    "animals = ['rabbit', 'cat', 'dog']\n",
    "for i in range(3):\n",
    "    guess = input('Guess what animal do we have? ')\n",
    "    if guess in animals:\n",
    "        print('Yes,', guess, 'is in our zoo.')\n",
    "        break\n",
    "    else:\n",
    "        print(\"No, we don't have it.\")\n",
    "        print('Try again!')\n",
    "else:\n",
    "    print('Oops, you have bad luck.')\n",
    "    "
   ]
  },
  {
   "cell_type": "code",
   "execution_count": 15,
   "metadata": {},
   "outputs": [
    {
     "name": "stdout",
     "output_type": "stream",
     "text": [
      "Ann speaks Chinese well.\n",
      "Bob speaks English well.\n",
      "Claire speaks Japanese well.\n",
      "Ellen speaks Korean well.\n",
      "Frank speaks Spanish well.\n",
      "George speaks French well.\n"
     ]
    }
   ],
   "source": [
    "names = ['Ann', 'Bob', 'Claire', 'Ellen', 'Frank', 'George']\n",
    "languages = ['Chinese', 'English', 'Japanese', 'Korean', 'Spanish', 'French']\n",
    "dict_lang = dict(zip(names, languages))\n",
    "\n",
    "for k, v in dict_lang.items():\n",
    "    print(k, 'speaks', v, 'well.')"
   ]
  },
  {
   "cell_type": "code",
   "execution_count": 16,
   "metadata": {},
   "outputs": [
    {
     "name": "stdout",
     "output_type": "stream",
     "text": [
      "Ann has 2 unique alphabets in his/her name.\n",
      "Bob has 3 unique alphabets in his/her name.\n",
      "Claire has 6 unique alphabets in his/her name.\n",
      "Ellen has 4 unique alphabets in his/her name.\n",
      "Frank has 5 unique alphabets in his/her name.\n",
      "George has 5 unique alphabets in his/her name.\n"
     ]
    }
   ],
   "source": [
    "names = ['Ann', 'Bob', 'Claire', 'Ellen', 'Frank', 'George']\n",
    "char_in_names = {name: len(set(list(name))) for name in names}\n",
    "\n",
    "for name in char_in_names.keys():\n",
    "    print(name, 'has', char_in_names[name], 'unique alphabets in his/her name.')"
   ]
  },
  {
   "cell_type": "code",
   "execution_count": null,
   "metadata": {},
   "outputs": [],
   "source": []
  }
 ],
 "metadata": {
  "kernelspec": {
   "display_name": "Python 3",
   "language": "python",
   "name": "python3"
  },
  "language_info": {
   "codemirror_mode": {
    "name": "ipython",
    "version": 3
   },
   "file_extension": ".py",
   "mimetype": "text/x-python",
   "name": "python",
   "nbconvert_exporter": "python",
   "pygments_lexer": "ipython3",
   "version": "3.7.1"
  }
 },
 "nbformat": 4,
 "nbformat_minor": 2
}
