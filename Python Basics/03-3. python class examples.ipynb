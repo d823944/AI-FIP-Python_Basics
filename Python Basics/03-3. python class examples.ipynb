{
 "cells": [
  {
   "cell_type": "markdown",
   "metadata": {},
   "source": [
    "## Python class\n",
    "- positional arguments\n",
    "\n",
    "- optional arguments (pay attention to the unintentional change in optional arguments)\n",
    "\n",
    "- keyword arguments\n",
    "\n",
    "- Use PythonTutor to visualize the difference\n",
    "(http://www.pythontutor.com/live.html#mode=edit)"
   ]
  },
  {
   "cell_type": "code",
   "execution_count": 1,
   "metadata": {},
   "outputs": [
    {
     "name": "stdout",
     "output_type": "stream",
     "text": [
      "on bus1 (A/B/C): ['A', 'B', 'C']\n",
      "on bus1 (A/B/C/D): ['A', 'B', 'C', 'D']\n",
      "on bus1 (B/C/D): ['B', 'C', 'D']\n",
      "on bus2 (): []\n",
      "on bus2 (E): ['E']\n",
      "on bus3 (): ['E']\n",
      "on bus3 (F): ['E', 'F']\n",
      "on bus2 (E): ['E', 'F']\n"
     ]
    }
   ],
   "source": [
    "class HauntedBus:\n",
    "    def __init__(self, passengers=[]):\n",
    "        self.passengers = passengers\n",
    "    def pick(self, name):\n",
    "        self.passengers.append(name)\n",
    "    def drop(self, name):\n",
    "        self.passengers.remove(name)\n",
    "        \n",
    "bus1 = HauntedBus(['A', 'B', 'C'])\n",
    "print(f'on bus1 (A/B/C): {bus1.passengers}')\n",
    "bus1.pick('D')\n",
    "print(f'on bus1 (A/B/C/D): {bus1.passengers}')\n",
    "bus1.drop('A')\n",
    "print(f'on bus1 (B/C/D): {bus1.passengers}')\n",
    "bus2 = HauntedBus()\n",
    "print(f'on bus2 (): {bus2.passengers}')\n",
    "bus2. pick('E')\n",
    "print(f'on bus2 (E): {bus2.passengers}')\n",
    "bus3 = HauntedBus()\n",
    "print(f'on bus3 (): {bus3.passengers}')\n",
    "bus3. pick('F')\n",
    "print(f'on bus3 (F): {bus3.passengers}')\n",
    "print(f'on bus2 (E): {bus2.passengers}')"
   ]
  },
  {
   "cell_type": "code",
   "execution_count": 2,
   "metadata": {},
   "outputs": [
    {
     "name": "stdout",
     "output_type": "stream",
     "text": [
      "on bus1 (A/B/C): ['A', 'B', 'C']\n",
      "on bus1 (A/B/C/D): ['A', 'B', 'C', 'D']\n",
      "on bus1 (B/C/D): ['B', 'C', 'D']\n",
      "on bus2 (): []\n",
      "on bus2 (E): ['E']\n",
      "on bus3 (): []\n",
      "on bus3 (F): ['F']\n",
      "on bus2 (E): ['E']\n"
     ]
    }
   ],
   "source": [
    "class TwilightBus:\n",
    "    def __init__(self, passengers=None):\n",
    "        if passengers is None:\n",
    "            self.passengers = []\n",
    "        else:\n",
    "            self.passengers = passengers\n",
    "    def pick(self, name):\n",
    "        self.passengers.append(name)\n",
    "    def drop(self, name):\n",
    "        self.passengers.remove(name)\n",
    "        \n",
    "bus1 = TwilightBus(['A', 'B', 'C'])\n",
    "print(f'on bus1 (A/B/C): {bus1.passengers}')\n",
    "bus1.pick('D')\n",
    "print(f'on bus1 (A/B/C/D): {bus1.passengers}')\n",
    "bus1.drop('A')\n",
    "print(f'on bus1 (B/C/D): {bus1.passengers}')\n",
    "bus2 = TwilightBus()\n",
    "print(f'on bus2 (): {bus2.passengers}')\n",
    "bus2. pick('E')\n",
    "print(f'on bus2 (E): {bus2.passengers}')\n",
    "bus3 = TwilightBus()\n",
    "print(f'on bus3 (): {bus3.passengers}')\n",
    "bus3. pick('F')\n",
    "print(f'on bus3 (F): {bus3.passengers}')\n",
    "print(f'on bus2 (E): {bus2.passengers}')"
   ]
  },
  {
   "cell_type": "code",
   "execution_count": 3,
   "metadata": {},
   "outputs": [
    {
     "name": "stdout",
     "output_type": "stream",
     "text": [
      "on bus1 (A/B/C/D/E/F): ['A', 'B', 'C', 'D', 'E', 'F']\n",
      "basketball_team = ['A', 'B', 'C', 'D', 'E', 'F']\n",
      "on bus1 (A/B/C/E/F): ['A', 'B', 'C', 'E', 'F']\n",
      "basketball_team = ['A', 'B', 'C', 'E', 'F']\n",
      "on bus1 (B/C/E/F): ['B', 'C', 'E', 'F']\n",
      "basketball_team = ['B', 'C', 'E', 'F']\n"
     ]
    }
   ],
   "source": [
    "basketball_team = ['A', 'B', 'C', 'D', 'E', 'F']\n",
    "bus1 = TwilightBus(basketball_team)\n",
    "print(f'on bus1 (A/B/C/D/E/F): {bus1.passengers}')\n",
    "print(f'basketball_team = {basketball_team}')\n",
    "bus1.drop('D')\n",
    "print(f'on bus1 (A/B/C/E/F): {bus1.passengers}')\n",
    "print(f'basketball_team = {basketball_team}')\n",
    "bus1.drop('A')\n",
    "print(f'on bus1 (B/C/E/F): {bus1.passengers}')\n",
    "print(f'basketball_team = {basketball_team}')"
   ]
  },
  {
   "cell_type": "code",
   "execution_count": 4,
   "metadata": {},
   "outputs": [],
   "source": [
    "class Bus:\n",
    "    def __init__(self, passengers=None):\n",
    "        if passengers is None:\n",
    "            self.passengers = []\n",
    "        else:\n",
    "            # make a copy()\n",
    "            self.passengers = list(passengers)\n",
    "    def pick(self, name):\n",
    "        self.passengers.append(name)\n",
    "    def drop(self, name):\n",
    "        self.passengers.remove(name)\n"
   ]
  },
  {
   "cell_type": "code",
   "execution_count": 5,
   "metadata": {},
   "outputs": [
    {
     "name": "stdout",
     "output_type": "stream",
     "text": [
      "on bus1 (A/B/C/D/E/F): ['A', 'B', 'C', 'D', 'E', 'F']\n",
      "basketball_team = ['A', 'B', 'C', 'D', 'E', 'F']\n",
      "on bus1 (A/B/C/E/F): ['A', 'B', 'C', 'E', 'F']\n",
      "basketball_team = ['A', 'B', 'C', 'D', 'E', 'F']\n",
      "on bus1 (B/C/E/F): ['B', 'C', 'E', 'F']\n",
      "basketball_team = ['A', 'B', 'C', 'D', 'E', 'F']\n"
     ]
    }
   ],
   "source": [
    "basketball_team = ['A', 'B', 'C', 'D', 'E', 'F']\n",
    "bus1 = Bus(basketball_team)\n",
    "print(f'on bus1 (A/B/C/D/E/F): {bus1.passengers}')\n",
    "print(f'basketball_team = {basketball_team}')\n",
    "bus1.drop('D')\n",
    "print(f'on bus1 (A/B/C/E/F): {bus1.passengers}')\n",
    "print(f'basketball_team = {basketball_team}')\n",
    "bus1.drop('A')\n",
    "print(f'on bus1 (B/C/E/F): {bus1.passengers}')\n",
    "print(f'basketball_team = {basketball_team}')"
   ]
  },
  {
   "cell_type": "code",
   "execution_count": null,
   "metadata": {},
   "outputs": [],
   "source": []
  }
 ],
 "metadata": {
  "kernelspec": {
   "display_name": "Python 3",
   "language": "python",
   "name": "python3"
  },
  "language_info": {
   "codemirror_mode": {
    "name": "ipython",
    "version": 3
   },
   "file_extension": ".py",
   "mimetype": "text/x-python",
   "name": "python",
   "nbconvert_exporter": "python",
   "pygments_lexer": "ipython3",
   "version": "3.7.1"
  }
 },
 "nbformat": 4,
 "nbformat_minor": 2
}
