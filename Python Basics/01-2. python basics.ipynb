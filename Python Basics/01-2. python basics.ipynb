{
 "cells": [
  {
   "cell_type": "markdown",
   "metadata": {},
   "source": [
    "## Python Basics\n",
    "- input()\n",
    "\n",
    "- print()\n",
    "\n",
    "- str.methoud()\n",
    "\n",
    "- Index and Slice\n",
    "\n",
    "- Formatted String Literal"
   ]
  },
  {
   "cell_type": "code",
   "execution_count": 1,
   "metadata": {},
   "outputs": [
    {
     "name": "stdin",
     "output_type": "stream",
     "text": [
      "Please input a 4-digit password:  1234\n"
     ]
    },
    {
     "name": "stdout",
     "output_type": "stream",
     "text": [
      "<class 'str'>\n",
      "123412341234\n"
     ]
    }
   ],
   "source": [
    "# input() 回傳值的型態, 預設為string\n",
    "num = input('Please input a 4-digit password: ')\n",
    "print(type(num))\n",
    "print(num * 3)"
   ]
  },
  {
   "cell_type": "code",
   "execution_count": 2,
   "metadata": {},
   "outputs": [
    {
     "name": "stdin",
     "output_type": "stream",
     "text": [
      "Please input a 4-digit password:  1234\n"
     ]
    },
    {
     "name": "stdout",
     "output_type": "stream",
     "text": [
      "<class 'int'>\n",
      "3702\n"
     ]
    }
   ],
   "source": [
    "# 利用int(), 將字串型態轉換為整數型態.\n",
    "# 另有float()用來轉換成浮點數型態.\n",
    "num = int(input('Please input a 4-digit password: '))\n",
    "print(type(num))\n",
    "print(num * 3)"
   ]
  },
  {
   "cell_type": "code",
   "execution_count": 3,
   "metadata": {},
   "outputs": [
    {
     "name": "stdout",
     "output_type": "stream",
     "text": [
      "<class 'str'>\n"
     ]
    }
   ],
   "source": [
    "# 利用str(), 將數值型態轉換為字串型態.\n",
    "num = str(num)\n",
    "print(type(num))"
   ]
  },
  {
   "cell_type": "code",
   "execution_count": 4,
   "metadata": {},
   "outputs": [
    {
     "name": "stdout",
     "output_type": "stream",
     "text": [
      "this is a beautiful world.\n",
      "THIS IS A BEAUTIFUL WORLD.\n",
      "This Is A Beautiful World.\n",
      "This is a beautiful world.\n",
      "tHIS IS A bEAUTIFUL wORLD.\n",
      "            This is a Beautiful World.            \n",
      "                        This is a Beautiful World.\n",
      "This is a Beautiful World.                        OK\n"
     ]
    }
   ],
   "source": [
    "# 介紹字串的方法(method), str.method()\n",
    "sentence = 'This is a Beautiful World.'\n",
    "print(sentence.lower())\n",
    "print(sentence.upper())\n",
    "print(sentence.title())\n",
    "print(sentence.capitalize())\n",
    "print(sentence.swapcase())\n",
    "print(sentence.center(50))\n",
    "print(sentence.rjust(50))\n",
    "print(sentence.ljust(50), sep='', end='')\n",
    "print('OK')"
   ]
  },
  {
   "cell_type": "code",
   "execution_count": 8,
   "metadata": {},
   "outputs": [
    {
     "name": "stdout",
     "output_type": "stream",
     "text": [
      "Sentence starts with \"This\"? => True\n",
      "Sentence ends with \"This\"? => False\n",
      "Beautiful showed up at index 10\n",
      "Letter \"i\" showed up 3 times in the sentence\n",
      "There are only alphabets and numbers in the sentence? => False\n"
     ]
    }
   ],
   "source": [
    "# 更多字串的方法(method), str.method()\n",
    "print('Sentence starts with \"This\"? =>', sentence.startswith('This'))\n",
    "print('Sentence ends with \"This\"? =>', sentence.endswith('This'))\n",
    "print('Beautiful showed up at index', sentence.find('Beautiful'))\n",
    "print('Letter \"i\" showed up', sentence.count('i'), 'times in the sentence')\n",
    "print('There are only alphabets and numbers in the sentence? =>', sentence.isalnum())"
   ]
  },
  {
   "cell_type": "code",
   "execution_count": 9,
   "metadata": {},
   "outputs": [
    {
     "name": "stdout",
     "output_type": "stream",
     "text": [
      "There are 26 characters in the sentence.\n"
     ]
    }
   ],
   "source": [
    "# len() 是Python內建的函式, 可用於字串, 回傳值為字串的字元數目\n",
    "print('There are', len(sentence), 'characters in the sentence.')"
   ]
  },
  {
   "cell_type": "code",
   "execution_count": 10,
   "metadata": {},
   "outputs": [
    {
     "data": {
      "text/plain": [
       "'data_20181022.txt'"
      ]
     },
     "execution_count": 10,
     "metadata": {},
     "output_type": "execute_result"
    }
   ],
   "source": [
    "date = '20181022'\n",
    "filename = 'data_%s.txt' % date\n",
    "filename"
   ]
  },
  {
   "cell_type": "code",
   "execution_count": 11,
   "metadata": {},
   "outputs": [
    {
     "name": "stdout",
     "output_type": "stream",
     "text": [
      "['This', 'is', 'a', 'Beautiful', 'World.']\n"
     ]
    }
   ],
   "source": [
    "# str.split() 分割字串, 回傳值為一個list\n",
    "sentence = 'This is a Beautiful World.'\n",
    "words = sentence.split(' ')\n",
    "print(words)"
   ]
  },
  {
   "cell_type": "code",
   "execution_count": 12,
   "metadata": {},
   "outputs": [
    {
     "data": {
      "text/plain": [
       "'2018/20/22'"
      ]
     },
     "execution_count": 12,
     "metadata": {},
     "output_type": "execute_result"
    }
   ],
   "source": [
    "date = '2018-20-22'\n",
    "date_list = date.split('-')\n",
    "date = '/'.join(date_list)\n",
    "date"
   ]
  },
  {
   "cell_type": "code",
   "execution_count": 13,
   "metadata": {},
   "outputs": [
    {
     "name": "stdout",
     "output_type": "stream",
     "text": [
      "This/is/a/Beautiful/World.\n"
     ]
    }
   ],
   "source": [
    "# ‘sting’.join(list) 串接字串\n",
    "sentence = '/'.join(words)\n",
    "print(sentence)"
   ]
  },
  {
   "cell_type": "code",
   "execution_count": 14,
   "metadata": {},
   "outputs": [
    {
     "name": "stdout",
     "output_type": "stream",
     "text": [
      "This is a Beautiful day.\n",
      "This is a Beautiful World.\n"
     ]
    }
   ],
   "source": [
    "# str.replace(src_str, dst_str): not an \"inplace\" replacement (不會改變原字串的值) \n",
    "sentence = 'This is a Beautiful World.'\n",
    "print(sentence.replace('World', 'day'))\n",
    "print(sentence)"
   ]
  },
  {
   "cell_type": "code",
   "execution_count": 15,
   "metadata": {},
   "outputs": [
    {
     "name": "stdout",
     "output_type": "stream",
     "text": [
      "This is a Beautiful World.\n",
      "i\n",
      "Ti sa\n",
      "is a Beautiful World.\n",
      "This is a Beautiful World\n",
      ".dlroW lufituaeB a si sihT\n",
      "orl\n"
     ]
    }
   ],
   "source": [
    "# Index and Slice [start: stop: step]\n",
    "print(sentence[:])\n",
    "print(sentence[2])\n",
    "print(sentence[0:10:2])\n",
    "print(sentence[5:])\n",
    "print(sentence[:-1])\n",
    "print(sentence[::-1])\n",
    "print(sentence[-5:-2])"
   ]
  },
  {
   "cell_type": "code",
   "execution_count": 16,
   "metadata": {},
   "outputs": [
    {
     "name": "stdout",
     "output_type": "stream",
     "text": [
      "In 2018, revenue hit $3000000 and increased by 50% compared to 2017.\n"
     ]
    }
   ],
   "source": [
    "this_year = 2018\n",
    "last_year = this_year - 1\n",
    "this_revenue = 3000000\n",
    "last_revenue = 2000000\n",
    "\n",
    "sentence = 'In ' + str(this_year) + ', ' +\\\n",
    "    'revenue hit $' + str(this_revenue) +\\\n",
    "    ' and increased by ' + str(format((this_revenue - last_revenue) / last_revenue * 100, '.0f')) +\\\n",
    "    '% compared to ' + str(last_year) + '.'\n",
    "\n",
    "print(sentence)"
   ]
  },
  {
   "cell_type": "code",
   "execution_count": 17,
   "metadata": {},
   "outputs": [
    {
     "name": "stdout",
     "output_type": "stream",
     "text": [
      "In 2018, revenue hit $3000000 and increased by 50% compared to 2017.\n"
     ]
    }
   ],
   "source": [
    "# 字串格式化(1): %-operator (舊方法)\n",
    "print(\n",
    "    'In %d, revenue hit $%d and increased by %.0f%% compared to %d.' % (\n",
    "    this_year,\n",
    "    this_revenue,\n",
    "    ((this_revenue - last_revenue) / last_revenue * 100),\n",
    "    last_year))"
   ]
  },
  {
   "cell_type": "code",
   "execution_count": 18,
   "metadata": {},
   "outputs": [
    {
     "name": "stdout",
     "output_type": "stream",
     "text": [
      "In     2018, revenue hit $3000000 and increased by 50.000% compared to 2017.\n"
     ]
    }
   ],
   "source": [
    "# 字串格式化(2): str.format()\n",
    "print(\n",
    "    'In {0:8d}, revenue hit ${1} and increased by {2:.3f}% compared to {3:4d}.'.format(\n",
    "    this_year,\n",
    "    this_revenue,\n",
    "    ((this_revenue - last_revenue) / last_revenue * 100),\n",
    "    last_year))"
   ]
  },
  {
   "cell_type": "code",
   "execution_count": 19,
   "metadata": {},
   "outputs": [
    {
     "name": "stdout",
     "output_type": "stream",
     "text": [
      "In 2018, revenue hit $3000000 and increased by   50.000% compared to 2017.\n"
     ]
    }
   ],
   "source": [
    "# 字串格式化(3): f-string (Formatted String Literal) for Python 3.6+\n",
    "print(\n",
    "    f'In {this_year}, '\n",
    "    f'revenue hit ${this_revenue} and increased by '\n",
    "    f'{((this_revenue - last_revenue) / last_revenue * 100):8.3f}% '\n",
    "    f'compared to {last_year}.')"
   ]
  },
  {
   "cell_type": "code",
   "execution_count": null,
   "metadata": {},
   "outputs": [],
   "source": []
  }
 ],
 "metadata": {
  "kernelspec": {
   "display_name": "Python 3",
   "language": "python",
   "name": "python3"
  },
  "language_info": {
   "codemirror_mode": {
    "name": "ipython",
    "version": 3
   },
   "file_extension": ".py",
   "mimetype": "text/x-python",
   "name": "python",
   "nbconvert_exporter": "python",
   "pygments_lexer": "ipython3",
   "version": "3.7.1"
  }
 },
 "nbformat": 4,
 "nbformat_minor": 2
}
