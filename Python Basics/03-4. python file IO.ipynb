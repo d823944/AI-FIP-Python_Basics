{
 "cells": [
  {
   "cell_type": "markdown",
   "metadata": {},
   "source": [
    "## Python File IO\n",
    "- with\n",
    "\n",
    "- import csv\n",
    "\n",
    "- import pandas"
   ]
  },
  {
   "cell_type": "code",
   "execution_count": 5,
   "metadata": {},
   "outputs": [
    {
     "name": "stdout",
     "output_type": "stream",
     "text": [
      "name,score1,score2,score3,score4,score5\n",
      "\n"
     ]
    }
   ],
   "source": [
    "# To read a file’s contents, call f.read(size), which reads some quantity of data and returns it as a string\n",
    "# f.readline() reads a single line from the file\n",
    "with open('data/scores.csv', 'r', encoding='utf-8') as f:\n",
    "    line = f.readline()\n",
    "    print(line)"
   ]
  },
  {
   "cell_type": "code",
   "execution_count": 6,
   "metadata": {},
   "outputs": [
    {
     "name": "stdout",
     "output_type": "stream",
     "text": [
      "['name,score1,score2,score3,score4,score5\\n', 'A,76,22,58,84,72\\n', 'B,31,84,43,16,97\\n', 'C,88,70,36,68,54\\n', 'D,14,74,84,38,35\\n', 'E,23,98,36,57,73\\n', 'F,52,70,75,29,0\\n', 'G,63,49,25,8,14\\n', 'H,98,33,20,84,32\\n', 'I,71,0,27,16,100\\n', 'J,83,56,0,51,76\\n', 'K,86,24,0,86,73\\n', 'L,79,67,79,90,73\\n', 'M,56,71,21,41,97\\n', 'N,59,11,73,85,68\\n', 'O,52,36,56,81,95\\n', 'P,100,58,4,8,3\\n', 'Q,91,4,79,92,94\\n', 'R,51,75,67,17,57\\n', 'S,98,6,3,58,85\\n', 'T,27,39,2,52,5\\n', 'U,27,32,54,86,25\\n', 'V,95,56,35,0,61\\n', 'W,47,19,17,95,48\\n', 'X,49,52,96,54,39\\n', 'Y,4,16,0,59,54\\n', 'Z,36,10,24,98,77']\n"
     ]
    }
   ],
   "source": [
    "# f.readlines() read all lines until EOF\n",
    "with open('data/scores.csv', 'r', encoding='utf-8') as f:\n",
    "    lines = f.readlines()\n",
    "    print(lines)"
   ]
  },
  {
   "cell_type": "code",
   "execution_count": 8,
   "metadata": {},
   "outputs": [
    {
     "name": "stdout",
     "output_type": "stream",
     "text": [
      "Row-0: name,score1,score2,score3,score4,score5\n",
      "\n",
      "Row-1: A,76,22,58,84,72\n",
      "\n",
      "Row-2: B,31,84,43,16,97\n",
      "\n",
      "Row-3: C,88,70,36,68,54\n",
      "\n"
     ]
    }
   ],
   "source": [
    "with open('data/scores.csv', 'r', encoding='utf-8') as f:\n",
    "    lines = f.readlines()\n",
    "    for i, line in enumerate(lines):\n",
    "        print(f'Row-{i}: {line}')\n",
    "        if i == 3:\n",
    "            break"
   ]
  },
  {
   "cell_type": "code",
   "execution_count": 9,
   "metadata": {},
   "outputs": [
    {
     "name": "stdout",
     "output_type": "stream",
     "text": [
      "name,score1,score2,score3,score4,score5\n",
      "\n",
      "A,76,22,58,84,72\n",
      "\n",
      "B,31,84,43,16,97\n",
      "\n",
      "C,88,70,36,68,54\n",
      "\n",
      "D,14,74,84,38,35\n",
      "\n",
      "E,23,98,36,57,73\n",
      "\n",
      "F,52,70,75,29,0\n",
      "\n",
      "G,63,49,25,8,14\n",
      "\n",
      "H,98,33,20,84,32\n",
      "\n",
      "I,71,0,27,16,100\n",
      "\n",
      "J,83,56,0,51,76\n",
      "\n",
      "K,86,24,0,86,73\n",
      "\n",
      "L,79,67,79,90,73\n",
      "\n",
      "M,56,71,21,41,97\n",
      "\n",
      "N,59,11,73,85,68\n",
      "\n",
      "O,52,36,56,81,95\n",
      "\n",
      "P,100,58,4,8,3\n",
      "\n",
      "Q,91,4,79,92,94\n",
      "\n",
      "R,51,75,67,17,57\n",
      "\n",
      "S,98,6,3,58,85\n",
      "\n",
      "T,27,39,2,52,5\n",
      "\n",
      "U,27,32,54,86,25\n",
      "\n",
      "V,95,56,35,0,61\n",
      "\n",
      "W,47,19,17,95,48\n",
      "\n",
      "X,49,52,96,54,39\n",
      "\n",
      "Y,4,16,0,59,54\n",
      "\n",
      "Z,36,10,24,98,77\n"
     ]
    }
   ],
   "source": [
    "with open('data/scores.csv', 'r', encoding='utf-8') as f:\n",
    "    for line in f:\n",
    "        print(line)"
   ]
  },
  {
   "cell_type": "code",
   "execution_count": 10,
   "metadata": {},
   "outputs": [
    {
     "name": "stdout",
     "output_type": "stream",
     "text": [
      "Row-0: ['name', 'score1', 'score2', 'score3', 'score4', 'score5']\n",
      "Row-1: ['A', '76', '22', '58', '84', '72']\n",
      "Row-2: ['B', '31', '84', '43', '16', '97']\n",
      "Row-3: ['C', '88', '70', '36', '68', '54']\n"
     ]
    }
   ],
   "source": [
    "# csv.reader(f) return a reader object which will iterate over lines in the given csvfile.\n",
    "import csv\n",
    "\n",
    "with open('data/scores.csv', 'r', encoding='utf-8') as f:\n",
    "    rows = csv.reader(f)\n",
    "    for i, row in enumerate(rows):\n",
    "        print(f'Row-{i}: {row}')\n",
    "        if i == 3:\n",
    "            break"
   ]
  },
  {
   "cell_type": "code",
   "execution_count": 11,
   "metadata": {},
   "outputs": [
    {
     "name": "stdout",
     "output_type": "stream",
     "text": [
      "name\n",
      "score1\n",
      "score2\n",
      "score3\n",
      "score4\n",
      "score5\n",
      "A\n",
      "76\n",
      "22\n",
      "58\n",
      "84\n",
      "72\n"
     ]
    }
   ],
   "source": [
    "import csv\n",
    "\n",
    "with open('data/scores.csv', 'r', encoding='utf-8') as f:\n",
    "    rows = csv.reader(f)\n",
    "    for i, row in enumerate(rows):\n",
    "        for cell in row:\n",
    "            print(cell)\n",
    "        if i == 1:\n",
    "            break"
   ]
  },
  {
   "cell_type": "code",
   "execution_count": 12,
   "metadata": {},
   "outputs": [
    {
     "name": "stdout",
     "output_type": "stream",
     "text": [
      "name\n",
      "A\n",
      "B\n",
      "C\n",
      "D\n",
      "E\n"
     ]
    }
   ],
   "source": [
    "import csv\n",
    "\n",
    "with open('data/scores.csv', 'r', encoding='utf-8') as f:\n",
    "    reader = csv.reader(f)\n",
    "    for i, row in enumerate(reader):\n",
    "        print(row[0])\n",
    "        if i == 5:\n",
    "            break"
   ]
  },
  {
   "cell_type": "code",
   "execution_count": 13,
   "metadata": {},
   "outputs": [
    {
     "name": "stdout",
     "output_type": "stream",
     "text": [
      "A 58\n"
     ]
    }
   ],
   "source": [
    "# Create an object that operates like a regular reader but maps the information in each row to an \n",
    "# OrderedDict whose keys are given by the optional fieldnames parameter.\n",
    "# The fieldnames parameter is a sequence. If fieldnames is omitted, the values in the first row of file f \n",
    "# will be used as the fieldnames.\n",
    "\n",
    "import csv\n",
    "\n",
    "with open('data/scores.csv', 'r', encoding='utf-8') as f:\n",
    "    reader = csv.DictReader(f)\n",
    "    for row in reader:\n",
    "        print(row['name'], row['score3'])\n",
    "        break"
   ]
  },
  {
   "cell_type": "code",
   "execution_count": 14,
   "metadata": {},
   "outputs": [],
   "source": [
    "# f.write(string) writes the contents of string to the file\n",
    "\n",
    "import random\n",
    "\n",
    "with open('data/test.txt', 'w', encoding='utf-8') as f:\n",
    "    for i in range(10):\n",
    "        f.write(chr(random.randint(97, 122)))"
   ]
  },
  {
   "cell_type": "code",
   "execution_count": 15,
   "metadata": {},
   "outputs": [],
   "source": [
    "# csv.writer() return a writer object responsible for converting the user’s data into \n",
    "# delimited strings on the given file-like object.\n",
    "import csv\n",
    "\n",
    "with open('data/grocery.csv', 'w', newline='') as csvfile:\n",
    "    writer = csv.writer(csvfile, delimiter=',')\n",
    "    writer.writerow(['Apple', 'Grape', 'Banana', 'Papaya'])\n",
    "    writer.writerow(['Egg'] * 3 + ['Milk'])"
   ]
  },
  {
   "cell_type": "code",
   "execution_count": 16,
   "metadata": {},
   "outputs": [],
   "source": [
    "# Create an object which operates like a regular writer but maps dictionaries onto output rows. \n",
    "# The fieldnames parameter is a sequence of keys that identify the order in which values in the \n",
    "# dictionary passed to the writerow() method are written to file f.\n",
    "\n",
    "import csv\n",
    "\n",
    "with open('data/names.csv', 'w', newline='') as csvfile:\n",
    "    fieldnames = ['first_name', 'last_name']\n",
    "    writer = csv.DictWriter(csvfile, fieldnames=fieldnames)\n",
    "    \n",
    "    writer.writeheader()\n",
    "    \n",
    "    writer.writerow({'first_name': 'Ann', 'last_name': 'Chen'})\n",
    "    writer.writerow({'first_name': 'Bob', 'last_name': 'Lee'})\n",
    "    writer.writerow({'first_name': 'Claire', 'last_name': 'Lin'})"
   ]
  },
  {
   "cell_type": "code",
   "execution_count": 17,
   "metadata": {},
   "outputs": [
    {
     "data": {
      "text/plain": [
       "Text(0, 0.5, 'Microchip Test 2')"
      ]
     },
     "execution_count": 17,
     "metadata": {},
     "output_type": "execute_result"
    },
    {
     "data": {
      "image/png": "[encoded data removed]",
      "text/plain": [
       "<Figure size 432x288 with 1 Axes>"
      ]
     },
     "metadata": {
      "needs_background": "light"
     },
     "output_type": "display_data"
    }
   ],
   "source": [
    "%matplotlib inline\n",
    "import numpy as np\n",
    "import matplotlib.pyplot as plt\n",
    "\n",
    "data = np.loadtxt('data/ex2data2.txt', delimiter=',')\n",
    "\n",
    "#plt.scatter(data[:, 0], data[:, 1])\n",
    "plt.scatter(data[np.where(data[:, 2]==1), 0], data[np.where(data[:, 2]==1), 1], marker='+', c='black', label='y = 1')\n",
    "plt.scatter(data[np.where(data[:, 2]==0), 0], data[np.where(data[:, 2]==0), 1], marker='o', c='yellow', edgecolor='k', label='y = 0')\n",
    "plt.legend()\n",
    "plt.xlabel('Microchip Test 1')\n",
    "plt.ylabel('Microchip Test 2')"
   ]
  },
  {
   "cell_type": "code",
   "execution_count": 18,
   "metadata": {},
   "outputs": [
    {
     "data": {
      "text/html": [
       "<div>\n",
       "<style scoped>\n",
       "    .dataframe tbody tr th:only-of-type {\n",
       "        vertical-align: middle;\n",
       "    }\n",
       "\n",
       "    .dataframe tbody tr th {\n",
       "        vertical-align: top;\n",
       "    }\n",
       "\n",
       "    .dataframe thead th {\n",
       "        text-align: right;\n",
       "    }\n",
       "</style>\n",
       "<table border=\"1\" class=\"dataframe\">\n",
       "  <thead>\n",
       "    <tr style=\"text-align: right;\">\n",
       "      <th></th>\n",
       "      <th>name</th>\n",
       "      <th>score1</th>\n",
       "      <th>score2</th>\n",
       "      <th>score3</th>\n",
       "      <th>score4</th>\n",
       "      <th>score5</th>\n",
       "    </tr>\n",
       "  </thead>\n",
       "  <tbody>\n",
       "    <tr>\n",
       "      <th>0</th>\n",
       "      <td>A</td>\n",
       "      <td>76</td>\n",
       "      <td>22</td>\n",
       "      <td>58</td>\n",
       "      <td>84</td>\n",
       "      <td>72</td>\n",
       "    </tr>\n",
       "    <tr>\n",
       "      <th>1</th>\n",
       "      <td>B</td>\n",
       "      <td>31</td>\n",
       "      <td>84</td>\n",
       "      <td>43</td>\n",
       "      <td>16</td>\n",
       "      <td>97</td>\n",
       "    </tr>\n",
       "    <tr>\n",
       "      <th>2</th>\n",
       "      <td>C</td>\n",
       "      <td>88</td>\n",
       "      <td>70</td>\n",
       "      <td>36</td>\n",
       "      <td>68</td>\n",
       "      <td>54</td>\n",
       "    </tr>\n",
       "    <tr>\n",
       "      <th>3</th>\n",
       "      <td>D</td>\n",
       "      <td>14</td>\n",
       "      <td>74</td>\n",
       "      <td>84</td>\n",
       "      <td>38</td>\n",
       "      <td>35</td>\n",
       "    </tr>\n",
       "    <tr>\n",
       "      <th>4</th>\n",
       "      <td>E</td>\n",
       "      <td>23</td>\n",
       "      <td>98</td>\n",
       "      <td>36</td>\n",
       "      <td>57</td>\n",
       "      <td>73</td>\n",
       "    </tr>\n",
       "  </tbody>\n",
       "</table>\n",
       "</div>"
      ],
      "text/plain": [
       "  name  score1  score2  score3  score4  score5\n",
       "0    A      76      22      58      84      72\n",
       "1    B      31      84      43      16      97\n",
       "2    C      88      70      36      68      54\n",
       "3    D      14      74      84      38      35\n",
       "4    E      23      98      36      57      73"
      ]
     },
     "execution_count": 18,
     "metadata": {},
     "output_type": "execute_result"
    }
   ],
   "source": [
    "import pandas as pd\n",
    "\n",
    "df = pd.read_csv('data/scores.csv')\n",
    "\n",
    "df.head()"
   ]
  },
  {
   "cell_type": "code",
   "execution_count": null,
   "metadata": {},
   "outputs": [],
   "source": []
  }
 ],
 "metadata": {
  "kernelspec": {
   "display_name": "Python 3",
   "language": "python",
   "name": "python3"
  },
  "language_info": {
   "codemirror_mode": {
    "name": "ipython",
    "version": 3
   },
   "file_extension": ".py",
   "mimetype": "text/x-python",
   "name": "python",
   "nbconvert_exporter": "python",
   "pygments_lexer": "ipython3",
   "version": "3.7.1"
  }
 },
 "nbformat": 4,
 "nbformat_minor": 2
}
